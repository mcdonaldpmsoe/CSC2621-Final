{
 "cells": [
  {
   "cell_type": "code",
   "execution_count": 1,
   "id": "initial_id",
   "metadata": {
    "ExecuteTime": {
     "end_time": "2024-04-29T03:32:42.322402100Z",
     "start_time": "2024-04-29T03:32:40.122900Z"
    },
    "collapsed": true
   },
   "outputs": [],
   "source": [
    "import pandas as pd\n",
    "import glob\n",
    "import seaborn as sns\n",
    "import matplotlib.pyplot as plt\n",
    "from sklearn.preprocessing import StandardScaler\n",
    "from sklearn.model_selection import GridSearchCV\n",
    "import copy\n",
    "from scipy.stats import shapiro, pearsonr, kruskal\n",
    "import tabulate\n",
    "from tabulate import tabulate\n",
    "import numpy as np\n",
    "from sklearn.cluster import KMeans\n",
    "from sklearn.ensemble import RandomForestClassifier\n",
    "from sklearn.model_selection import train_test_split\n",
    "from sklearn.metrics import accuracy_score, confusion_matrix"
   ]
  },
  {
   "cell_type": "markdown",
   "id": "e5e34570",
   "metadata": {},
   "source": [
    "# Final Project: Predicting an NFL Player's Draft Position Based on Combine Performance\n",
    "\n",
    "The NFL combine is a way for aspiring NFL players to showcase their skills, it is a way to get noticed by NFL scouts and teams. Players attend the combine with the hope to improve their draft stock, get drafted higher, and in return get more money for it. It is a nerve filled experience with the understanding that one mistake can hurt their chance of getting drafted at all. The goal of this project is to determine how much effect the combine has on a draft prospect. Are there certain drills that have a higher weight towards their draft stock, and how does performance of these drills vary from position to position? Does a bad combine performance mean that player will get drafted later?\n",
    "\n",
    "We are going to be creating classification models in order to predict which round a player gets drafted in. \n",
    "\n",
    "Here is some background information that might be of use. The NFL draft is made of up 7 rounds. Each round has 32 picks, one for each of the 32 teams. So when a player is drafted by team, they get drafted at a certain overall / pick. This is just a running count of all the draft picks that have happened so far, starting at pick number one. \n",
    "\n",
    "So the player that is picked at number one is seen to be the best player available in the entire draft for the team that is picking them. \n",
    "\n",
    "But as mentioned previously, in this project we are just going to be classifying based on rounds. That is just because classifying based on the overall pick they are holds way too many options and it would be unlikely that the model could predict any correctly. So by limiting it to just the round they were drafted we can hope to see some accurate results. "
   ]
  },
  {
   "cell_type": "markdown",
   "id": "f484398f",
   "metadata": {},
   "source": [
    "# Research Question\n",
    "\n",
    "How does combine performance affect the draft stock of an NFL athlete?"
   ]
  },
  {
   "cell_type": "markdown",
   "id": "e37ddc3e",
   "metadata": {},
   "source": [
    "# Hypothesis\n",
    "\n",
    "The better the NFL draftees combine performance, the higher they will get drafted.  "
   ]
  },
  {
   "cell_type": "markdown",
   "id": "c5f5b184",
   "metadata": {},
   "source": [
    "# Datasets\n",
    "\n",
    "We used two datasets for this project \n",
    "\n",
    "1. [Combine Data on Kaggle](https://www.kaggle.com/datasets/mitchellweg1/nfl-combine-results-dataset-2000-2022)\n",
    "2. [Draft Order Data on Kaggle](https://www.kaggle.com/datasets/jacklichtenstein/espn-nfl-draft-prospect-data?resource=download)\n",
    "\n",
    "The first dataset outlines the players and their combine statistics. This includes a player’s time for their 40 yard dash, their weight, height, bench press, etc. We want to analyze which of these drills impact the player’s draft stock the most. For instance, how does a slower 40 yard dash hurt a wide receiver's draft position? Or does a drill like bench press affect how a quarterback is drafted? Using a combination of these variables we hope that we can predict where a player is going to be drafted with reasonable accuracy. \n",
    "\n",
    "In order to do that we need another dataset that highlights the player’s draft position. The second Kaggle dataset has data from each player drafted from 1967 to 2021, and the position that player was drafted. We can combine the draft position data with the combine data to train a model to make accurate predictions on the draft position of the player. \n"
   ]
  },
  {
   "cell_type": "markdown",
   "id": "2012d081",
   "metadata": {},
   "source": [
    "# Data Preprocessing\n",
    "\n",
    "Data in these datasets is not going to be perfect. There are going to be a lot of missing values since not every player participates in ALL of the combine drills. There is more than likely going to be class imbalances as well, player's that get drafted in the first round may not even bother showing up to the combine, and there may not be many players from the first round in this dataset\n",
    "\n",
    "But first, we need to merge these datasets together in order to be able to determine the draft position based on the player's combine stats.\n"
   ]
  },
  {
   "cell_type": "code",
   "execution_count": 2,
   "id": "3479e62aae655cc1",
   "metadata": {
    "ExecuteTime": {
     "end_time": "2024-04-29T03:32:42.338164400Z",
     "start_time": "2024-04-29T03:32:41.790691400Z"
    },
    "collapsed": false
   },
   "outputs": [
    {
     "data": {
      "text/html": [
       "<div>\n",
       "<style scoped>\n",
       "    .dataframe tbody tr th:only-of-type {\n",
       "        vertical-align: middle;\n",
       "    }\n",
       "\n",
       "    .dataframe tbody tr th {\n",
       "        vertical-align: top;\n",
       "    }\n",
       "\n",
       "    .dataframe thead th {\n",
       "        text-align: right;\n",
       "    }\n",
       "</style>\n",
       "<table border=\"1\" class=\"dataframe\">\n",
       "  <thead>\n",
       "    <tr style=\"text-align: right;\">\n",
       "      <th></th>\n",
       "      <th>draft_year</th>\n",
       "      <th>player_name</th>\n",
       "      <th>school</th>\n",
       "      <th>pick</th>\n",
       "      <th>overall</th>\n",
       "      <th>round</th>\n",
       "    </tr>\n",
       "  </thead>\n",
       "  <tbody>\n",
       "    <tr>\n",
       "      <th>0</th>\n",
       "      <td>1967</td>\n",
       "      <td>Bubba Smith</td>\n",
       "      <td>Michigan State</td>\n",
       "      <td>1.0</td>\n",
       "      <td>1.0</td>\n",
       "      <td>1.0</td>\n",
       "    </tr>\n",
       "    <tr>\n",
       "      <th>1</th>\n",
       "      <td>1967</td>\n",
       "      <td>Clinton Jones</td>\n",
       "      <td>Michigan State</td>\n",
       "      <td>2.0</td>\n",
       "      <td>2.0</td>\n",
       "      <td>1.0</td>\n",
       "    </tr>\n",
       "    <tr>\n",
       "      <th>2</th>\n",
       "      <td>1967</td>\n",
       "      <td>Steve Spurrier</td>\n",
       "      <td>Florida</td>\n",
       "      <td>3.0</td>\n",
       "      <td>3.0</td>\n",
       "      <td>1.0</td>\n",
       "    </tr>\n",
       "    <tr>\n",
       "      <th>3</th>\n",
       "      <td>1967</td>\n",
       "      <td>Bob Griese</td>\n",
       "      <td>Purdue</td>\n",
       "      <td>4.0</td>\n",
       "      <td>4.0</td>\n",
       "      <td>1.0</td>\n",
       "    </tr>\n",
       "    <tr>\n",
       "      <th>4</th>\n",
       "      <td>1967</td>\n",
       "      <td>George Webster</td>\n",
       "      <td>Michigan State</td>\n",
       "      <td>5.0</td>\n",
       "      <td>5.0</td>\n",
       "      <td>1.0</td>\n",
       "    </tr>\n",
       "  </tbody>\n",
       "</table>\n",
       "</div>"
      ],
      "text/plain": [
       "   draft_year     player_name          school  pick  overall  round\n",
       "0        1967     Bubba Smith  Michigan State   1.0      1.0    1.0\n",
       "1        1967   Clinton Jones  Michigan State   2.0      2.0    1.0\n",
       "2        1967  Steve Spurrier         Florida   3.0      3.0    1.0\n",
       "3        1967      Bob Griese          Purdue   4.0      4.0    1.0\n",
       "4        1967  George Webster  Michigan State   5.0      5.0    1.0"
      ]
     },
     "execution_count": 2,
     "metadata": {},
     "output_type": "execute_result"
    }
   ],
   "source": [
    "csv_files = glob.glob('./combine-data/*.csv')\n",
    "draft_df = pd.read_csv('./draft-data/nfl_draft_prospects.csv')\n",
    "comb_df = pd.DataFrame()\n",
    "\n",
    "for file in csv_files:\n",
    "    df = pd.read_csv(file)\n",
    "    comb_df = pd.concat([comb_df, df])\n",
    "\n",
    "select_df = draft_df[['draft_year', 'player_name', 'school', 'pick', 'overall', 'round']]\n",
    "select_df.head()"
   ]
  },
  {
   "cell_type": "code",
   "execution_count": 3,
   "id": "71ce76ab60264d76",
   "metadata": {
    "ExecuteTime": {
     "end_time": "2024-04-29T03:32:42.338164400Z",
     "start_time": "2024-04-29T03:32:42.046381400Z"
    },
    "collapsed": false
   },
   "outputs": [],
   "source": [
    "merged_df = pd.merge(comb_df, select_df, left_on=['Player', 'School'], right_on=['player_name', 'school'], how='inner')\n",
    "merged_df = merged_df.drop(['player_name', 'school'], axis=1)"
   ]
  },
  {
   "cell_type": "code",
   "execution_count": 4,
   "id": "79e220670f16a2ec",
   "metadata": {
    "ExecuteTime": {
     "end_time": "2024-04-29T03:32:42.341190400Z",
     "start_time": "2024-04-29T03:32:42.069225800Z"
    },
    "collapsed": false
   },
   "outputs": [
    {
     "data": {
      "text/html": [
       "<div>\n",
       "<style scoped>\n",
       "    .dataframe tbody tr th:only-of-type {\n",
       "        vertical-align: middle;\n",
       "    }\n",
       "\n",
       "    .dataframe tbody tr th {\n",
       "        vertical-align: top;\n",
       "    }\n",
       "\n",
       "    .dataframe thead th {\n",
       "        text-align: right;\n",
       "    }\n",
       "</style>\n",
       "<table border=\"1\" class=\"dataframe\">\n",
       "  <thead>\n",
       "    <tr style=\"text-align: right;\">\n",
       "      <th></th>\n",
       "      <th>Player</th>\n",
       "      <th>Pos</th>\n",
       "      <th>School</th>\n",
       "      <th>Ht</th>\n",
       "      <th>Wt</th>\n",
       "      <th>40yd</th>\n",
       "      <th>Vertical</th>\n",
       "      <th>Bench</th>\n",
       "      <th>Broad Jump</th>\n",
       "      <th>3Cone</th>\n",
       "      <th>Shuttle</th>\n",
       "    </tr>\n",
       "  </thead>\n",
       "  <tbody>\n",
       "    <tr>\n",
       "      <th>0</th>\n",
       "      <td>John Abraham</td>\n",
       "      <td>OLB</td>\n",
       "      <td>South Carolina</td>\n",
       "      <td>6-4</td>\n",
       "      <td>252.0</td>\n",
       "      <td>4.55</td>\n",
       "      <td>NaN</td>\n",
       "      <td>NaN</td>\n",
       "      <td>NaN</td>\n",
       "      <td>NaN</td>\n",
       "      <td>NaN</td>\n",
       "    </tr>\n",
       "    <tr>\n",
       "      <th>1</th>\n",
       "      <td>Shaun Alexander</td>\n",
       "      <td>RB</td>\n",
       "      <td>Alabama</td>\n",
       "      <td>6-0</td>\n",
       "      <td>218.0</td>\n",
       "      <td>4.58</td>\n",
       "      <td>NaN</td>\n",
       "      <td>NaN</td>\n",
       "      <td>NaN</td>\n",
       "      <td>NaN</td>\n",
       "      <td>NaN</td>\n",
       "    </tr>\n",
       "    <tr>\n",
       "      <th>2</th>\n",
       "      <td>Darnell Alford</td>\n",
       "      <td>OT</td>\n",
       "      <td>Boston Col.</td>\n",
       "      <td>6-4</td>\n",
       "      <td>334.0</td>\n",
       "      <td>5.56</td>\n",
       "      <td>25.0</td>\n",
       "      <td>23.0</td>\n",
       "      <td>94.0</td>\n",
       "      <td>8.48</td>\n",
       "      <td>4.98</td>\n",
       "    </tr>\n",
       "    <tr>\n",
       "      <th>3</th>\n",
       "      <td>Kyle Allamon</td>\n",
       "      <td>TE</td>\n",
       "      <td>Texas Tech</td>\n",
       "      <td>6-2</td>\n",
       "      <td>253.0</td>\n",
       "      <td>4.97</td>\n",
       "      <td>29.0</td>\n",
       "      <td>NaN</td>\n",
       "      <td>104.0</td>\n",
       "      <td>7.29</td>\n",
       "      <td>4.49</td>\n",
       "    </tr>\n",
       "    <tr>\n",
       "      <th>4</th>\n",
       "      <td>Rashard Anderson</td>\n",
       "      <td>CB</td>\n",
       "      <td>Jackson State</td>\n",
       "      <td>6-2</td>\n",
       "      <td>206.0</td>\n",
       "      <td>4.55</td>\n",
       "      <td>34.0</td>\n",
       "      <td>NaN</td>\n",
       "      <td>123.0</td>\n",
       "      <td>7.18</td>\n",
       "      <td>4.15</td>\n",
       "    </tr>\n",
       "    <tr>\n",
       "      <th>5</th>\n",
       "      <td>Jake Arians</td>\n",
       "      <td>K</td>\n",
       "      <td>Ala-Birmingham</td>\n",
       "      <td>5-10</td>\n",
       "      <td>202.0</td>\n",
       "      <td>NaN</td>\n",
       "      <td>NaN</td>\n",
       "      <td>NaN</td>\n",
       "      <td>NaN</td>\n",
       "      <td>NaN</td>\n",
       "      <td>NaN</td>\n",
       "    </tr>\n",
       "    <tr>\n",
       "      <th>6</th>\n",
       "      <td>LaVar Arrington</td>\n",
       "      <td>OLB</td>\n",
       "      <td>Penn State</td>\n",
       "      <td>6-3</td>\n",
       "      <td>250.0</td>\n",
       "      <td>4.53</td>\n",
       "      <td>NaN</td>\n",
       "      <td>NaN</td>\n",
       "      <td>NaN</td>\n",
       "      <td>NaN</td>\n",
       "      <td>NaN</td>\n",
       "    </tr>\n",
       "    <tr>\n",
       "      <th>7</th>\n",
       "      <td>Corey Atkins</td>\n",
       "      <td>OLB</td>\n",
       "      <td>South Carolina</td>\n",
       "      <td>6-0</td>\n",
       "      <td>237.0</td>\n",
       "      <td>4.72</td>\n",
       "      <td>31.0</td>\n",
       "      <td>21.0</td>\n",
       "      <td>112.0</td>\n",
       "      <td>7.96</td>\n",
       "      <td>4.39</td>\n",
       "    </tr>\n",
       "    <tr>\n",
       "      <th>8</th>\n",
       "      <td>Kyle Atteberry</td>\n",
       "      <td>K</td>\n",
       "      <td>Baylor</td>\n",
       "      <td>6-0</td>\n",
       "      <td>167.0</td>\n",
       "      <td>NaN</td>\n",
       "      <td>NaN</td>\n",
       "      <td>NaN</td>\n",
       "      <td>NaN</td>\n",
       "      <td>NaN</td>\n",
       "      <td>NaN</td>\n",
       "    </tr>\n",
       "    <tr>\n",
       "      <th>9</th>\n",
       "      <td>Reggie Austin</td>\n",
       "      <td>CB</td>\n",
       "      <td>Wake Forest</td>\n",
       "      <td>5-9</td>\n",
       "      <td>175.0</td>\n",
       "      <td>4.44</td>\n",
       "      <td>35.0</td>\n",
       "      <td>17.0</td>\n",
       "      <td>119.0</td>\n",
       "      <td>7.03</td>\n",
       "      <td>4.14</td>\n",
       "    </tr>\n",
       "  </tbody>\n",
       "</table>\n",
       "</div>"
      ],
      "text/plain": [
       "             Player  Pos          School    Ht     Wt  40yd  Vertical  Bench  \\\n",
       "0      John Abraham  OLB  South Carolina   6-4  252.0  4.55       NaN    NaN   \n",
       "1   Shaun Alexander   RB         Alabama   6-0  218.0  4.58       NaN    NaN   \n",
       "2    Darnell Alford   OT     Boston Col.   6-4  334.0  5.56      25.0   23.0   \n",
       "3      Kyle Allamon   TE      Texas Tech   6-2  253.0  4.97      29.0    NaN   \n",
       "4  Rashard Anderson   CB   Jackson State   6-2  206.0  4.55      34.0    NaN   \n",
       "5       Jake Arians    K  Ala-Birmingham  5-10  202.0   NaN       NaN    NaN   \n",
       "6   LaVar Arrington  OLB      Penn State   6-3  250.0  4.53       NaN    NaN   \n",
       "7      Corey Atkins  OLB  South Carolina   6-0  237.0  4.72      31.0   21.0   \n",
       "8    Kyle Atteberry    K          Baylor   6-0  167.0   NaN       NaN    NaN   \n",
       "9     Reggie Austin   CB     Wake Forest   5-9  175.0  4.44      35.0   17.0   \n",
       "\n",
       "   Broad Jump  3Cone  Shuttle  \n",
       "0         NaN    NaN      NaN  \n",
       "1         NaN    NaN      NaN  \n",
       "2        94.0   8.48     4.98  \n",
       "3       104.0   7.29     4.49  \n",
       "4       123.0   7.18     4.15  \n",
       "5         NaN    NaN      NaN  \n",
       "6         NaN    NaN      NaN  \n",
       "7       112.0   7.96     4.39  \n",
       "8         NaN    NaN      NaN  \n",
       "9       119.0   7.03     4.14  "
      ]
     },
     "execution_count": 4,
     "metadata": {},
     "output_type": "execute_result"
    }
   ],
   "source": [
    "comb_df.head(10)"
   ]
  },
  {
   "cell_type": "code",
   "execution_count": 5,
   "id": "ce934d74856df631",
   "metadata": {
    "ExecuteTime": {
     "end_time": "2024-04-29T03:32:42.344198800Z",
     "start_time": "2024-04-29T03:32:42.095111300Z"
    },
    "collapsed": false
   },
   "outputs": [
    {
     "data": {
      "text/html": [
       "<div>\n",
       "<style scoped>\n",
       "    .dataframe tbody tr th:only-of-type {\n",
       "        vertical-align: middle;\n",
       "    }\n",
       "\n",
       "    .dataframe tbody tr th {\n",
       "        vertical-align: top;\n",
       "    }\n",
       "\n",
       "    .dataframe thead th {\n",
       "        text-align: right;\n",
       "    }\n",
       "</style>\n",
       "<table border=\"1\" class=\"dataframe\">\n",
       "  <thead>\n",
       "    <tr style=\"text-align: right;\">\n",
       "      <th></th>\n",
       "      <th>Player</th>\n",
       "      <th>Pos</th>\n",
       "      <th>School</th>\n",
       "      <th>Ht</th>\n",
       "      <th>Wt</th>\n",
       "      <th>40yd</th>\n",
       "      <th>Vertical</th>\n",
       "      <th>Bench</th>\n",
       "      <th>Broad Jump</th>\n",
       "      <th>3Cone</th>\n",
       "      <th>Shuttle</th>\n",
       "      <th>draft_year</th>\n",
       "      <th>pick</th>\n",
       "      <th>overall</th>\n",
       "      <th>round</th>\n",
       "    </tr>\n",
       "  </thead>\n",
       "  <tbody>\n",
       "    <tr>\n",
       "      <th>0</th>\n",
       "      <td>John Abraham</td>\n",
       "      <td>OLB</td>\n",
       "      <td>South Carolina</td>\n",
       "      <td>6-4</td>\n",
       "      <td>252.0</td>\n",
       "      <td>4.55</td>\n",
       "      <td>NaN</td>\n",
       "      <td>NaN</td>\n",
       "      <td>NaN</td>\n",
       "      <td>NaN</td>\n",
       "      <td>NaN</td>\n",
       "      <td>2000</td>\n",
       "      <td>13.0</td>\n",
       "      <td>13.0</td>\n",
       "      <td>1.0</td>\n",
       "    </tr>\n",
       "    <tr>\n",
       "      <th>1</th>\n",
       "      <td>Shaun Alexander</td>\n",
       "      <td>RB</td>\n",
       "      <td>Alabama</td>\n",
       "      <td>6-0</td>\n",
       "      <td>218.0</td>\n",
       "      <td>4.58</td>\n",
       "      <td>NaN</td>\n",
       "      <td>NaN</td>\n",
       "      <td>NaN</td>\n",
       "      <td>NaN</td>\n",
       "      <td>NaN</td>\n",
       "      <td>2000</td>\n",
       "      <td>19.0</td>\n",
       "      <td>19.0</td>\n",
       "      <td>1.0</td>\n",
       "    </tr>\n",
       "    <tr>\n",
       "      <th>2</th>\n",
       "      <td>Rashard Anderson</td>\n",
       "      <td>CB</td>\n",
       "      <td>Jackson State</td>\n",
       "      <td>6-2</td>\n",
       "      <td>206.0</td>\n",
       "      <td>4.55</td>\n",
       "      <td>34.0</td>\n",
       "      <td>NaN</td>\n",
       "      <td>123.0</td>\n",
       "      <td>7.18</td>\n",
       "      <td>4.15</td>\n",
       "      <td>2000</td>\n",
       "      <td>23.0</td>\n",
       "      <td>23.0</td>\n",
       "      <td>1.0</td>\n",
       "    </tr>\n",
       "    <tr>\n",
       "      <th>3</th>\n",
       "      <td>LaVar Arrington</td>\n",
       "      <td>OLB</td>\n",
       "      <td>Penn State</td>\n",
       "      <td>6-3</td>\n",
       "      <td>250.0</td>\n",
       "      <td>4.53</td>\n",
       "      <td>NaN</td>\n",
       "      <td>NaN</td>\n",
       "      <td>NaN</td>\n",
       "      <td>NaN</td>\n",
       "      <td>NaN</td>\n",
       "      <td>2000</td>\n",
       "      <td>2.0</td>\n",
       "      <td>2.0</td>\n",
       "      <td>1.0</td>\n",
       "    </tr>\n",
       "    <tr>\n",
       "      <th>4</th>\n",
       "      <td>Reggie Austin</td>\n",
       "      <td>CB</td>\n",
       "      <td>Wake Forest</td>\n",
       "      <td>5-9</td>\n",
       "      <td>175.0</td>\n",
       "      <td>4.44</td>\n",
       "      <td>35.0</td>\n",
       "      <td>17.0</td>\n",
       "      <td>119.0</td>\n",
       "      <td>7.03</td>\n",
       "      <td>4.14</td>\n",
       "      <td>2000</td>\n",
       "      <td>31.0</td>\n",
       "      <td>125.0</td>\n",
       "      <td>4.0</td>\n",
       "    </tr>\n",
       "    <tr>\n",
       "      <th>5</th>\n",
       "      <td>Mark Baniewicz</td>\n",
       "      <td>OT</td>\n",
       "      <td>Syracuse</td>\n",
       "      <td>6-6</td>\n",
       "      <td>312.0</td>\n",
       "      <td>5.34</td>\n",
       "      <td>28.0</td>\n",
       "      <td>20.0</td>\n",
       "      <td>96.0</td>\n",
       "      <td>7.72</td>\n",
       "      <td>4.73</td>\n",
       "      <td>2000</td>\n",
       "      <td>41.0</td>\n",
       "      <td>247.0</td>\n",
       "      <td>7.0</td>\n",
       "    </tr>\n",
       "    <tr>\n",
       "      <th>6</th>\n",
       "      <td>Rashidi Barnes</td>\n",
       "      <td>S</td>\n",
       "      <td>Colorado</td>\n",
       "      <td>6-0</td>\n",
       "      <td>208.0</td>\n",
       "      <td>4.62</td>\n",
       "      <td>35.0</td>\n",
       "      <td>10.0</td>\n",
       "      <td>114.0</td>\n",
       "      <td>6.92</td>\n",
       "      <td>4.32</td>\n",
       "      <td>2000</td>\n",
       "      <td>19.0</td>\n",
       "      <td>225.0</td>\n",
       "      <td>7.0</td>\n",
       "    </tr>\n",
       "    <tr>\n",
       "      <th>7</th>\n",
       "      <td>David Barrett</td>\n",
       "      <td>CB</td>\n",
       "      <td>Arkansas</td>\n",
       "      <td>5-10</td>\n",
       "      <td>199.0</td>\n",
       "      <td>4.44</td>\n",
       "      <td>37.5</td>\n",
       "      <td>16.0</td>\n",
       "      <td>116.0</td>\n",
       "      <td>6.81</td>\n",
       "      <td>4.04</td>\n",
       "      <td>2000</td>\n",
       "      <td>8.0</td>\n",
       "      <td>102.0</td>\n",
       "      <td>4.0</td>\n",
       "    </tr>\n",
       "    <tr>\n",
       "      <th>8</th>\n",
       "      <td>William Bartee</td>\n",
       "      <td>CB</td>\n",
       "      <td>Oklahoma</td>\n",
       "      <td>6-1</td>\n",
       "      <td>192.0</td>\n",
       "      <td>4.43</td>\n",
       "      <td>38.5</td>\n",
       "      <td>NaN</td>\n",
       "      <td>124.0</td>\n",
       "      <td>6.70</td>\n",
       "      <td>3.99</td>\n",
       "      <td>2000</td>\n",
       "      <td>23.0</td>\n",
       "      <td>54.0</td>\n",
       "      <td>2.0</td>\n",
       "    </tr>\n",
       "    <tr>\n",
       "      <th>9</th>\n",
       "      <td>Robert Bean</td>\n",
       "      <td>CB</td>\n",
       "      <td>Mississippi State</td>\n",
       "      <td>5-11</td>\n",
       "      <td>178.0</td>\n",
       "      <td>4.50</td>\n",
       "      <td>34.5</td>\n",
       "      <td>NaN</td>\n",
       "      <td>122.0</td>\n",
       "      <td>6.87</td>\n",
       "      <td>4.20</td>\n",
       "      <td>2000</td>\n",
       "      <td>4.0</td>\n",
       "      <td>133.0</td>\n",
       "      <td>5.0</td>\n",
       "    </tr>\n",
       "  </tbody>\n",
       "</table>\n",
       "</div>"
      ],
      "text/plain": [
       "             Player  Pos             School    Ht     Wt  40yd  Vertical  \\\n",
       "0      John Abraham  OLB     South Carolina   6-4  252.0  4.55       NaN   \n",
       "1   Shaun Alexander   RB            Alabama   6-0  218.0  4.58       NaN   \n",
       "2  Rashard Anderson   CB      Jackson State   6-2  206.0  4.55      34.0   \n",
       "3   LaVar Arrington  OLB         Penn State   6-3  250.0  4.53       NaN   \n",
       "4     Reggie Austin   CB        Wake Forest   5-9  175.0  4.44      35.0   \n",
       "5    Mark Baniewicz   OT           Syracuse   6-6  312.0  5.34      28.0   \n",
       "6    Rashidi Barnes    S           Colorado   6-0  208.0  4.62      35.0   \n",
       "7     David Barrett   CB           Arkansas  5-10  199.0  4.44      37.5   \n",
       "8    William Bartee   CB           Oklahoma   6-1  192.0  4.43      38.5   \n",
       "9       Robert Bean   CB  Mississippi State  5-11  178.0  4.50      34.5   \n",
       "\n",
       "   Bench  Broad Jump  3Cone  Shuttle  draft_year  pick  overall  round  \n",
       "0    NaN         NaN    NaN      NaN        2000  13.0     13.0    1.0  \n",
       "1    NaN         NaN    NaN      NaN        2000  19.0     19.0    1.0  \n",
       "2    NaN       123.0   7.18     4.15        2000  23.0     23.0    1.0  \n",
       "3    NaN         NaN    NaN      NaN        2000   2.0      2.0    1.0  \n",
       "4   17.0       119.0   7.03     4.14        2000  31.0    125.0    4.0  \n",
       "5   20.0        96.0   7.72     4.73        2000  41.0    247.0    7.0  \n",
       "6   10.0       114.0   6.92     4.32        2000  19.0    225.0    7.0  \n",
       "7   16.0       116.0   6.81     4.04        2000   8.0    102.0    4.0  \n",
       "8    NaN       124.0   6.70     3.99        2000  23.0     54.0    2.0  \n",
       "9    NaN       122.0   6.87     4.20        2000   4.0    133.0    5.0  "
      ]
     },
     "execution_count": 5,
     "metadata": {},
     "output_type": "execute_result"
    }
   ],
   "source": [
    "merged_df.head(10)"
   ]
  },
  {
   "cell_type": "markdown",
   "id": "ce5c325983996ce8",
   "metadata": {
    "ExecuteTime": {
     "end_time": "2024-03-18T15:36:08.814529300Z",
     "start_time": "2024-03-18T15:36:08.490561800Z"
    },
    "collapsed": false
   },
   "source": [
    "## Handling Missing Values"
   ]
  },
  {
   "cell_type": "markdown",
   "id": "84773461",
   "metadata": {},
   "source": [
    "Missing values are something that is a little tricky with this dataset. There are a lot of missing values, but it is not as easy as filling them in or dropping the ones that have missing data. There is supposed to be missing values, that is because some positions don't do certain drills. For instance quarterbacks do not participate in the bench press drill. So this is going to have to be very position specific. \n",
    "\n",
    "There are also variables such as the height that need to be turned into an actual numeric representation and not the string representation that it is now."
   ]
  },
  {
   "cell_type": "code",
   "execution_count": 6,
   "id": "b7d8692c39735583",
   "metadata": {
    "ExecuteTime": {
     "end_time": "2024-04-29T03:32:42.345194Z",
     "start_time": "2024-04-29T03:32:42.131420900Z"
    },
    "collapsed": false
   },
   "outputs": [],
   "source": [
    "def convert_height(height):\n",
    "    '''\n",
    "    This method converts the parameter height into two decimal places. \n",
    "    This is neccesary because the given value is of type string and a numerical \n",
    "    representation for it is needed.\n",
    "    :param height: \n",
    "    :return: \n",
    "    '''\n",
    "    if height:\n",
    "        feet = int(str(height)[0:1])\n",
    "        inches_str = str(height)[2:]\n",
    "        if inches_str:  \n",
    "            inches = int(inches_str)\n",
    "            return str(feet + round(inches / 12, 2))\n",
    "    return None\n",
    "\n",
    "merged_df = merged_df.dropna(subset=['Ht'])\n",
    "merged_df['Ht'] = merged_df.Ht.apply(lambda x: convert_height(x))"
   ]
  },
  {
   "cell_type": "code",
   "execution_count": 7,
   "id": "ed04eb73",
   "metadata": {
    "ExecuteTime": {
     "end_time": "2024-04-29T03:32:42.348187400Z",
     "start_time": "2024-04-29T03:32:42.161798300Z"
    }
   },
   "outputs": [],
   "source": [
    "# All the positions possible\n",
    "positions = ['CB', 'OT', 'S', 'OG', 'ILB', 'DE', 'RB', 'FB', 'TE', 'OLB', 'DT',\n",
    "       'C', 'WR', 'QB', 'LS', 'EDGE', 'LB', 'OL', 'DL', 'DB']\n",
    "filtered_positions = ['CB', 'OT', 'S', 'OG', 'ILB', 'DE', 'RB', 'FB', 'TE', 'OLB', 'DT',\n",
    "       'C', 'WR', 'EDGE', 'LB', 'OL', 'DL', 'DB']\n",
    "# All of the drills being performed\n",
    "drills = ['40yd', 'Vertical', 'Bench', 'Broad Jump', '3Cone', 'Shuttle']\n",
    "\n",
    "drill_count_per_position = {'Pos' : [], '40yd' : [], 'Vertical' : [], 'Bench' : [], 'Broad Jump' : [], '3Cone' : [], 'Shuttle' : []}"
   ]
  },
  {
   "cell_type": "markdown",
   "id": "63fa17bf",
   "metadata": {},
   "source": [
    "To get an idea of what positions do what drills we are count how drills are done for each position. "
   ]
  },
  {
   "cell_type": "code",
   "execution_count": 8,
   "id": "243b3f91",
   "metadata": {
    "ExecuteTime": {
     "end_time": "2024-04-29T03:32:42.466465500Z",
     "start_time": "2024-04-29T03:32:42.176821800Z"
    }
   },
   "outputs": [],
   "source": [
    "for position in positions:\n",
    "    drill_count_per_position['Pos'].append(position)\n",
    "    for drill in drills:\n",
    "        count = merged_df[merged_df['Pos'] == position][drill].dropna().size\n",
    "        drill_count_per_position[drill].append(count)"
   ]
  },
  {
   "cell_type": "code",
   "execution_count": 9,
   "id": "54b75c36",
   "metadata": {
    "ExecuteTime": {
     "end_time": "2024-04-29T03:32:42.651029100Z",
     "start_time": "2024-04-29T03:32:42.346196800Z"
    }
   },
   "outputs": [
    {
     "data": {
      "text/html": [
       "<div>\n",
       "<style scoped>\n",
       "    .dataframe tbody tr th:only-of-type {\n",
       "        vertical-align: middle;\n",
       "    }\n",
       "\n",
       "    .dataframe tbody tr th {\n",
       "        vertical-align: top;\n",
       "    }\n",
       "\n",
       "    .dataframe thead th {\n",
       "        text-align: right;\n",
       "    }\n",
       "</style>\n",
       "<table border=\"1\" class=\"dataframe\">\n",
       "  <thead>\n",
       "    <tr style=\"text-align: right;\">\n",
       "      <th></th>\n",
       "      <th>Pos</th>\n",
       "      <th>40yd</th>\n",
       "      <th>Vertical</th>\n",
       "      <th>Bench</th>\n",
       "      <th>Broad Jump</th>\n",
       "      <th>3Cone</th>\n",
       "      <th>Shuttle</th>\n",
       "    </tr>\n",
       "  </thead>\n",
       "  <tbody>\n",
       "    <tr>\n",
       "      <th>0</th>\n",
       "      <td>CB</td>\n",
       "      <td>509</td>\n",
       "      <td>420</td>\n",
       "      <td>411</td>\n",
       "      <td>421</td>\n",
       "      <td>323</td>\n",
       "      <td>331</td>\n",
       "    </tr>\n",
       "    <tr>\n",
       "      <th>1</th>\n",
       "      <td>OT</td>\n",
       "      <td>343</td>\n",
       "      <td>290</td>\n",
       "      <td>289</td>\n",
       "      <td>286</td>\n",
       "      <td>268</td>\n",
       "      <td>273</td>\n",
       "    </tr>\n",
       "    <tr>\n",
       "      <th>2</th>\n",
       "      <td>S</td>\n",
       "      <td>351</td>\n",
       "      <td>304</td>\n",
       "      <td>306</td>\n",
       "      <td>303</td>\n",
       "      <td>221</td>\n",
       "      <td>222</td>\n",
       "    </tr>\n",
       "    <tr>\n",
       "      <th>3</th>\n",
       "      <td>OG</td>\n",
       "      <td>230</td>\n",
       "      <td>188</td>\n",
       "      <td>195</td>\n",
       "      <td>184</td>\n",
       "      <td>174</td>\n",
       "      <td>180</td>\n",
       "    </tr>\n",
       "    <tr>\n",
       "      <th>4</th>\n",
       "      <td>ILB</td>\n",
       "      <td>180</td>\n",
       "      <td>148</td>\n",
       "      <td>149</td>\n",
       "      <td>146</td>\n",
       "      <td>114</td>\n",
       "      <td>119</td>\n",
       "    </tr>\n",
       "    <tr>\n",
       "      <th>5</th>\n",
       "      <td>DE</td>\n",
       "      <td>347</td>\n",
       "      <td>277</td>\n",
       "      <td>271</td>\n",
       "      <td>274</td>\n",
       "      <td>242</td>\n",
       "      <td>248</td>\n",
       "    </tr>\n",
       "    <tr>\n",
       "      <th>6</th>\n",
       "      <td>RB</td>\n",
       "      <td>391</td>\n",
       "      <td>332</td>\n",
       "      <td>314</td>\n",
       "      <td>325</td>\n",
       "      <td>234</td>\n",
       "      <td>233</td>\n",
       "    </tr>\n",
       "    <tr>\n",
       "      <th>7</th>\n",
       "      <td>FB</td>\n",
       "      <td>74</td>\n",
       "      <td>65</td>\n",
       "      <td>61</td>\n",
       "      <td>65</td>\n",
       "      <td>61</td>\n",
       "      <td>61</td>\n",
       "    </tr>\n",
       "    <tr>\n",
       "      <th>8</th>\n",
       "      <td>TE</td>\n",
       "      <td>255</td>\n",
       "      <td>213</td>\n",
       "      <td>213</td>\n",
       "      <td>207</td>\n",
       "      <td>183</td>\n",
       "      <td>183</td>\n",
       "    </tr>\n",
       "    <tr>\n",
       "      <th>9</th>\n",
       "      <td>OLB</td>\n",
       "      <td>333</td>\n",
       "      <td>273</td>\n",
       "      <td>261</td>\n",
       "      <td>278</td>\n",
       "      <td>235</td>\n",
       "      <td>240</td>\n",
       "    </tr>\n",
       "    <tr>\n",
       "      <th>10</th>\n",
       "      <td>DT</td>\n",
       "      <td>329</td>\n",
       "      <td>251</td>\n",
       "      <td>245</td>\n",
       "      <td>245</td>\n",
       "      <td>217</td>\n",
       "      <td>222</td>\n",
       "    </tr>\n",
       "    <tr>\n",
       "      <th>11</th>\n",
       "      <td>C</td>\n",
       "      <td>107</td>\n",
       "      <td>88</td>\n",
       "      <td>94</td>\n",
       "      <td>87</td>\n",
       "      <td>86</td>\n",
       "      <td>87</td>\n",
       "    </tr>\n",
       "    <tr>\n",
       "      <th>12</th>\n",
       "      <td>WR</td>\n",
       "      <td>646</td>\n",
       "      <td>540</td>\n",
       "      <td>339</td>\n",
       "      <td>518</td>\n",
       "      <td>414</td>\n",
       "      <td>425</td>\n",
       "    </tr>\n",
       "    <tr>\n",
       "      <th>13</th>\n",
       "      <td>QB</td>\n",
       "      <td>234</td>\n",
       "      <td>199</td>\n",
       "      <td>7</td>\n",
       "      <td>200</td>\n",
       "      <td>186</td>\n",
       "      <td>187</td>\n",
       "    </tr>\n",
       "    <tr>\n",
       "      <th>14</th>\n",
       "      <td>LS</td>\n",
       "      <td>6</td>\n",
       "      <td>5</td>\n",
       "      <td>2</td>\n",
       "      <td>5</td>\n",
       "      <td>4</td>\n",
       "      <td>4</td>\n",
       "    </tr>\n",
       "    <tr>\n",
       "      <th>15</th>\n",
       "      <td>EDGE</td>\n",
       "      <td>30</td>\n",
       "      <td>29</td>\n",
       "      <td>25</td>\n",
       "      <td>29</td>\n",
       "      <td>21</td>\n",
       "      <td>21</td>\n",
       "    </tr>\n",
       "    <tr>\n",
       "      <th>16</th>\n",
       "      <td>LB</td>\n",
       "      <td>59</td>\n",
       "      <td>61</td>\n",
       "      <td>57</td>\n",
       "      <td>60</td>\n",
       "      <td>41</td>\n",
       "      <td>44</td>\n",
       "    </tr>\n",
       "    <tr>\n",
       "      <th>17</th>\n",
       "      <td>OL</td>\n",
       "      <td>68</td>\n",
       "      <td>68</td>\n",
       "      <td>69</td>\n",
       "      <td>67</td>\n",
       "      <td>56</td>\n",
       "      <td>56</td>\n",
       "    </tr>\n",
       "    <tr>\n",
       "      <th>18</th>\n",
       "      <td>DL</td>\n",
       "      <td>72</td>\n",
       "      <td>63</td>\n",
       "      <td>65</td>\n",
       "      <td>60</td>\n",
       "      <td>48</td>\n",
       "      <td>51</td>\n",
       "    </tr>\n",
       "    <tr>\n",
       "      <th>19</th>\n",
       "      <td>DB</td>\n",
       "      <td>27</td>\n",
       "      <td>29</td>\n",
       "      <td>25</td>\n",
       "      <td>29</td>\n",
       "      <td>24</td>\n",
       "      <td>24</td>\n",
       "    </tr>\n",
       "  </tbody>\n",
       "</table>\n",
       "</div>"
      ],
      "text/plain": [
       "     Pos  40yd  Vertical  Bench  Broad Jump  3Cone  Shuttle\n",
       "0     CB   509       420    411         421    323      331\n",
       "1     OT   343       290    289         286    268      273\n",
       "2      S   351       304    306         303    221      222\n",
       "3     OG   230       188    195         184    174      180\n",
       "4    ILB   180       148    149         146    114      119\n",
       "5     DE   347       277    271         274    242      248\n",
       "6     RB   391       332    314         325    234      233\n",
       "7     FB    74        65     61          65     61       61\n",
       "8     TE   255       213    213         207    183      183\n",
       "9    OLB   333       273    261         278    235      240\n",
       "10    DT   329       251    245         245    217      222\n",
       "11     C   107        88     94          87     86       87\n",
       "12    WR   646       540    339         518    414      425\n",
       "13    QB   234       199      7         200    186      187\n",
       "14    LS     6         5      2           5      4        4\n",
       "15  EDGE    30        29     25          29     21       21\n",
       "16    LB    59        61     57          60     41       44\n",
       "17    OL    68        68     69          67     56       56\n",
       "18    DL    72        63     65          60     48       51\n",
       "19    DB    27        29     25          29     24       24"
      ]
     },
     "execution_count": 9,
     "metadata": {},
     "output_type": "execute_result"
    }
   ],
   "source": [
    "drill_count_per_position_df = pd.DataFrame(drill_count_per_position)\n",
    "drill_count_per_position_df.head(20)"
   ]
  },
  {
   "cell_type": "markdown",
   "id": "77e7a5b4",
   "metadata": {},
   "source": [
    "This gives a pretty good idea of what positions partake in what drills. For instance, QB's do not seem to partake in the bench press. But this also shows how some positions do not have many players. For instance LS (Long Snapper) has next to no data associated with it. But for the drills we are going to administer on, we need to make sure that the players have participated in ALL of the drills. Not just some. So lets see how many players per each position have participated in all of the drills..."
   ]
  },
  {
   "cell_type": "code",
   "execution_count": 10,
   "id": "fe6e31b4",
   "metadata": {
    "ExecuteTime": {
     "end_time": "2024-04-29T03:32:42.652028100Z",
     "start_time": "2024-04-29T03:32:42.378930900Z"
    }
   },
   "outputs": [
    {
     "name": "stdout",
     "output_type": "stream",
     "text": [
      "{'CB': 3300, 'OT': 2910, 'S': 2295, 'OG': 1935, 'ILB': 1095, 'DE': 2670, 'RB': 2310, 'FB': 630, 'TE': 2010, 'OLB': 2580, 'DT': 2280, 'C': 975, 'WR': 2610, 'QB': 30, 'LS': 15, 'EDGE': 180, 'LB': 300, 'OL': 555, 'DL': 405, 'DB': 240}\n"
     ]
    }
   ],
   "source": [
    "count_per_pos = {}\n",
    "for position in positions:\n",
    "    temp = merged_df[merged_df['Pos'] == position].dropna()\n",
    "    count_per_pos[position] = temp.size\n",
    "\n",
    "print(count_per_pos)"
   ]
  },
  {
   "cell_type": "markdown",
   "id": "355530a2",
   "metadata": {},
   "source": [
    "There seems to be a sufficent amount of data for each position. However, there are positions that do not make sense to analyze based on combine performance alone. One of those positions is Quarterback. The combine drills in this dataset does not account for how well they throw, which of course is the most important skill for a QB. Another is a Long Snapper, they just do not have enough data to use in this dataset. Besides those two positions every other position should be okay to do.  "
   ]
  },
  {
   "cell_type": "code",
   "execution_count": 11,
   "id": "3ab769a1",
   "metadata": {
    "ExecuteTime": {
     "end_time": "2024-04-29T03:32:42.717221800Z",
     "start_time": "2024-04-29T03:32:42.460372300Z"
    }
   },
   "outputs": [],
   "source": [
    "# Removing those positions now\n",
    "merged_df = merged_df[(merged_df['Pos'] != 'QB') & (merged_df['Pos'] != 'LS')]\n",
    "merged_df = merged_df.dropna()"
   ]
  },
  {
   "cell_type": "markdown",
   "id": "8eb6cfc3",
   "metadata": {},
   "source": [
    "Now lets grab only the necessary data. We are not going to need to know which pick they were, their name, the school they went to. We are not trying to predict any of those variables, nor are we trying to predict on any of those variables."
   ]
  },
  {
   "cell_type": "code",
   "execution_count": 12,
   "id": "1cf8367c",
   "metadata": {
    "ExecuteTime": {
     "end_time": "2024-04-29T03:32:42.753218900Z",
     "start_time": "2024-04-29T03:32:42.483338100Z"
    }
   },
   "outputs": [
    {
     "data": {
      "text/html": [
       "<div>\n",
       "<style scoped>\n",
       "    .dataframe tbody tr th:only-of-type {\n",
       "        vertical-align: middle;\n",
       "    }\n",
       "\n",
       "    .dataframe tbody tr th {\n",
       "        vertical-align: top;\n",
       "    }\n",
       "\n",
       "    .dataframe thead th {\n",
       "        text-align: right;\n",
       "    }\n",
       "</style>\n",
       "<table border=\"1\" class=\"dataframe\">\n",
       "  <thead>\n",
       "    <tr style=\"text-align: right;\">\n",
       "      <th></th>\n",
       "      <th>Pos</th>\n",
       "      <th>Ht</th>\n",
       "      <th>Wt</th>\n",
       "      <th>40yd</th>\n",
       "      <th>Vertical</th>\n",
       "      <th>Bench</th>\n",
       "      <th>Broad Jump</th>\n",
       "      <th>3Cone</th>\n",
       "      <th>Shuttle</th>\n",
       "      <th>round</th>\n",
       "    </tr>\n",
       "  </thead>\n",
       "  <tbody>\n",
       "    <tr>\n",
       "      <th>4</th>\n",
       "      <td>CB</td>\n",
       "      <td>5.75</td>\n",
       "      <td>175.0</td>\n",
       "      <td>4.44</td>\n",
       "      <td>35.0</td>\n",
       "      <td>17.0</td>\n",
       "      <td>119.0</td>\n",
       "      <td>7.03</td>\n",
       "      <td>4.14</td>\n",
       "      <td>4.0</td>\n",
       "    </tr>\n",
       "    <tr>\n",
       "      <th>5</th>\n",
       "      <td>OT</td>\n",
       "      <td>6.5</td>\n",
       "      <td>312.0</td>\n",
       "      <td>5.34</td>\n",
       "      <td>28.0</td>\n",
       "      <td>20.0</td>\n",
       "      <td>96.0</td>\n",
       "      <td>7.72</td>\n",
       "      <td>4.73</td>\n",
       "      <td>7.0</td>\n",
       "    </tr>\n",
       "    <tr>\n",
       "      <th>6</th>\n",
       "      <td>S</td>\n",
       "      <td>6.0</td>\n",
       "      <td>208.0</td>\n",
       "      <td>4.62</td>\n",
       "      <td>35.0</td>\n",
       "      <td>10.0</td>\n",
       "      <td>114.0</td>\n",
       "      <td>6.92</td>\n",
       "      <td>4.32</td>\n",
       "      <td>7.0</td>\n",
       "    </tr>\n",
       "    <tr>\n",
       "      <th>7</th>\n",
       "      <td>CB</td>\n",
       "      <td>5.83</td>\n",
       "      <td>199.0</td>\n",
       "      <td>4.44</td>\n",
       "      <td>37.5</td>\n",
       "      <td>16.0</td>\n",
       "      <td>116.0</td>\n",
       "      <td>6.81</td>\n",
       "      <td>4.04</td>\n",
       "      <td>4.0</td>\n",
       "    </tr>\n",
       "    <tr>\n",
       "      <th>11</th>\n",
       "      <td>S</td>\n",
       "      <td>6.08</td>\n",
       "      <td>207.0</td>\n",
       "      <td>4.62</td>\n",
       "      <td>39.5</td>\n",
       "      <td>15.0</td>\n",
       "      <td>119.0</td>\n",
       "      <td>6.48</td>\n",
       "      <td>4.29</td>\n",
       "      <td>2.0</td>\n",
       "    </tr>\n",
       "  </tbody>\n",
       "</table>\n",
       "</div>"
      ],
      "text/plain": [
       "   Pos    Ht     Wt  40yd  Vertical  Bench  Broad Jump  3Cone  Shuttle  round\n",
       "4   CB  5.75  175.0  4.44      35.0   17.0       119.0   7.03     4.14    4.0\n",
       "5   OT   6.5  312.0  5.34      28.0   20.0        96.0   7.72     4.73    7.0\n",
       "6    S   6.0  208.0  4.62      35.0   10.0       114.0   6.92     4.32    7.0\n",
       "7   CB  5.83  199.0  4.44      37.5   16.0       116.0   6.81     4.04    4.0\n",
       "11   S  6.08  207.0  4.62      39.5   15.0       119.0   6.48     4.29    2.0"
      ]
     },
     "execution_count": 12,
     "metadata": {},
     "output_type": "execute_result"
    }
   ],
   "source": [
    "cols_to_exclude = ['Player', 'draft_year', 'overall', 'School', 'pick']\n",
    "final_combine_data = merged_df.drop(cols_to_exclude, axis=1)\n",
    "final_combine_data.head()"
   ]
  },
  {
   "cell_type": "markdown",
   "id": "8c58c0cf",
   "metadata": {},
   "source": [
    "## Handling Class Imbalances\n",
    "\n",
    "The NFL draft is composed of seven rounds. Each round has 32 picks for each of the 32 teams. \n",
    "\n",
    "We do not want there to be more players in certain rounds or that might bias the results. Let's see if there are severe class imbalances going on, if so we need to handle them accordingly."
   ]
  },
  {
   "cell_type": "code",
   "execution_count": 13,
   "id": "f225806c",
   "metadata": {
    "ExecuteTime": {
     "end_time": "2024-04-29T03:32:43.570224500Z",
     "start_time": "2024-04-29T03:32:42.519481300Z"
    }
   },
   "outputs": [
    {
     "data": {
      "image/png": "[encoded data removed]",
      "text/plain": [
       "<Figure size 1000x600 with 1 Axes>"
      ]
     },
     "metadata": {},
     "output_type": "display_data"
    }
   ],
   "source": [
    "round_counts = final_combine_data['round'].value_counts().sort_index()\n",
    "\n",
    "# Create a bar plot\n",
    "plt.figure(figsize=(10, 6))\n",
    "plt.bar(round_counts.index.astype(str), round_counts.values, color='skyblue')\n",
    "plt.xlabel('Draft Round')\n",
    "plt.ylabel('Number of Players')\n",
    "plt.title('Number of Players in Each Round')\n",
    "plt.show()"
   ]
  },
  {
   "cell_type": "markdown",
   "id": "7134d254",
   "metadata": {},
   "source": [
    "Some rounds clearly do have more players than other rounds. But there is another imbalance we have to worry about, that being positional imbalances. Some rounds may have more players in a certain position than other rounds do. For instance, if there are 20 WR's in round 1 and only 4 in round 7, the model might bias towards round 1. "
   ]
  },
  {
   "cell_type": "code",
   "execution_count": 14,
   "id": "c983b42f",
   "metadata": {
    "ExecuteTime": {
     "end_time": "2024-04-29T03:32:43.571747800Z",
     "start_time": "2024-04-29T03:32:42.953338Z"
    }
   },
   "outputs": [],
   "source": [
    "def get_position_count_per_round(pos):\n",
    "    '''\n",
    "    This method will return a list corresponding to the number of players per position for that round. \n",
    "    '''\n",
    "    result = []\n",
    "    for round in range(1,8):\n",
    "        for position in [pos]:\n",
    "            result.append(final_combine_data[(final_combine_data['round'] == round) & (final_combine_data['Pos'] == position)].shape[0])\n",
    "    return result"
   ]
  },
  {
   "cell_type": "markdown",
   "id": "8d75d740",
   "metadata": {},
   "source": [
    "Now we can rebalance all of the rounds to have the same number of players per position. We want to only include positions that have at least ten players in each round just to make sure there is adequate data. And then make sure that there is the same number of players in each round per position. At the end we should have seven rounds, all of equal size."
   ]
  },
  {
   "cell_type": "code",
   "execution_count": 15,
   "id": "4792f40b",
   "metadata": {
    "ExecuteTime": {
     "end_time": "2024-04-29T03:32:44.136983800Z",
     "start_time": "2024-04-29T03:32:42.961770900Z"
    }
   },
   "outputs": [],
   "source": [
    "THRESHOLD = 10 # minimum number of players per round\n",
    "balanced_final_combine_data = pd.DataFrame()\n",
    "\n",
    "for round in range(1,8):\n",
    "    for position in final_combine_data['Pos'].unique():\n",
    "        min_player_count = np.min(get_position_count_per_round(position))\n",
    "        if min_player_count >= THRESHOLD:\n",
    "            df = final_combine_data[(final_combine_data['round'] == round) & (final_combine_data['Pos'] == position)]\n",
    "            random_samples = df.sample(n=min_player_count)\n",
    "            balanced_final_combine_data = pd.concat([balanced_final_combine_data, random_samples], ignore_index=True)\n",
    "\n",
    "final_combine_data = balanced_final_combine_data"
   ]
  },
  {
   "cell_type": "code",
   "execution_count": 16,
   "id": "e661a1f8",
   "metadata": {
    "ExecuteTime": {
     "end_time": "2024-04-29T03:32:44.402667300Z",
     "start_time": "2024-04-29T03:32:43.991229900Z"
    }
   },
   "outputs": [
    {
     "data": {
      "image/png": "[encoded data removed]",
      "text/plain": [
       "<Figure size 1000x600 with 1 Axes>"
      ]
     },
     "metadata": {},
     "output_type": "display_data"
    }
   ],
   "source": [
    "round_counts = final_combine_data['round'].value_counts().sort_index()\n",
    "\n",
    "# Create a bar plot\n",
    "plt.figure(figsize=(10, 6))\n",
    "plt.bar(round_counts.index.astype(str), round_counts.values, color='skyblue')\n",
    "plt.xlabel('Draft Round')\n",
    "plt.ylabel('Number of Players')\n",
    "plt.title('Number of Players in Each Round')\n",
    "plt.show()"
   ]
  },
  {
   "cell_type": "markdown",
   "id": "971d4792",
   "metadata": {},
   "source": [
    "And now we need to make the position variable categorical, so by using one hot encoding we can do that"
   ]
  },
  {
   "cell_type": "code",
   "execution_count": 18,
   "id": "a7e155a4",
   "metadata": {
    "ExecuteTime": {
     "end_time": "2024-04-29T03:32:44.694605900Z",
     "start_time": "2024-04-29T03:32:44.581800800Z"
    }
   },
   "outputs": [
    {
     "data": {
      "text/html": [
       "<div>\n",
       "<style scoped>\n",
       "    .dataframe tbody tr th:only-of-type {\n",
       "        vertical-align: middle;\n",
       "    }\n",
       "\n",
       "    .dataframe tbody tr th {\n",
       "        vertical-align: top;\n",
       "    }\n",
       "\n",
       "    .dataframe thead th {\n",
       "        text-align: right;\n",
       "    }\n",
       "</style>\n",
       "<table border=\"1\" class=\"dataframe\">\n",
       "  <thead>\n",
       "    <tr style=\"text-align: right;\">\n",
       "      <th></th>\n",
       "      <th>Ht</th>\n",
       "      <th>Wt</th>\n",
       "      <th>40yd</th>\n",
       "      <th>Vertical</th>\n",
       "      <th>Bench</th>\n",
       "      <th>Broad Jump</th>\n",
       "      <th>3Cone</th>\n",
       "      <th>Shuttle</th>\n",
       "      <th>round</th>\n",
       "      <th>Pos_CB</th>\n",
       "      <th>Pos_DE</th>\n",
       "      <th>Pos_DT</th>\n",
       "      <th>Pos_OG</th>\n",
       "      <th>Pos_OLB</th>\n",
       "      <th>Pos_OT</th>\n",
       "      <th>Pos_RB</th>\n",
       "      <th>Pos_S</th>\n",
       "      <th>Pos_TE</th>\n",
       "      <th>Pos_WR</th>\n",
       "    </tr>\n",
       "  </thead>\n",
       "  <tbody>\n",
       "    <tr>\n",
       "      <th>0</th>\n",
       "      <td>6.0</td>\n",
       "      <td>186.0</td>\n",
       "      <td>4.31</td>\n",
       "      <td>38.0</td>\n",
       "      <td>19.0</td>\n",
       "      <td>122.0</td>\n",
       "      <td>7.06</td>\n",
       "      <td>4.39</td>\n",
       "      <td>1.0</td>\n",
       "      <td>1</td>\n",
       "      <td>0</td>\n",
       "      <td>0</td>\n",
       "      <td>0</td>\n",
       "      <td>0</td>\n",
       "      <td>0</td>\n",
       "      <td>0</td>\n",
       "      <td>0</td>\n",
       "      <td>0</td>\n",
       "      <td>0</td>\n",
       "    </tr>\n",
       "    <tr>\n",
       "      <th>1</th>\n",
       "      <td>6.08</td>\n",
       "      <td>198.0</td>\n",
       "      <td>4.52</td>\n",
       "      <td>36.0</td>\n",
       "      <td>23.0</td>\n",
       "      <td>125.0</td>\n",
       "      <td>6.95</td>\n",
       "      <td>3.96</td>\n",
       "      <td>1.0</td>\n",
       "      <td>1</td>\n",
       "      <td>0</td>\n",
       "      <td>0</td>\n",
       "      <td>0</td>\n",
       "      <td>0</td>\n",
       "      <td>0</td>\n",
       "      <td>0</td>\n",
       "      <td>0</td>\n",
       "      <td>0</td>\n",
       "      <td>0</td>\n",
       "    </tr>\n",
       "    <tr>\n",
       "      <th>2</th>\n",
       "      <td>5.92</td>\n",
       "      <td>193.0</td>\n",
       "      <td>4.52</td>\n",
       "      <td>35.0</td>\n",
       "      <td>18.0</td>\n",
       "      <td>125.0</td>\n",
       "      <td>6.94</td>\n",
       "      <td>4.34</td>\n",
       "      <td>1.0</td>\n",
       "      <td>1</td>\n",
       "      <td>0</td>\n",
       "      <td>0</td>\n",
       "      <td>0</td>\n",
       "      <td>0</td>\n",
       "      <td>0</td>\n",
       "      <td>0</td>\n",
       "      <td>0</td>\n",
       "      <td>0</td>\n",
       "      <td>0</td>\n",
       "    </tr>\n",
       "    <tr>\n",
       "      <th>3</th>\n",
       "      <td>6.0</td>\n",
       "      <td>193.0</td>\n",
       "      <td>4.44</td>\n",
       "      <td>34.0</td>\n",
       "      <td>17.0</td>\n",
       "      <td>118.0</td>\n",
       "      <td>6.67</td>\n",
       "      <td>4.15</td>\n",
       "      <td>1.0</td>\n",
       "      <td>1</td>\n",
       "      <td>0</td>\n",
       "      <td>0</td>\n",
       "      <td>0</td>\n",
       "      <td>0</td>\n",
       "      <td>0</td>\n",
       "      <td>0</td>\n",
       "      <td>0</td>\n",
       "      <td>0</td>\n",
       "      <td>0</td>\n",
       "    </tr>\n",
       "    <tr>\n",
       "      <th>4</th>\n",
       "      <td>6.0</td>\n",
       "      <td>190.0</td>\n",
       "      <td>4.49</td>\n",
       "      <td>38.5</td>\n",
       "      <td>12.0</td>\n",
       "      <td>128.0</td>\n",
       "      <td>6.90</td>\n",
       "      <td>4.19</td>\n",
       "      <td>1.0</td>\n",
       "      <td>1</td>\n",
       "      <td>0</td>\n",
       "      <td>0</td>\n",
       "      <td>0</td>\n",
       "      <td>0</td>\n",
       "      <td>0</td>\n",
       "      <td>0</td>\n",
       "      <td>0</td>\n",
       "      <td>0</td>\n",
       "      <td>0</td>\n",
       "    </tr>\n",
       "  </tbody>\n",
       "</table>\n",
       "</div>"
      ],
      "text/plain": [
       "     Ht     Wt  40yd  Vertical  Bench  Broad Jump  3Cone  Shuttle  round  \\\n",
       "0   6.0  186.0  4.31      38.0   19.0       122.0   7.06     4.39    1.0   \n",
       "1  6.08  198.0  4.52      36.0   23.0       125.0   6.95     3.96    1.0   \n",
       "2  5.92  193.0  4.52      35.0   18.0       125.0   6.94     4.34    1.0   \n",
       "3   6.0  193.0  4.44      34.0   17.0       118.0   6.67     4.15    1.0   \n",
       "4   6.0  190.0  4.49      38.5   12.0       128.0   6.90     4.19    1.0   \n",
       "\n",
       "   Pos_CB  Pos_DE  Pos_DT  Pos_OG  Pos_OLB  Pos_OT  Pos_RB  Pos_S  Pos_TE  \\\n",
       "0       1       0       0       0        0       0       0      0       0   \n",
       "1       1       0       0       0        0       0       0      0       0   \n",
       "2       1       0       0       0        0       0       0      0       0   \n",
       "3       1       0       0       0        0       0       0      0       0   \n",
       "4       1       0       0       0        0       0       0      0       0   \n",
       "\n",
       "   Pos_WR  \n",
       "0       0  \n",
       "1       0  \n",
       "2       0  \n",
       "3       0  \n",
       "4       0  "
      ]
     },
     "execution_count": 18,
     "metadata": {},
     "output_type": "execute_result"
    }
   ],
   "source": [
    "final_combine_data = pd.get_dummies(final_combine_data, columns=['Pos'])\n",
    "final_combine_data.head()"
   ]
  },
  {
   "cell_type": "markdown",
   "id": "8bac8f5c346429fc",
   "metadata": {
    "collapsed": false
   },
   "source": [
    "# Visualizing the Data\n",
    "\n",
    "Different positions excel at different drills in the combine. Example, wide receivers are going to run a faster 40yd dash than offensive lineman. Let's visualize these differences."
   ]
  },
  {
   "cell_type": "code",
   "execution_count": 19,
   "id": "8011144e7e298917",
   "metadata": {
    "ExecuteTime": {
     "end_time": "2024-04-29T03:32:49.479294400Z",
     "start_time": "2024-04-29T03:32:44.622090600Z"
    },
    "collapsed": false
   },
   "outputs": [
    {
     "data": {
      "image/png": "[encoded data removed]",
      "text/plain": [
       "<Figure size 640x480 with 1 Axes>"
      ]
     },
     "metadata": {},
     "output_type": "display_data"
    },
    {
     "data": {
      "image/png": "[encoded data removed]",
      "text/plain": [
       "<Figure size 640x480 with 1 Axes>"
      ]
     },
     "metadata": {},
     "output_type": "display_data"
    },
    {
     "data": {
      "image/png": "[encoded data removed]",
      "text/plain": [
       "<Figure size 640x480 with 1 Axes>"
      ]
     },
     "metadata": {},
     "output_type": "display_data"
    },
    {
     "data": {
      "image/png": "[encoded data removed]",
      "text/plain": [
       "<Figure size 640x480 with 1 Axes>"
      ]
     },
     "metadata": {},
     "output_type": "display_data"
    },
    {
     "data": {
      "image/png": "[encoded data removed]",
      "text/plain": [
       "<Figure size 640x480 with 1 Axes>"
      ]
     },
     "metadata": {},
     "output_type": "display_data"
    },
    {
     "data": {
      "image/png": "[encoded data removed]",
      "text/plain": [
       "<Figure size 640x480 with 1 Axes>"
      ]
     },
     "metadata": {},
     "output_type": "display_data"
    },
    {
     "data": {
      "text/plain": [
       "<Figure size 640x480 with 0 Axes>"
      ]
     },
     "metadata": {},
     "output_type": "display_data"
    }
   ],
   "source": [
    "forty_dash = merged_df.dropna(subset=['40yd'])\n",
    "# sns.scatterplot(data=merged_df, x='overall', y='40yd')\n",
    "# print(forty_dash['Pos'].unique())\n",
    "for drill in drills:\n",
    "    drill_df = merged_df.dropna(subset=[drill])\n",
    "    sns.boxplot(data=drill_df, x='Pos', y=drill)\n",
    "    plt.title(\"Position Based \" + drill + \" Score\")\n",
    "    plt.show()\n",
    "    plt.clf()"
   ]
  },
  {
   "cell_type": "code",
   "execution_count": 20,
   "id": "19984c6d",
   "metadata": {
    "ExecuteTime": {
     "end_time": "2024-04-29T03:32:49.991758200Z",
     "start_time": "2024-04-29T03:32:49.481308300Z"
    }
   },
   "outputs": [
    {
     "data": {
      "image/png": "[encoded data removed]",
      "text/plain": [
       "<Figure size 640x480 with 1 Axes>"
      ]
     },
     "metadata": {},
     "output_type": "display_data"
    }
   ],
   "source": [
    "sns.boxplot(data=merged_df, x='Pos', y='overall')\n",
    "plt.title(\"Draft Overall Per Position\")\n",
    "plt.xlabel('Position')\n",
    "plt.ylabel('Overall')\n",
    "plt.show()"
   ]
  },
  {
   "cell_type": "markdown",
   "id": "ed9697c90b242f6a",
   "metadata": {
    "collapsed": false
   },
   "source": [
    "### See if Data is normally distributed"
   ]
  },
  {
   "cell_type": "code",
   "execution_count": 21,
   "id": "2dc96fb3c3df13de",
   "metadata": {
    "ExecuteTime": {
     "end_time": "2024-04-29T03:32:50.101819500Z",
     "start_time": "2024-04-29T03:32:49.995759Z"
    },
    "collapsed": false
   },
   "outputs": [
    {
     "name": "stdout",
     "output_type": "stream",
     "text": [
      "Position: OL at Drill: 40yd is NOT normally distributed\n",
      "Position: RB at Drill: Vertical is NOT normally distributed\n",
      "Position: LB at Drill: Vertical is NOT normally distributed\n",
      "Position: DB at Drill: Vertical is NOT normally distributed\n",
      "Position: CB at Drill: Bench is NOT normally distributed\n",
      "Position: ILB at Drill: Bench is NOT normally distributed\n",
      "Position: DE at Drill: Bench is NOT normally distributed\n",
      "Position: FB at Drill: Bench is NOT normally distributed\n",
      "Position: TE at Drill: Broad Jump is NOT normally distributed\n",
      "Position: LB at Drill: Broad Jump is NOT normally distributed\n",
      "Position: OG at Drill: 3Cone is NOT normally distributed\n",
      "Position: RB at Drill: 3Cone is NOT normally distributed\n",
      "Position: FB at Drill: 3Cone is NOT normally distributed\n",
      "Position: TE at Drill: 3Cone is NOT normally distributed\n",
      "Position: C at Drill: 3Cone is NOT normally distributed\n",
      "Position: LB at Drill: 3Cone is NOT normally distributed\n",
      "Position: DB at Drill: 3Cone is NOT normally distributed\n",
      "Position: CB at Drill: Shuttle is NOT normally distributed\n",
      "Position: DE at Drill: Shuttle is NOT normally distributed\n",
      "Position: RB at Drill: Shuttle is NOT normally distributed\n"
     ]
    }
   ],
   "source": [
    "alpha = 0.05\n",
    "for drill in drills:\n",
    "    drill_df = merged_df.dropna(subset=[drill])\n",
    "    for pos in filtered_positions:\n",
    "        pos_df = drill_df[drill_df['Pos'] == pos]\n",
    "        statistic, p_value = shapiro(pos_df[drill])\n",
    "        if p_value < alpha:\n",
    "            print(\"Position: \" + pos + \" at Drill: \" + drill + \" is NOT normally distributed\")"
   ]
  },
  {
   "cell_type": "markdown",
   "id": "37b6038c4dff2651",
   "metadata": {
    "collapsed": false
   },
   "source": [
    "### Many Positions have non uniform distributions of drills\n",
    "It is wise to Use Kruskal-Wallis test knowing this. Anova testing requires for data to be uniform"
   ]
  },
  {
   "cell_type": "code",
   "execution_count": 22,
   "id": "173bc4ee4cb9fd6a",
   "metadata": {
    "ExecuteTime": {
     "end_time": "2024-04-29T03:32:50.338340300Z",
     "start_time": "2024-04-29T03:32:50.101819500Z"
    },
    "collapsed": false
   },
   "outputs": [
    {
     "name": "stdout",
     "output_type": "stream",
     "text": [
      "+------------+----------+-------------+\n",
      "| Drill      |     Stat |     P Value |\n",
      "+============+==========+=============+\n",
      "| 40yd       | 231.91   | 4.24483e-07 |\n",
      "+------------+----------+-------------+\n",
      "| Vertical   |  51.0679 | 0.354038    |\n",
      "+------------+----------+-------------+\n",
      "| Bench      | 122.673  | 2.5126e-10  |\n",
      "+------------+----------+-------------+\n",
      "| Broad Jump | 113.332  | 4.23677e-06 |\n",
      "+------------+----------+-------------+\n",
      "| 3Cone      | 244.386  | 0.00823835  |\n",
      "+------------+----------+-------------+\n",
      "| Shuttle    | 194.619  | 0.000731051 |\n",
      "+------------+----------+-------------+\n"
     ]
    }
   ],
   "source": [
    "kruskal_tests = []\n",
    "kruskal_head = ['Drill', 'Stat', 'P Value']\n",
    "for drill in drills:\n",
    "    drill_df = merged_df.dropna(subset=[drill])\n",
    "    samples_by_group = []\n",
    "    for value in set(drill_df[drill]):\n",
    "        mask = drill_df[drill] == value\n",
    "        samples_by_group.append(drill_df['Pos'][mask]) \n",
    "    stat, p = kruskal(*samples_by_group)\n",
    "    kruskal_tests.append([drill, stat, p])\n",
    "print(tabulate(kruskal_tests, headers=kruskal_head, tablefmt=\"grid\"))"
   ]
  },
  {
   "cell_type": "markdown",
   "id": "48b3be4bf7b8ba04",
   "metadata": {
    "collapsed": false
   },
   "source": [
    "### Analyzing P-Values of Kruskal-Wallis Test\n",
    "Since all the p-values for each drill using the Kruskal-Wallis test are less than the level of significance (0.05), the null hypothesis for each drill is rejected. So, for each drill, the median values for each position based on drill are not equal "
   ]
  },
  {
   "cell_type": "markdown",
   "id": "df37132631220384",
   "metadata": {
    "collapsed": false
   },
   "source": [
    "# Pearson's Correlation\n",
    "\n",
    "Next, we are going to determine if there is a linear relationship between any of the drills and the position a player is drafted. If there is, we should see a value around +-1, signifying there is a linear relationship and that the drill can be used as a predictor of the draft position of the player."
   ]
  },
  {
   "cell_type": "code",
   "execution_count": 23,
   "id": "78736504",
   "metadata": {
    "ExecuteTime": {
     "end_time": "2024-04-29T03:32:50.557585200Z",
     "start_time": "2024-04-29T03:32:50.340339200Z"
    }
   },
   "outputs": [
    {
     "data": {
      "text/html": [
       "<div>\n",
       "<style scoped>\n",
       "    .dataframe tbody tr th:only-of-type {\n",
       "        vertical-align: middle;\n",
       "    }\n",
       "\n",
       "    .dataframe tbody tr th {\n",
       "        vertical-align: top;\n",
       "    }\n",
       "\n",
       "    .dataframe thead th {\n",
       "        text-align: right;\n",
       "    }\n",
       "</style>\n",
       "<table border=\"1\" class=\"dataframe\">\n",
       "  <thead>\n",
       "    <tr style=\"text-align: right;\">\n",
       "      <th></th>\n",
       "      <th>Position</th>\n",
       "      <th>Drill</th>\n",
       "      <th>Pearsons Coefficient</th>\n",
       "      <th>p-value</th>\n",
       "    </tr>\n",
       "  </thead>\n",
       "  <tbody>\n",
       "    <tr>\n",
       "      <th>0</th>\n",
       "      <td>CB</td>\n",
       "      <td>40yd</td>\n",
       "      <td>0.321129</td>\n",
       "      <td>0.000001</td>\n",
       "    </tr>\n",
       "    <tr>\n",
       "      <th>1</th>\n",
       "      <td>CB</td>\n",
       "      <td>Vertical</td>\n",
       "      <td>-0.148725</td>\n",
       "      <td>0.027408</td>\n",
       "    </tr>\n",
       "    <tr>\n",
       "      <th>2</th>\n",
       "      <td>CB</td>\n",
       "      <td>Bench</td>\n",
       "      <td>-0.100245</td>\n",
       "      <td>0.138302</td>\n",
       "    </tr>\n",
       "    <tr>\n",
       "      <th>3</th>\n",
       "      <td>CB</td>\n",
       "      <td>Broad Jump</td>\n",
       "      <td>-0.233329</td>\n",
       "      <td>0.000484</td>\n",
       "    </tr>\n",
       "    <tr>\n",
       "      <th>4</th>\n",
       "      <td>CB</td>\n",
       "      <td>3Cone</td>\n",
       "      <td>0.239351</td>\n",
       "      <td>0.000341</td>\n",
       "    </tr>\n",
       "    <tr>\n",
       "      <th>5</th>\n",
       "      <td>CB</td>\n",
       "      <td>Shuttle</td>\n",
       "      <td>0.138950</td>\n",
       "      <td>0.039473</td>\n",
       "    </tr>\n",
       "    <tr>\n",
       "      <th>6</th>\n",
       "      <td>OT</td>\n",
       "      <td>40yd</td>\n",
       "      <td>0.284328</td>\n",
       "      <td>0.000059</td>\n",
       "    </tr>\n",
       "    <tr>\n",
       "      <th>7</th>\n",
       "      <td>OT</td>\n",
       "      <td>Vertical</td>\n",
       "      <td>-0.160160</td>\n",
       "      <td>0.025696</td>\n",
       "    </tr>\n",
       "    <tr>\n",
       "      <th>8</th>\n",
       "      <td>OT</td>\n",
       "      <td>Bench</td>\n",
       "      <td>-0.134709</td>\n",
       "      <td>0.061110</td>\n",
       "    </tr>\n",
       "    <tr>\n",
       "      <th>9</th>\n",
       "      <td>OT</td>\n",
       "      <td>Broad Jump</td>\n",
       "      <td>-0.179197</td>\n",
       "      <td>0.012417</td>\n",
       "    </tr>\n",
       "  </tbody>\n",
       "</table>\n",
       "</div>"
      ],
      "text/plain": [
       "  Position       Drill  Pearsons Coefficient   p-value\n",
       "0       CB        40yd              0.321129  0.000001\n",
       "1       CB    Vertical             -0.148725  0.027408\n",
       "2       CB       Bench             -0.100245  0.138302\n",
       "3       CB  Broad Jump             -0.233329  0.000484\n",
       "4       CB       3Cone              0.239351  0.000341\n",
       "5       CB     Shuttle              0.138950  0.039473\n",
       "6       OT        40yd              0.284328  0.000059\n",
       "7       OT    Vertical             -0.160160  0.025696\n",
       "8       OT       Bench             -0.134709  0.061110\n",
       "9       OT  Broad Jump             -0.179197  0.012417"
      ]
     },
     "execution_count": 23,
     "metadata": {},
     "output_type": "execute_result"
    }
   ],
   "source": [
    "pears_list = []\n",
    "for pos in filtered_positions:\n",
    "    pos_df = merged_df[merged_df[\"Pos\"] == pos]\n",
    "    for drill in drills:\n",
    "        pears, p = pearsonr(x=pos_df[drill], y=pos_df['overall'])\n",
    "        pears_list.append([str(pos), drill, pears, p])\n",
    "      \n",
    "pears_header = [\"Position\", \"Drill\", \"Pearson Coefficient\", \"P value\"]\n",
    "# print(tabulate(pears_list, headers=pears_header, tablefmt=\"grid\"))\n",
    "pears_df = pd.DataFrame(pears_list)\n",
    "pears_df.columns = ['Position', 'Drill', 'Pearsons Coefficient', 'p-value']\n",
    "pears_df.head(10)"
   ]
  },
  {
   "cell_type": "markdown",
   "id": "53c11d33549d9bb8",
   "metadata": {
    "collapsed": false
   },
   "source": [
    "# Different Scales Pearsons\n",
    "When using the pearson's calculation above, the overall coefficient if the statistic that is desired (given that the p-value checks out). If the coefficient is positive, then that means that the slope is positive. if the coefficient is negative, then that means the slope if negative. Values closer to -1 and 1 mean the data is more close together. \n",
    "\n",
    "This project is attempting to claim that \"better\" scores will yield a higher draft position. So, performing a pearson's correlation of the overall pick against the drill for each position will give a good idea on how related the two attributes are. Now, each coefficient will tell something different, it is just necessary to understand it. \n",
    "\n",
    "The pearson's correlation uses both x and y values as input with the x variable being the drill and the y variable being the overall pick number. These x and y values are can then be placed on a graph from smallest to largest on each axis. The slope of the regression line from the data points is then calculated from the graph. \n",
    "\n",
    "It is important to note that each drill has different definitions of \"successful\". For example, a \"good\" score for the bench press is getting as many repetitions as possible. So, in this case the highest number is the best number. With the 40yd dash, the faster time indicates a \"good score\". The issue comes into play when placing these values on a graph because the \"good\" scores are on the opposite side of the graph. So in the case of the bench press, we proposed that more reps indicates a lower pick, but for the 40yd dash, the lower the score the lower the pick. What this means is that each drill has to be split and interpreted differently based on the score.\n",
    "\n",
    "['40yd', 'Vertical', 'Bench', 'Broad Jump', '3Cone', 'Shuttle']\n",
    "The bench press, broad jump, and vertical jump are all drills where a higher score will yield a lower overall draft pick. This means a negative pearson's coefficient is preferred to support the hypothesis.\n",
    "\n",
    "The 40yd dash, 3cone, and shuttle are all speed drills in the lower number is preferred for a lower overall draft pick. This means a positive pearson's coefficient is preferred to support the hypothesis.\n"
   ]
  },
  {
   "cell_type": "markdown",
   "id": "14d4bbf26c151dc4",
   "metadata": {
    "collapsed": false
   },
   "source": [
    "# Pearson's Conclusions\n",
    "The data varies between positional groups, but it appears that there is indeed some statistically significant correlations in the data. This is especially true in the 40yd dash drill. For each position, this has the most correlation data. When considering the context of the NFL, this drill is widely considered to be the most important determinant in one's draft stock, so this makes sense. The coefficients for each drill are typically smaller, but they are majorly what is expected to be seen in terms of positivity or negativity. This means that while the correlation is still small, it is statistically significant."
   ]
  },
  {
   "cell_type": "markdown",
   "id": "39066db1",
   "metadata": {},
   "source": [
    "# KMeans\n",
    "\n",
    "To start we wanted to try using KMeans to see if it was able to accurately classify this data first. We wanted an unsupervised approach to see the differences between a supervised approach in Random Forest later."
   ]
  },
  {
   "cell_type": "code",
   "execution_count": 24,
   "id": "f4cf86c4",
   "metadata": {
    "ExecuteTime": {
     "end_time": "2024-04-29T03:32:50.558586200Z",
     "start_time": "2024-04-29T03:32:50.529572Z"
    }
   },
   "outputs": [],
   "source": [
    "def show_confusion_matrix(true_values, predicted_values):\n",
    "    conf_matrix = confusion_matrix(true_values, predicted_values)\n",
    "\n",
    "    plt.figure(figsize=(10, 8))\n",
    "    sns.heatmap(conf_matrix, annot=True, cmap='Blues', fmt='d')\n",
    "    plt.xlabel('Predicted labels')\n",
    "    plt.ylabel('True labels')\n",
    "    plt.title('Confusion Matrix')\n",
    "    plt.show()"
   ]
  },
  {
   "cell_type": "code",
   "execution_count": 25,
   "id": "8f8a0f9e",
   "metadata": {
    "ExecuteTime": {
     "end_time": "2024-04-29T03:32:52.566531900Z",
     "start_time": "2024-04-29T03:32:50.537586100Z"
    }
   },
   "outputs": [
    {
     "name": "stderr",
     "output_type": "stream",
     "text": [
      "C:\\Users\\mcdonaldp\\AppData\\Local\\anaconda3\\Lib\\site-packages\\sklearn\\cluster\\_kmeans.py:1436: UserWarning: KMeans is known to have a memory leak on Windows with MKL, when there are less chunks than available threads. You can avoid it by setting the environment variable OMP_NUM_THREADS=4.\n",
      "  warnings.warn(\n"
     ]
    }
   ],
   "source": [
    "X = final_combine_data[drills]\n",
    "kmeans = KMeans(n_clusters=7, random_state=0, n_init=\"auto\").fit(X)\n",
    "label_df = copy.deepcopy(final_combine_data)\n",
    "label_df['label'] = np.array(kmeans.labels_)\n",
    "label_df['label'] = label_df['label'] + 1"
   ]
  },
  {
   "cell_type": "code",
   "execution_count": 26,
   "id": "5a58ac8b",
   "metadata": {
    "ExecuteTime": {
     "end_time": "2024-04-29T03:32:53.062985200Z",
     "start_time": "2024-04-29T03:32:52.554984700Z"
    }
   },
   "outputs": [
    {
     "data": {
      "image/png": "[encoded data removed]",
      "text/plain": [
       "<Figure size 1000x800 with 2 Axes>"
      ]
     },
     "metadata": {},
     "output_type": "display_data"
    }
   ],
   "source": [
    "show_confusion_matrix(label_df['round'], label_df['label'])"
   ]
  },
  {
   "cell_type": "markdown",
   "id": "97828158",
   "metadata": {},
   "source": [
    "# Random Forest Classification\n",
    "\n",
    "For this data it makes sense to use a Random Forest classifier. This is not a binary classifier and this will likely have much more complex relationships than linear ones that need to be sorted. \n",
    "\n",
    "The goal here is to try and predict which ROUND the player is drafted in based on their combine performance. There is 7 possible outcomes. Rounds 1 - 7, where 1 is the highest round. "
   ]
  },
  {
   "cell_type": "markdown",
   "id": "ee4d3d1d",
   "metadata": {},
   "source": [
    "Tha target variable in this dataset is of course the round variable. So let's isolate that and split the data into testing and training sets. "
   ]
  },
  {
   "cell_type": "code",
   "execution_count": 27,
   "id": "5528a563",
   "metadata": {
    "ExecuteTime": {
     "end_time": "2024-04-29T03:32:53.080096200Z",
     "start_time": "2024-04-29T03:32:53.062985200Z"
    }
   },
   "outputs": [],
   "source": [
    "features = final_combine_data.drop('round', axis=1)\n",
    "target = final_combine_data['round']\n",
    "\n",
    "X_train, X_test, y_train, y_test = train_test_split(features, target, test_size=0.2, random_state=42, stratify=target)"
   ]
  },
  {
   "cell_type": "markdown",
   "id": "83044df1",
   "metadata": {},
   "source": [
    "Now let's create an instance of a Random Forest model with the default model parameters, we can adjust these later once we get the results. "
   ]
  },
  {
   "cell_type": "code",
   "execution_count": 28,
   "id": "87ee1626",
   "metadata": {
    "ExecuteTime": {
     "end_time": "2024-04-29T03:32:53.726399700Z",
     "start_time": "2024-04-29T03:32:53.077100100Z"
    }
   },
   "outputs": [
    {
     "data": {
      "text/html": [
       "<style>#sk-container-id-1 {color: black;}#sk-container-id-1 pre{padding: 0;}#sk-container-id-1 div.sk-toggleable {background-color: white;}#sk-container-id-1 label.sk-toggleable__label {cursor: pointer;display: block;width: 100%;margin-bottom: 0;padding: 0.3em;box-sizing: border-box;text-align: center;}#sk-container-id-1 label.sk-toggleable__label-arrow:before {content: \"▸\";float: left;margin-right: 0.25em;color: #696969;}#sk-container-id-1 label.sk-toggleable__label-arrow:hover:before {color: black;}#sk-container-id-1 div.sk-estimator:hover label.sk-toggleable__label-arrow:before {color: black;}#sk-container-id-1 div.sk-toggleable__content {max-height: 0;max-width: 0;overflow: hidden;text-align: left;background-color: #f0f8ff;}#sk-container-id-1 div.sk-toggleable__content pre {margin: 0.2em;color: black;border-radius: 0.25em;background-color: #f0f8ff;}#sk-container-id-1 input.sk-toggleable__control:checked~div.sk-toggleable__content {max-height: 200px;max-width: 100%;overflow: auto;}#sk-container-id-1 input.sk-toggleable__control:checked~label.sk-toggleable__label-arrow:before {content: \"▾\";}#sk-container-id-1 div.sk-estimator input.sk-toggleable__control:checked~label.sk-toggleable__label {background-color: #d4ebff;}#sk-container-id-1 div.sk-label input.sk-toggleable__control:checked~label.sk-toggleable__label {background-color: #d4ebff;}#sk-container-id-1 input.sk-hidden--visually {border: 0;clip: rect(1px 1px 1px 1px);clip: rect(1px, 1px, 1px, 1px);height: 1px;margin: -1px;overflow: hidden;padding: 0;position: absolute;width: 1px;}#sk-container-id-1 div.sk-estimator {font-family: monospace;background-color: #f0f8ff;border: 1px dotted black;border-radius: 0.25em;box-sizing: border-box;margin-bottom: 0.5em;}#sk-container-id-1 div.sk-estimator:hover {background-color: #d4ebff;}#sk-container-id-1 div.sk-parallel-item::after {content: \"\";width: 100%;border-bottom: 1px solid gray;flex-grow: 1;}#sk-container-id-1 div.sk-label:hover label.sk-toggleable__label {background-color: #d4ebff;}#sk-container-id-1 div.sk-serial::before {content: \"\";position: absolute;border-left: 1px solid gray;box-sizing: border-box;top: 0;bottom: 0;left: 50%;z-index: 0;}#sk-container-id-1 div.sk-serial {display: flex;flex-direction: column;align-items: center;background-color: white;padding-right: 0.2em;padding-left: 0.2em;position: relative;}#sk-container-id-1 div.sk-item {position: relative;z-index: 1;}#sk-container-id-1 div.sk-parallel {display: flex;align-items: stretch;justify-content: center;background-color: white;position: relative;}#sk-container-id-1 div.sk-item::before, #sk-container-id-1 div.sk-parallel-item::before {content: \"\";position: absolute;border-left: 1px solid gray;box-sizing: border-box;top: 0;bottom: 0;left: 50%;z-index: -1;}#sk-container-id-1 div.sk-parallel-item {display: flex;flex-direction: column;z-index: 1;position: relative;background-color: white;}#sk-container-id-1 div.sk-parallel-item:first-child::after {align-self: flex-end;width: 50%;}#sk-container-id-1 div.sk-parallel-item:last-child::after {align-self: flex-start;width: 50%;}#sk-container-id-1 div.sk-parallel-item:only-child::after {width: 0;}#sk-container-id-1 div.sk-dashed-wrapped {border: 1px dashed gray;margin: 0 0.4em 0.5em 0.4em;box-sizing: border-box;padding-bottom: 0.4em;background-color: white;}#sk-container-id-1 div.sk-label label {font-family: monospace;font-weight: bold;display: inline-block;line-height: 1.2em;}#sk-container-id-1 div.sk-label-container {text-align: center;}#sk-container-id-1 div.sk-container {/* jupyter's `normalize.less` sets `[hidden] { display: none; }` but bootstrap.min.css set `[hidden] { display: none !important; }` so we also need the `!important` here to be able to override the default hidden behavior on the sphinx rendered scikit-learn.org. See: https://github.com/scikit-learn/scikit-learn/issues/21755 */display: inline-block !important;position: relative;}#sk-container-id-1 div.sk-text-repr-fallback {display: none;}</style><div id=\"sk-container-id-1\" class=\"sk-top-container\"><div class=\"sk-text-repr-fallback\"><pre>RandomForestClassifier(random_state=42)</pre><b>In a Jupyter environment, please rerun this cell to show the HTML representation or trust the notebook. <br />On GitHub, the HTML representation is unable to render, please try loading this page with nbviewer.org.</b></div><div class=\"sk-container\" hidden><div class=\"sk-item\"><div class=\"sk-estimator sk-toggleable\"><input class=\"sk-toggleable__control sk-hidden--visually\" id=\"sk-estimator-id-1\" type=\"checkbox\" checked><label for=\"sk-estimator-id-1\" class=\"sk-toggleable__label sk-toggleable__label-arrow\">RandomForestClassifier</label><div class=\"sk-toggleable__content\"><pre>RandomForestClassifier(random_state=42)</pre></div></div></div></div></div>"
      ],
      "text/plain": [
       "RandomForestClassifier(random_state=42)"
      ]
     },
     "execution_count": 28,
     "metadata": {},
     "output_type": "execute_result"
    }
   ],
   "source": [
    "rf = RandomForestClassifier(random_state=42)\n",
    "rf.fit(X_train, y_train)"
   ]
  },
  {
   "cell_type": "markdown",
   "id": "8054c2cb",
   "metadata": {},
   "source": [
    "Now predicting with the testing set..."
   ]
  },
  {
   "cell_type": "code",
   "execution_count": 29,
   "id": "72c723df",
   "metadata": {
    "ExecuteTime": {
     "end_time": "2024-04-29T03:32:53.750875200Z",
     "start_time": "2024-04-29T03:32:53.726399700Z"
    }
   },
   "outputs": [
    {
     "name": "stdout",
     "output_type": "stream",
     "text": [
      "Accuracy: 0.19597989949748743\n"
     ]
    }
   ],
   "source": [
    "y_pred = rf.predict(X_test)\n",
    "accuracy = accuracy_score(y_test, y_pred)\n",
    "print(f\"Accuracy: {accuracy}\")"
   ]
  },
  {
   "cell_type": "code",
   "execution_count": 30,
   "id": "e0155963",
   "metadata": {
    "ExecuteTime": {
     "end_time": "2024-04-29T03:32:54.138505900Z",
     "start_time": "2024-04-29T03:32:53.752335Z"
    }
   },
   "outputs": [
    {
     "data": {
      "image/png": "[encoded data removed]",
      "text/plain": [
       "<Figure size 1000x800 with 2 Axes>"
      ]
     },
     "metadata": {},
     "output_type": "display_data"
    }
   ],
   "source": [
    "show_confusion_matrix(y_test, y_pred)"
   ]
  },
  {
   "cell_type": "code",
   "execution_count": 31,
   "id": "4a620f15",
   "metadata": {
    "ExecuteTime": {
     "end_time": "2024-04-29T03:32:54.328558800Z",
     "start_time": "2024-04-29T03:32:54.140516800Z"
    }
   },
   "outputs": [
    {
     "data": {
      "text/html": [
       "<div>\n",
       "<style scoped>\n",
       "    .dataframe tbody tr th:only-of-type {\n",
       "        vertical-align: middle;\n",
       "    }\n",
       "\n",
       "    .dataframe tbody tr th {\n",
       "        vertical-align: top;\n",
       "    }\n",
       "\n",
       "    .dataframe thead th {\n",
       "        text-align: right;\n",
       "    }\n",
       "</style>\n",
       "<table border=\"1\" class=\"dataframe\">\n",
       "  <thead>\n",
       "    <tr style=\"text-align: right;\">\n",
       "      <th></th>\n",
       "      <th>0</th>\n",
       "      <th>1</th>\n",
       "      <th>2</th>\n",
       "      <th>3</th>\n",
       "    </tr>\n",
       "  </thead>\n",
       "  <tbody>\n",
       "    <tr>\n",
       "      <th>0</th>\n",
       "      <td>CB</td>\n",
       "      <td>40yd</td>\n",
       "      <td>0.321129</td>\n",
       "      <td>0.000001</td>\n",
       "    </tr>\n",
       "    <tr>\n",
       "      <th>1</th>\n",
       "      <td>CB</td>\n",
       "      <td>Vertical</td>\n",
       "      <td>-0.148725</td>\n",
       "      <td>0.027408</td>\n",
       "    </tr>\n",
       "    <tr>\n",
       "      <th>2</th>\n",
       "      <td>CB</td>\n",
       "      <td>Bench</td>\n",
       "      <td>-0.100245</td>\n",
       "      <td>0.138302</td>\n",
       "    </tr>\n",
       "    <tr>\n",
       "      <th>3</th>\n",
       "      <td>CB</td>\n",
       "      <td>Broad Jump</td>\n",
       "      <td>-0.233329</td>\n",
       "      <td>0.000484</td>\n",
       "    </tr>\n",
       "    <tr>\n",
       "      <th>4</th>\n",
       "      <td>CB</td>\n",
       "      <td>3Cone</td>\n",
       "      <td>0.239351</td>\n",
       "      <td>0.000341</td>\n",
       "    </tr>\n",
       "    <tr>\n",
       "      <th>...</th>\n",
       "      <td>...</td>\n",
       "      <td>...</td>\n",
       "      <td>...</td>\n",
       "      <td>...</td>\n",
       "    </tr>\n",
       "    <tr>\n",
       "      <th>103</th>\n",
       "      <td>DB</td>\n",
       "      <td>Vertical</td>\n",
       "      <td>0.030043</td>\n",
       "      <td>0.912055</td>\n",
       "    </tr>\n",
       "    <tr>\n",
       "      <th>104</th>\n",
       "      <td>DB</td>\n",
       "      <td>Bench</td>\n",
       "      <td>0.101532</td>\n",
       "      <td>0.708291</td>\n",
       "    </tr>\n",
       "    <tr>\n",
       "      <th>105</th>\n",
       "      <td>DB</td>\n",
       "      <td>Broad Jump</td>\n",
       "      <td>0.002045</td>\n",
       "      <td>0.994002</td>\n",
       "    </tr>\n",
       "    <tr>\n",
       "      <th>106</th>\n",
       "      <td>DB</td>\n",
       "      <td>3Cone</td>\n",
       "      <td>0.266228</td>\n",
       "      <td>0.318925</td>\n",
       "    </tr>\n",
       "    <tr>\n",
       "      <th>107</th>\n",
       "      <td>DB</td>\n",
       "      <td>Shuttle</td>\n",
       "      <td>-0.007442</td>\n",
       "      <td>0.978176</td>\n",
       "    </tr>\n",
       "  </tbody>\n",
       "</table>\n",
       "<p>108 rows × 4 columns</p>\n",
       "</div>"
      ],
      "text/plain": [
       "      0           1         2         3\n",
       "0    CB        40yd  0.321129  0.000001\n",
       "1    CB    Vertical -0.148725  0.027408\n",
       "2    CB       Bench -0.100245  0.138302\n",
       "3    CB  Broad Jump -0.233329  0.000484\n",
       "4    CB       3Cone  0.239351  0.000341\n",
       "..   ..         ...       ...       ...\n",
       "103  DB    Vertical  0.030043  0.912055\n",
       "104  DB       Bench  0.101532  0.708291\n",
       "105  DB  Broad Jump  0.002045  0.994002\n",
       "106  DB       3Cone  0.266228  0.318925\n",
       "107  DB     Shuttle -0.007442  0.978176\n",
       "\n",
       "[108 rows x 4 columns]"
      ]
     },
     "execution_count": 31,
     "metadata": {},
     "output_type": "execute_result"
    }
   ],
   "source": [
    "pears_list = []\n",
    "for pos in filtered_positions:\n",
    "    pos_df = merged_df[merged_df[\"Pos\"] == pos]\n",
    "    for drill in drills:\n",
    "        pears, p = pearsonr(x=pos_df[drill], y=pos_df['overall'])\n",
    "        pears_list.append([str(pos), drill, pears, p])\n",
    "      \n",
    "pears_header = [\"Position\", \"Drill\", \"Pearson Coefficient\", \"P value\"]\n",
    "# print(tabulate(pears_list, headers=pears_header, tablefmt=\"grid\"))\n",
    "pears_df = pd.DataFrame(pears_list)\n",
    "pears_df.head(108)"
   ]
  },
  {
   "cell_type": "markdown",
   "id": "93a30dff",
   "metadata": {},
   "source": [
    "### Results\n",
    "\n",
    "The accuracy was around 18%, which of course is not the best accuracy for what we are trying to accomplish. However, the confusion matrix above provides a lot more information on the results. \n",
    "\n",
    "From the matrix above we can see that the model was overall close in a lot of its guesses, the farther away the true round was the less amount of guesses. This is what we expect. \n",
    "\n",
    "But we can hopefully get the accuracy of this up some more with some model tuning."
   ]
  },
  {
   "cell_type": "markdown",
   "id": "797c18d6",
   "metadata": {},
   "source": [
    "## Scaling Features \n",
    "\n",
    "A way we can possibly improve performance is by scaling the features before using it in the model. This would prevent features from overpowering one another."
   ]
  },
  {
   "cell_type": "code",
   "execution_count": 32,
   "id": "b5ac9398",
   "metadata": {
    "ExecuteTime": {
     "end_time": "2024-04-29T03:32:56.315451600Z",
     "start_time": "2024-04-29T03:32:54.322558100Z"
    }
   },
   "outputs": [
    {
     "name": "stdout",
     "output_type": "stream",
     "text": [
      "Accuracy: 0.18090452261306533\n"
     ]
    }
   ],
   "source": [
    "scaler = StandardScaler()\n",
    "X_train_scaled = scaler.fit_transform(X_train)\n",
    "X_test_scaled = scaler.fit_transform(X_test)\n",
    "rf = RandomForestClassifier(random_state=42)\n",
    "rf.fit(X_train_scaled, y_train)\n",
    "y_pred = rf.predict(X_test_scaled)\n",
    "accuracy = accuracy_score(y_test, y_pred)\n",
    "print(f\"Accuracy: {accuracy}\")"
   ]
  },
  {
   "cell_type": "markdown",
   "id": "6854b4cc",
   "metadata": {},
   "source": [
    "## Selecting Different Features\n",
    "\n",
    "Now that we have a baseline model we can try altering some of the features being used in the random forest, some of them may be redundant and not needed. "
   ]
  },
  {
   "cell_type": "code",
   "execution_count": 33,
   "id": "2975811e",
   "metadata": {
    "ExecuteTime": {
     "end_time": "2024-04-29T03:32:57.324292900Z",
     "start_time": "2024-04-29T03:32:56.322453100Z"
    }
   },
   "outputs": [
    {
     "data": {
      "image/png": "[encoded data removed]",
      "text/plain": [
       "<Figure size 1200x600 with 1 Axes>"
      ]
     },
     "metadata": {},
     "output_type": "display_data"
    }
   ],
   "source": [
    "feature_importances = rf.feature_importances_\n",
    "feature_names = features.columns\n",
    "\n",
    "plt.figure(figsize=(12, 6))\n",
    "plt.bar(range(len(feature_importances)), feature_importances, align='center')\n",
    "plt.xticks(range(len(feature_importances)), feature_names, rotation=90)\n",
    "plt.xlabel('Feature')\n",
    "plt.ylabel('Importance')\n",
    "plt.title('Feature Importances')\n",
    "plt.show()"
   ]
  },
  {
   "cell_type": "markdown",
   "id": "c934b958",
   "metadata": {},
   "source": [
    "Surprisingly enough the positions do not seem to be making much of an impact in the data compared to other features. Which is not expected because the position a player is should impact their scores on the combine drills. Nonetheless, let's try seeing how the model behaves without the positions being accounted for. "
   ]
  },
  {
   "cell_type": "code",
   "execution_count": 34,
   "id": "e98a1f7a",
   "metadata": {
    "ExecuteTime": {
     "end_time": "2024-04-29T03:32:57.524564900Z",
     "start_time": "2024-04-29T03:32:57.332295700Z"
    }
   },
   "outputs": [],
   "source": [
    "relevant_features = ['Ht', 'Wt', '40yd', 'Vertical', 'Bench', 'Broad Jump', '3Cone', 'Shuttle']\n",
    "\n",
    "filtered_features = final_combine_data[relevant_features]\n",
    "X_train, X_test, y_train, y_test = train_test_split(filtered_features, target, test_size=0.2, random_state=42, stratify=target)"
   ]
  },
  {
   "cell_type": "code",
   "execution_count": 35,
   "id": "b366e1c7",
   "metadata": {
    "ExecuteTime": {
     "end_time": "2024-04-29T03:32:58.360309700Z",
     "start_time": "2024-04-29T03:32:57.355487100Z"
    }
   },
   "outputs": [
    {
     "name": "stdout",
     "output_type": "stream",
     "text": [
      "Accuracy: 0.19597989949748743\n"
     ]
    }
   ],
   "source": [
    "scaler = StandardScaler()\n",
    "X_train_scaled = scaler.fit_transform(X_train)\n",
    "X_test_scaled = scaler.fit_transform(X_test)\n",
    "rf = RandomForestClassifier(random_state=42)\n",
    "rf.fit(X_train_scaled, y_train)\n",
    "y_pred = rf.predict(X_test_scaled)\n",
    "accuracy = accuracy_score(y_test, y_pred)\n",
    "print(f\"Accuracy: {accuracy}\")"
   ]
  },
  {
   "cell_type": "markdown",
   "id": "35abf31f",
   "metadata": {},
   "source": [
    "As expected, removing the positions really hurt the model. This is not a good route to go, instead lets try selecting features using a greedy approach."
   ]
  },
  {
   "cell_type": "markdown",
   "id": "76714639",
   "metadata": {},
   "source": [
    "## Choosing Features via a Greedy Approach"
   ]
  },
  {
   "cell_type": "code",
   "execution_count": 36,
   "id": "4908dd44",
   "metadata": {
    "ExecuteTime": {
     "end_time": "2024-04-29T03:32:58.378222400Z",
     "start_time": "2024-04-29T03:32:58.366312100Z"
    }
   },
   "outputs": [],
   "source": [
    "def generate_greedy_model(features, target, rf):\n",
    "\n",
    "    X_train, X_test, y_train, y_test = train_test_split(features, target, test_size=0.2, random_state=42, stratify=target)\n",
    "\n",
    "    best_selected_features = set()\n",
    "\n",
    "    feature_importances = []\n",
    "\n",
    "    best_accuracy = 0.0\n",
    "\n",
    "    while len(best_selected_features) < len(X_train.columns):\n",
    "        best_feature = None\n",
    "        best_accuracy_iter = best_accuracy\n",
    "\n",
    "        # Iterate over all features\n",
    "        for feature in X_train.columns:\n",
    "            # Skip if feature is already selected\n",
    "            if feature in best_selected_features:\n",
    "                continue\n",
    "\n",
    "            # Add feature to selected features\n",
    "            candidate_features = list(best_selected_features) + [feature]\n",
    "\n",
    "            # Train the model with the candidate features\n",
    "            rf.fit(X_train[candidate_features], y_train)\n",
    "            y_pred = rf.predict(X_test[candidate_features])\n",
    "\n",
    "            # Calculate accuracy\n",
    "            accuracy = accuracy_score(y_test, y_pred)\n",
    "\n",
    "            # Update best feature if accuracy improves\n",
    "            if accuracy > best_accuracy_iter:\n",
    "                best_accuracy_iter = accuracy\n",
    "                best_feature = feature\n",
    "\n",
    "        # If no feature improves accuracy, stop doing this method\n",
    "        if best_feature is None:\n",
    "            break\n",
    "\n",
    "        # Add best feature to selected features\n",
    "        best_selected_features.add(best_feature)\n",
    "        feature_importances.append((best_feature, best_accuracy_iter))\n",
    "        best_accuracy = best_accuracy_iter\n",
    "\n",
    "        # Save the best model\n",
    "        best_model = copy.deepcopy(rf)\n",
    "\n",
    "    # Print selected features and their importance\n",
    "    print(\"Selected Features:\")\n",
    "    for feature, importance in feature_importances:\n",
    "        print(f\"{feature}: {importance}\")\n",
    "\n",
    "    print(f'Best Accuracy: {best_accuracy}')\n",
    "    rf.fit(X_train[list(best_selected_features)], y_train)\n",
    "    y_pred = rf.predict(X_test[list(best_selected_features)])\n",
    "    show_confusion_matrix(y_test, y_pred)"
   ]
  },
  {
   "cell_type": "code",
   "execution_count": 37,
   "id": "1ada21cd",
   "metadata": {
    "ExecuteTime": {
     "end_time": "2024-04-29T03:33:19.396521600Z",
     "start_time": "2024-04-29T03:32:58.371486600Z"
    }
   },
   "outputs": [
    {
     "name": "stdout",
     "output_type": "stream",
     "text": [
      "Selected Features:\n",
      "Ht: 0.17587939698492464\n",
      "Pos_RB: 0.18090452261306533\n",
      "Pos_S: 0.18592964824120603\n",
      "Best Accuracy: 0.18592964824120603\n"
     ]
    },
    {
     "data": {
      "image/png": "[encoded data removed]",
      "text/plain": [
       "<Figure size 1000x800 with 2 Axes>"
      ]
     },
     "metadata": {},
     "output_type": "display_data"
    }
   ],
   "source": [
    "generate_greedy_model(features, target, RandomForestClassifier(random_state=42))"
   ]
  },
  {
   "cell_type": "markdown",
   "id": "3cc26ce2",
   "metadata": {},
   "source": [
    "### Results of Greedy Approach\n",
    "\n",
    "Improvement! This is a decent improvement from the previous best accuracy. Although the greedy approach did better, it is still possible that there are better ways to choose features, doing the greedy approach does not guarantee the best set of features. "
   ]
  },
  {
   "cell_type": "markdown",
   "id": "7689b1e7",
   "metadata": {},
   "source": [
    "## Choosing Features via Forward Selection\n",
    "\n",
    "Forward Selection is a technique that starts with an empty set of features and adds features one by one, selecting the feature that best imporves the model performance. It will stop when adding more features no longer improves the performance of the model. "
   ]
  },
  {
   "cell_type": "code",
   "execution_count": 38,
   "id": "dd742577",
   "metadata": {
    "ExecuteTime": {
     "end_time": "2024-04-29T03:33:19.430324700Z",
     "start_time": "2024-04-29T03:33:19.407092400Z"
    }
   },
   "outputs": [],
   "source": [
    "def generate_forward_selection_model(features, target, rf):\n",
    "\n",
    "    X_train, X_test, y_train, y_test = train_test_split(features, target, test_size=0.2, random_state=42, stratify=target)\n",
    "\n",
    "    selected_features = set()\n",
    "\n",
    "    # Initialize the best accuracy\n",
    "    best_accuracy = 0.0\n",
    "\n",
    "    # Perform forward selection\n",
    "    while len(selected_features) < len(X_train.columns):\n",
    "        best_feature = None\n",
    "        best_accuracy_iter = best_accuracy\n",
    "\n",
    "        # Iterate over all features\n",
    "        for feature in X_train.columns:\n",
    "            # Skip if feature is already selected\n",
    "            if feature in selected_features:\n",
    "                continue\n",
    "\n",
    "            # Add feature to selected features\n",
    "            candidate_features = list(selected_features) + [feature]\n",
    "\n",
    "            # Train the model with the candidate features\n",
    "            rf.fit(X_train[candidate_features], y_train)\n",
    "            y_pred = rf.predict(X_test[candidate_features])\n",
    "\n",
    "            # Calculate accuracy\n",
    "            accuracy = accuracy_score(y_test, y_pred)\n",
    "\n",
    "            # Update best feature if accuracy improves\n",
    "            if accuracy > best_accuracy_iter:\n",
    "                best_accuracy_iter = accuracy\n",
    "                best_feature = feature\n",
    "\n",
    "        # If no feature improves accuracy, stop\n",
    "        if best_feature is None:\n",
    "            break\n",
    "\n",
    "        # Add best feature to selected features\n",
    "        selected_features.add(best_feature)\n",
    "        best_accuracy = best_accuracy_iter\n",
    "\n",
    "    # Print selected features\n",
    "    print(\"Selected Features:\")\n",
    "    print(selected_features)\n",
    "\n",
    "    # Train the final model with the selected features\n",
    "    final_feature_names = list(selected_features)\n",
    "    rf.fit(X_train[final_feature_names], y_train)\n",
    "\n",
    "    # Make predictions on the test set\n",
    "    y_pred = rf.predict(X_test[final_feature_names])\n",
    "\n",
    "    # Calculate the final accuracy\n",
    "    final_accuracy = accuracy_score(y_test, y_pred)\n",
    "    print(\"Final Accuracy:\", final_accuracy)\n",
    "    show_confusion_matrix(y_test, y_pred)\n",
    "    return y_test, y_pred"
   ]
  },
  {
   "cell_type": "code",
   "execution_count": null,
   "id": "8390e5eb",
   "metadata": {
    "ExecuteTime": {
     "start_time": "2024-04-29T03:33:19.415335100Z"
    },
    "is_executing": true
   },
   "outputs": [],
   "source": [
    "generate_forward_selection_model(features, target, RandomForestClassifier(random_state=42))"
   ]
  },
  {
   "cell_type": "markdown",
   "id": "da147745",
   "metadata": {},
   "source": [
    "## Hyperparameter Tuning\n",
    "\n",
    "Now that we have used two different methods to select the best features for the classifier, we can try to tune the hyperparameter of the model to get a better result. To do this we are going to use GridSearch to find the best possible hyperparameter out of a set of predetermined options."
   ]
  },
  {
   "cell_type": "code",
   "execution_count": null,
   "id": "cfcc833e",
   "metadata": {
    "is_executing": true
   },
   "outputs": [],
   "source": [
    "rf = RandomForestClassifier(random_state=42)\n",
    "\n",
    "param_grid = {\n",
    "  'n_estimators': [100, 200, 300],  # Number of trees in the forest\n",
    "  'max_depth': [4, 6, 8],  # Maximum depth of individual trees\n",
    "  'min_samples_split': [2, 5, 10],  # Minimum samples required to split a node\n",
    "  'min_samples_leaf': [1, 2, 4],  # Minimum samples required at each leaf node\n",
    "  'max_features': ['auto', 'sqrt', 'log2'],  # Number of features considered for splitting\n",
    "  'criterion': ['gini', 'entropy']  # Function to measure the quality of a split\n",
    "}\n",
    "\n",
    "X_train, X_test, y_train, y_test = train_test_split(features, target, test_size=0.2, random_state=42, stratify=target)"
   ]
  },
  {
   "cell_type": "code",
   "execution_count": null,
   "id": "65e32536",
   "metadata": {
    "is_executing": true
   },
   "outputs": [],
   "source": [
    "grid_search = GridSearchCV(estimator=rf, param_grid=param_grid, cv=5, n_jobs=-1)\n",
    "grid_search.fit(X_train, y_train)\n",
    "best_params = grid_search.best_params_\n",
    "print(\"Best Hyperparameters:\", best_params)\n",
    "best_model = grid_search.best_estimator_\n",
    "y_pred = best_model.predict(X_test)\n",
    "accuracy = accuracy_score(y_test, y_pred)\n",
    "print(\"Accuracy:\", accuracy)\n",
    "show_confusion_matrix(y_test, y_pred)"
   ]
  },
  {
   "cell_type": "code",
   "execution_count": null,
   "id": "8d369e52",
   "metadata": {
    "is_executing": true
   },
   "outputs": [],
   "source": [
    "generate_greedy_model(features, target, best_model)"
   ]
  },
  {
   "cell_type": "code",
   "execution_count": null,
   "id": "9af52354",
   "metadata": {
    "is_executing": true
   },
   "outputs": [],
   "source": [
    "y_test, y_pred = generate_forward_selection_model(features, target, best_model)"
   ]
  },
  {
   "cell_type": "markdown",
   "id": "4b6a5050",
   "metadata": {},
   "source": [
    "# Results Analysis\n",
    "\n",
    "The best model was able to get around 23% accuracy. This is not a high score, but it is not that simple. In NFL drafts the players drafted at round 1 are very similar in performance to those drafted in round 2. And we can see that the model often confuses that as such. Same goes for round 6 and around 7. And any other rounds that are close together. \n",
    "\n",
    "Based on our overall accuracy it is easy to say that there is really no correlation between combine performance and draft position. But to further analyze this let's generalize the rounds of the draft a little more, instead of there being seven possible outcomes lets see how well the model did with only two possible outcomes, the front half and the back half of the draft. \n",
    "\n",
    "Maybe then we can draw some conclusions on how combine performance affects draft position on a more general scale. \n",
    "\n",
    "Let's split up the data so that the front half of the draft corresponds to rounds 1-4 and the back half corresponds to 5-7\n",
    "\n"
   ]
  },
  {
   "cell_type": "code",
   "execution_count": null,
   "id": "26dcc256",
   "metadata": {
    "is_executing": true
   },
   "outputs": [],
   "source": [
    "results = []\n",
    "for test_val, pred_val in zip(y_test, y_pred):\n",
    "    if test_val <= 4 and pred_val <=4:\n",
    "        results.append(1)\n",
    "    elif test_val > 4 and pred_val > 4:\n",
    "        results.append(1)\n",
    "    else:\n",
    "        results.append(0)"
   ]
  },
  {
   "cell_type": "code",
   "execution_count": null,
   "id": "621dc262",
   "metadata": {
    "is_executing": true
   },
   "outputs": [],
   "source": [
    "print(f'Accuracy: {np.sum(results) / len(results)}')"
   ]
  },
  {
   "cell_type": "markdown",
   "id": "8b7832a5",
   "metadata": {},
   "source": [
    "According to the above results we get around a 60% accuracy, just a little bit over what you would get if you guess every time. This is enough evidence to say that there is no significant correlation between the draft position of an NFL player and their combine performance. \n",
    "\n",
    "There is some significance, and that is expected, but just not enough to accurately predict where a player is going to be drafted. \n",
    "\n"
   ]
  },
  {
   "cell_type": "markdown",
   "id": "0776d7f7",
   "metadata": {},
   "source": [
    "### Possible Improvements\n",
    "\n",
    "If we wanted to improve these results, it might be worthwhile to focus more on present day drafts than drafts from the early 2000s as well. The way football is played today is much different than it was even just 20 years ago, and our data might not represent that as well as it could. Today more than ever the most emphasis is placed on the speed of a player. So combine metrics might hold more weight in the present compared to drafts ranging back all the way to the 2000s. "
   ]
  },
  {
   "cell_type": "markdown",
   "id": "48a51c36",
   "metadata": {},
   "source": [
    "### Lessons Learned\n",
    "\n",
    "We learned that the NFL combine does not matter as much as we initially thought. We always saw the NFL combine as a way for players to really show their skills, but in fact that is not necessarily the case. Their college performance is and most likely always will be the biggest predictor of when players will get drafted. "
   ]
  }
 ],
 "metadata": {
  "kernelspec": {
   "display_name": "Python 3",
   "language": "python",
   "name": "python3"
  },
  "language_info": {
   "codemirror_mode": {
    "name": "ipython",
    "version": 3
   },
   "file_extension": ".py",
   "mimetype": "text/x-python",
   "name": "python",
   "nbconvert_exporter": "python",
   "pygments_lexer": "ipython3",
   "version": "3.11.5"
  }
 },
 "nbformat": 4,
 "nbformat_minor": 5
}
