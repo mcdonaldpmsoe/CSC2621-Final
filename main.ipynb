{
 "cells": [
  {
   "cell_type": "code",
   "execution_count": 47,
   "id": "initial_id",
   "metadata": {
    "ExecuteTime": {
     "end_time": "2024-04-12T02:26:00.737004900Z",
     "start_time": "2024-04-12T02:26:00.701647Z"
    },
    "collapsed": true
   },
   "outputs": [],
   "source": [
    "import pandas as pd\n",
    "import glob\n",
    "import seaborn as sns\n",
    "import matplotlib.pyplot as plt\n",
    "from sklearn.preprocessing import StandardScaler\n",
    "import copy\n",
    "import scipy.stats\n",
    "from scipy.stats import shapiro\n",
    "from scipy.stats import kruskal\n",
    "import tabulate\n",
    "from tabulate import tabulate"
   ]
  },
  {
   "cell_type": "markdown",
   "id": "f484398f",
   "metadata": {},
   "source": [
    "# Research Question\n",
    "\n",
    "How does combine performance affect the draft stock of an NFL athlete?"
   ]
  },
  {
   "cell_type": "markdown",
   "id": "e37ddc3e",
   "metadata": {},
   "source": [
    "# Hypothesis\n",
    "\n",
    "The better that NFL draftee's combine performance will cause them to be drafted higher in relation to other players of the same position. "
   ]
  },
  {
   "cell_type": "markdown",
   "id": "2012d081",
   "metadata": {},
   "source": [
    "# Data Preprocessing\n",
    "\n",
    "To identify this problem two different data sets were used. The first data set was used to highlight the combine performance of players. This data set highlighted metrics such as their 40 yard dash time, height, weight, vertical, bench press, 3 cone drill time, shuttle cone drill time. This includes combine performances for every single player that attended the combine from the years 2000 - 2022. \n",
    "\n",
    "The second data set was used to identify the player's draft position. This was not stated in the original data set, so by combining the two data sets together we are able to create a data set that has all combine metrics as well as draft position. \n",
    "\n"
   ]
  },
  {
   "cell_type": "code",
   "execution_count": 30,
   "id": "3479e62aae655cc1",
   "metadata": {
    "ExecuteTime": {
     "end_time": "2024-04-12T02:05:03.241467100Z",
     "start_time": "2024-04-12T02:05:02.308353900Z"
    },
    "collapsed": false
   },
   "outputs": [
    {
     "data": {
      "text/html": [
       "<div>\n",
       "<style scoped>\n",
       "    .dataframe tbody tr th:only-of-type {\n",
       "        vertical-align: middle;\n",
       "    }\n",
       "\n",
       "    .dataframe tbody tr th {\n",
       "        vertical-align: top;\n",
       "    }\n",
       "\n",
       "    .dataframe thead th {\n",
       "        text-align: right;\n",
       "    }\n",
       "</style>\n",
       "<table border=\"1\" class=\"dataframe\">\n",
       "  <thead>\n",
       "    <tr style=\"text-align: right;\">\n",
       "      <th></th>\n",
       "      <th>draft_year</th>\n",
       "      <th>player_name</th>\n",
       "      <th>school</th>\n",
       "      <th>pick</th>\n",
       "      <th>overall</th>\n",
       "      <th>round</th>\n",
       "    </tr>\n",
       "  </thead>\n",
       "  <tbody>\n",
       "    <tr>\n",
       "      <th>0</th>\n",
       "      <td>1967</td>\n",
       "      <td>Bubba Smith</td>\n",
       "      <td>Michigan State</td>\n",
       "      <td>1.0</td>\n",
       "      <td>1.0</td>\n",
       "      <td>1.0</td>\n",
       "    </tr>\n",
       "    <tr>\n",
       "      <th>1</th>\n",
       "      <td>1967</td>\n",
       "      <td>Clinton Jones</td>\n",
       "      <td>Michigan State</td>\n",
       "      <td>2.0</td>\n",
       "      <td>2.0</td>\n",
       "      <td>1.0</td>\n",
       "    </tr>\n",
       "    <tr>\n",
       "      <th>2</th>\n",
       "      <td>1967</td>\n",
       "      <td>Steve Spurrier</td>\n",
       "      <td>Florida</td>\n",
       "      <td>3.0</td>\n",
       "      <td>3.0</td>\n",
       "      <td>1.0</td>\n",
       "    </tr>\n",
       "    <tr>\n",
       "      <th>3</th>\n",
       "      <td>1967</td>\n",
       "      <td>Bob Griese</td>\n",
       "      <td>Purdue</td>\n",
       "      <td>4.0</td>\n",
       "      <td>4.0</td>\n",
       "      <td>1.0</td>\n",
       "    </tr>\n",
       "    <tr>\n",
       "      <th>4</th>\n",
       "      <td>1967</td>\n",
       "      <td>George Webster</td>\n",
       "      <td>Michigan State</td>\n",
       "      <td>5.0</td>\n",
       "      <td>5.0</td>\n",
       "      <td>1.0</td>\n",
       "    </tr>\n",
       "  </tbody>\n",
       "</table>\n",
       "</div>"
      ],
      "text/plain": [
       "   draft_year     player_name          school  pick  overall  round\n",
       "0        1967     Bubba Smith  Michigan State   1.0      1.0    1.0\n",
       "1        1967   Clinton Jones  Michigan State   2.0      2.0    1.0\n",
       "2        1967  Steve Spurrier         Florida   3.0      3.0    1.0\n",
       "3        1967      Bob Griese          Purdue   4.0      4.0    1.0\n",
       "4        1967  George Webster  Michigan State   5.0      5.0    1.0"
      ]
     },
     "execution_count": 30,
     "metadata": {},
     "output_type": "execute_result"
    }
   ],
   "source": [
    "csv_files = glob.glob('./combine-data/*.csv')\n",
    "draft_df = pd.read_csv('./draft-data/nfl_draft_prospects.csv')\n",
    "comb_df = pd.DataFrame()\n",
    "\n",
    "for file in csv_files:\n",
    "    df = pd.read_csv(file)\n",
    "    comb_df = pd.concat([comb_df, df])\n",
    "\n",
    "select_df = draft_df[['draft_year', 'player_name', 'school', 'pick', 'overall', 'round']]\n",
    "select_df.head()"
   ]
  },
  {
   "cell_type": "code",
   "execution_count": 31,
   "id": "71ce76ab60264d76",
   "metadata": {
    "ExecuteTime": {
     "end_time": "2024-04-12T02:05:03.241467100Z",
     "start_time": "2024-04-12T02:05:02.593898800Z"
    },
    "collapsed": false
   },
   "outputs": [],
   "source": [
    "merged_df = pd.merge(comb_df, select_df, left_on=['Player', 'School'], right_on=['player_name', 'school'], how='inner')\n",
    "merged_df = merged_df.drop(['player_name', 'school'], axis=1)"
   ]
  },
  {
   "cell_type": "code",
   "execution_count": 32,
   "id": "79e220670f16a2ec",
   "metadata": {
    "ExecuteTime": {
     "end_time": "2024-04-12T02:05:03.243472300Z",
     "start_time": "2024-04-12T02:05:02.629716400Z"
    },
    "collapsed": false
   },
   "outputs": [
    {
     "data": {
      "text/html": [
       "<div>\n",
       "<style scoped>\n",
       "    .dataframe tbody tr th:only-of-type {\n",
       "        vertical-align: middle;\n",
       "    }\n",
       "\n",
       "    .dataframe tbody tr th {\n",
       "        vertical-align: top;\n",
       "    }\n",
       "\n",
       "    .dataframe thead th {\n",
       "        text-align: right;\n",
       "    }\n",
       "</style>\n",
       "<table border=\"1\" class=\"dataframe\">\n",
       "  <thead>\n",
       "    <tr style=\"text-align: right;\">\n",
       "      <th></th>\n",
       "      <th>Player</th>\n",
       "      <th>Pos</th>\n",
       "      <th>School</th>\n",
       "      <th>Ht</th>\n",
       "      <th>Wt</th>\n",
       "      <th>40yd</th>\n",
       "      <th>Vertical</th>\n",
       "      <th>Bench</th>\n",
       "      <th>Broad Jump</th>\n",
       "      <th>3Cone</th>\n",
       "      <th>Shuttle</th>\n",
       "    </tr>\n",
       "  </thead>\n",
       "  <tbody>\n",
       "    <tr>\n",
       "      <th>0</th>\n",
       "      <td>John Abraham</td>\n",
       "      <td>OLB</td>\n",
       "      <td>South Carolina</td>\n",
       "      <td>6-4</td>\n",
       "      <td>252.0</td>\n",
       "      <td>4.55</td>\n",
       "      <td>NaN</td>\n",
       "      <td>NaN</td>\n",
       "      <td>NaN</td>\n",
       "      <td>NaN</td>\n",
       "      <td>NaN</td>\n",
       "    </tr>\n",
       "    <tr>\n",
       "      <th>1</th>\n",
       "      <td>Shaun Alexander</td>\n",
       "      <td>RB</td>\n",
       "      <td>Alabama</td>\n",
       "      <td>6-0</td>\n",
       "      <td>218.0</td>\n",
       "      <td>4.58</td>\n",
       "      <td>NaN</td>\n",
       "      <td>NaN</td>\n",
       "      <td>NaN</td>\n",
       "      <td>NaN</td>\n",
       "      <td>NaN</td>\n",
       "    </tr>\n",
       "    <tr>\n",
       "      <th>2</th>\n",
       "      <td>Darnell Alford</td>\n",
       "      <td>OT</td>\n",
       "      <td>Boston Col.</td>\n",
       "      <td>6-4</td>\n",
       "      <td>334.0</td>\n",
       "      <td>5.56</td>\n",
       "      <td>25.0</td>\n",
       "      <td>23.0</td>\n",
       "      <td>94.0</td>\n",
       "      <td>8.48</td>\n",
       "      <td>4.98</td>\n",
       "    </tr>\n",
       "    <tr>\n",
       "      <th>3</th>\n",
       "      <td>Kyle Allamon</td>\n",
       "      <td>TE</td>\n",
       "      <td>Texas Tech</td>\n",
       "      <td>6-2</td>\n",
       "      <td>253.0</td>\n",
       "      <td>4.97</td>\n",
       "      <td>29.0</td>\n",
       "      <td>NaN</td>\n",
       "      <td>104.0</td>\n",
       "      <td>7.29</td>\n",
       "      <td>4.49</td>\n",
       "    </tr>\n",
       "    <tr>\n",
       "      <th>4</th>\n",
       "      <td>Rashard Anderson</td>\n",
       "      <td>CB</td>\n",
       "      <td>Jackson State</td>\n",
       "      <td>6-2</td>\n",
       "      <td>206.0</td>\n",
       "      <td>4.55</td>\n",
       "      <td>34.0</td>\n",
       "      <td>NaN</td>\n",
       "      <td>123.0</td>\n",
       "      <td>7.18</td>\n",
       "      <td>4.15</td>\n",
       "    </tr>\n",
       "    <tr>\n",
       "      <th>5</th>\n",
       "      <td>Jake Arians</td>\n",
       "      <td>K</td>\n",
       "      <td>Ala-Birmingham</td>\n",
       "      <td>5-10</td>\n",
       "      <td>202.0</td>\n",
       "      <td>NaN</td>\n",
       "      <td>NaN</td>\n",
       "      <td>NaN</td>\n",
       "      <td>NaN</td>\n",
       "      <td>NaN</td>\n",
       "      <td>NaN</td>\n",
       "    </tr>\n",
       "    <tr>\n",
       "      <th>6</th>\n",
       "      <td>LaVar Arrington</td>\n",
       "      <td>OLB</td>\n",
       "      <td>Penn State</td>\n",
       "      <td>6-3</td>\n",
       "      <td>250.0</td>\n",
       "      <td>4.53</td>\n",
       "      <td>NaN</td>\n",
       "      <td>NaN</td>\n",
       "      <td>NaN</td>\n",
       "      <td>NaN</td>\n",
       "      <td>NaN</td>\n",
       "    </tr>\n",
       "    <tr>\n",
       "      <th>7</th>\n",
       "      <td>Corey Atkins</td>\n",
       "      <td>OLB</td>\n",
       "      <td>South Carolina</td>\n",
       "      <td>6-0</td>\n",
       "      <td>237.0</td>\n",
       "      <td>4.72</td>\n",
       "      <td>31.0</td>\n",
       "      <td>21.0</td>\n",
       "      <td>112.0</td>\n",
       "      <td>7.96</td>\n",
       "      <td>4.39</td>\n",
       "    </tr>\n",
       "    <tr>\n",
       "      <th>8</th>\n",
       "      <td>Kyle Atteberry</td>\n",
       "      <td>K</td>\n",
       "      <td>Baylor</td>\n",
       "      <td>6-0</td>\n",
       "      <td>167.0</td>\n",
       "      <td>NaN</td>\n",
       "      <td>NaN</td>\n",
       "      <td>NaN</td>\n",
       "      <td>NaN</td>\n",
       "      <td>NaN</td>\n",
       "      <td>NaN</td>\n",
       "    </tr>\n",
       "    <tr>\n",
       "      <th>9</th>\n",
       "      <td>Reggie Austin</td>\n",
       "      <td>CB</td>\n",
       "      <td>Wake Forest</td>\n",
       "      <td>5-9</td>\n",
       "      <td>175.0</td>\n",
       "      <td>4.44</td>\n",
       "      <td>35.0</td>\n",
       "      <td>17.0</td>\n",
       "      <td>119.0</td>\n",
       "      <td>7.03</td>\n",
       "      <td>4.14</td>\n",
       "    </tr>\n",
       "  </tbody>\n",
       "</table>\n",
       "</div>"
      ],
      "text/plain": [
       "             Player  Pos          School    Ht     Wt  40yd  Vertical  Bench  \\\n",
       "0      John Abraham  OLB  South Carolina   6-4  252.0  4.55       NaN    NaN   \n",
       "1   Shaun Alexander   RB         Alabama   6-0  218.0  4.58       NaN    NaN   \n",
       "2    Darnell Alford   OT     Boston Col.   6-4  334.0  5.56      25.0   23.0   \n",
       "3      Kyle Allamon   TE      Texas Tech   6-2  253.0  4.97      29.0    NaN   \n",
       "4  Rashard Anderson   CB   Jackson State   6-2  206.0  4.55      34.0    NaN   \n",
       "5       Jake Arians    K  Ala-Birmingham  5-10  202.0   NaN       NaN    NaN   \n",
       "6   LaVar Arrington  OLB      Penn State   6-3  250.0  4.53       NaN    NaN   \n",
       "7      Corey Atkins  OLB  South Carolina   6-0  237.0  4.72      31.0   21.0   \n",
       "8    Kyle Atteberry    K          Baylor   6-0  167.0   NaN       NaN    NaN   \n",
       "9     Reggie Austin   CB     Wake Forest   5-9  175.0  4.44      35.0   17.0   \n",
       "\n",
       "   Broad Jump  3Cone  Shuttle  \n",
       "0         NaN    NaN      NaN  \n",
       "1         NaN    NaN      NaN  \n",
       "2        94.0   8.48     4.98  \n",
       "3       104.0   7.29     4.49  \n",
       "4       123.0   7.18     4.15  \n",
       "5         NaN    NaN      NaN  \n",
       "6         NaN    NaN      NaN  \n",
       "7       112.0   7.96     4.39  \n",
       "8         NaN    NaN      NaN  \n",
       "9       119.0   7.03     4.14  "
      ]
     },
     "execution_count": 32,
     "metadata": {},
     "output_type": "execute_result"
    }
   ],
   "source": [
    "comb_df.head(10)"
   ]
  },
  {
   "cell_type": "code",
   "execution_count": 33,
   "id": "ce934d74856df631",
   "metadata": {
    "ExecuteTime": {
     "end_time": "2024-04-12T02:05:03.244471900Z",
     "start_time": "2024-04-12T02:05:02.701390700Z"
    },
    "collapsed": false
   },
   "outputs": [
    {
     "data": {
      "text/html": [
       "<div>\n",
       "<style scoped>\n",
       "    .dataframe tbody tr th:only-of-type {\n",
       "        vertical-align: middle;\n",
       "    }\n",
       "\n",
       "    .dataframe tbody tr th {\n",
       "        vertical-align: top;\n",
       "    }\n",
       "\n",
       "    .dataframe thead th {\n",
       "        text-align: right;\n",
       "    }\n",
       "</style>\n",
       "<table border=\"1\" class=\"dataframe\">\n",
       "  <thead>\n",
       "    <tr style=\"text-align: right;\">\n",
       "      <th></th>\n",
       "      <th>Player</th>\n",
       "      <th>Pos</th>\n",
       "      <th>School</th>\n",
       "      <th>Ht</th>\n",
       "      <th>Wt</th>\n",
       "      <th>40yd</th>\n",
       "      <th>Vertical</th>\n",
       "      <th>Bench</th>\n",
       "      <th>Broad Jump</th>\n",
       "      <th>3Cone</th>\n",
       "      <th>Shuttle</th>\n",
       "      <th>draft_year</th>\n",
       "      <th>pick</th>\n",
       "      <th>overall</th>\n",
       "      <th>round</th>\n",
       "    </tr>\n",
       "  </thead>\n",
       "  <tbody>\n",
       "    <tr>\n",
       "      <th>0</th>\n",
       "      <td>John Abraham</td>\n",
       "      <td>OLB</td>\n",
       "      <td>South Carolina</td>\n",
       "      <td>6-4</td>\n",
       "      <td>252.0</td>\n",
       "      <td>4.55</td>\n",
       "      <td>NaN</td>\n",
       "      <td>NaN</td>\n",
       "      <td>NaN</td>\n",
       "      <td>NaN</td>\n",
       "      <td>NaN</td>\n",
       "      <td>2000</td>\n",
       "      <td>13.0</td>\n",
       "      <td>13.0</td>\n",
       "      <td>1.0</td>\n",
       "    </tr>\n",
       "    <tr>\n",
       "      <th>1</th>\n",
       "      <td>Shaun Alexander</td>\n",
       "      <td>RB</td>\n",
       "      <td>Alabama</td>\n",
       "      <td>6-0</td>\n",
       "      <td>218.0</td>\n",
       "      <td>4.58</td>\n",
       "      <td>NaN</td>\n",
       "      <td>NaN</td>\n",
       "      <td>NaN</td>\n",
       "      <td>NaN</td>\n",
       "      <td>NaN</td>\n",
       "      <td>2000</td>\n",
       "      <td>19.0</td>\n",
       "      <td>19.0</td>\n",
       "      <td>1.0</td>\n",
       "    </tr>\n",
       "    <tr>\n",
       "      <th>2</th>\n",
       "      <td>Rashard Anderson</td>\n",
       "      <td>CB</td>\n",
       "      <td>Jackson State</td>\n",
       "      <td>6-2</td>\n",
       "      <td>206.0</td>\n",
       "      <td>4.55</td>\n",
       "      <td>34.0</td>\n",
       "      <td>NaN</td>\n",
       "      <td>123.0</td>\n",
       "      <td>7.18</td>\n",
       "      <td>4.15</td>\n",
       "      <td>2000</td>\n",
       "      <td>23.0</td>\n",
       "      <td>23.0</td>\n",
       "      <td>1.0</td>\n",
       "    </tr>\n",
       "    <tr>\n",
       "      <th>3</th>\n",
       "      <td>LaVar Arrington</td>\n",
       "      <td>OLB</td>\n",
       "      <td>Penn State</td>\n",
       "      <td>6-3</td>\n",
       "      <td>250.0</td>\n",
       "      <td>4.53</td>\n",
       "      <td>NaN</td>\n",
       "      <td>NaN</td>\n",
       "      <td>NaN</td>\n",
       "      <td>NaN</td>\n",
       "      <td>NaN</td>\n",
       "      <td>2000</td>\n",
       "      <td>2.0</td>\n",
       "      <td>2.0</td>\n",
       "      <td>1.0</td>\n",
       "    </tr>\n",
       "    <tr>\n",
       "      <th>4</th>\n",
       "      <td>Reggie Austin</td>\n",
       "      <td>CB</td>\n",
       "      <td>Wake Forest</td>\n",
       "      <td>5-9</td>\n",
       "      <td>175.0</td>\n",
       "      <td>4.44</td>\n",
       "      <td>35.0</td>\n",
       "      <td>17.0</td>\n",
       "      <td>119.0</td>\n",
       "      <td>7.03</td>\n",
       "      <td>4.14</td>\n",
       "      <td>2000</td>\n",
       "      <td>31.0</td>\n",
       "      <td>125.0</td>\n",
       "      <td>4.0</td>\n",
       "    </tr>\n",
       "    <tr>\n",
       "      <th>5</th>\n",
       "      <td>Mark Baniewicz</td>\n",
       "      <td>OT</td>\n",
       "      <td>Syracuse</td>\n",
       "      <td>6-6</td>\n",
       "      <td>312.0</td>\n",
       "      <td>5.34</td>\n",
       "      <td>28.0</td>\n",
       "      <td>20.0</td>\n",
       "      <td>96.0</td>\n",
       "      <td>7.72</td>\n",
       "      <td>4.73</td>\n",
       "      <td>2000</td>\n",
       "      <td>41.0</td>\n",
       "      <td>247.0</td>\n",
       "      <td>7.0</td>\n",
       "    </tr>\n",
       "    <tr>\n",
       "      <th>6</th>\n",
       "      <td>Rashidi Barnes</td>\n",
       "      <td>S</td>\n",
       "      <td>Colorado</td>\n",
       "      <td>6-0</td>\n",
       "      <td>208.0</td>\n",
       "      <td>4.62</td>\n",
       "      <td>35.0</td>\n",
       "      <td>10.0</td>\n",
       "      <td>114.0</td>\n",
       "      <td>6.92</td>\n",
       "      <td>4.32</td>\n",
       "      <td>2000</td>\n",
       "      <td>19.0</td>\n",
       "      <td>225.0</td>\n",
       "      <td>7.0</td>\n",
       "    </tr>\n",
       "    <tr>\n",
       "      <th>7</th>\n",
       "      <td>David Barrett</td>\n",
       "      <td>CB</td>\n",
       "      <td>Arkansas</td>\n",
       "      <td>5-10</td>\n",
       "      <td>199.0</td>\n",
       "      <td>4.44</td>\n",
       "      <td>37.5</td>\n",
       "      <td>16.0</td>\n",
       "      <td>116.0</td>\n",
       "      <td>6.81</td>\n",
       "      <td>4.04</td>\n",
       "      <td>2000</td>\n",
       "      <td>8.0</td>\n",
       "      <td>102.0</td>\n",
       "      <td>4.0</td>\n",
       "    </tr>\n",
       "    <tr>\n",
       "      <th>8</th>\n",
       "      <td>William Bartee</td>\n",
       "      <td>CB</td>\n",
       "      <td>Oklahoma</td>\n",
       "      <td>6-1</td>\n",
       "      <td>192.0</td>\n",
       "      <td>4.43</td>\n",
       "      <td>38.5</td>\n",
       "      <td>NaN</td>\n",
       "      <td>124.0</td>\n",
       "      <td>6.70</td>\n",
       "      <td>3.99</td>\n",
       "      <td>2000</td>\n",
       "      <td>23.0</td>\n",
       "      <td>54.0</td>\n",
       "      <td>2.0</td>\n",
       "    </tr>\n",
       "    <tr>\n",
       "      <th>9</th>\n",
       "      <td>Robert Bean</td>\n",
       "      <td>CB</td>\n",
       "      <td>Mississippi State</td>\n",
       "      <td>5-11</td>\n",
       "      <td>178.0</td>\n",
       "      <td>4.50</td>\n",
       "      <td>34.5</td>\n",
       "      <td>NaN</td>\n",
       "      <td>122.0</td>\n",
       "      <td>6.87</td>\n",
       "      <td>4.20</td>\n",
       "      <td>2000</td>\n",
       "      <td>4.0</td>\n",
       "      <td>133.0</td>\n",
       "      <td>5.0</td>\n",
       "    </tr>\n",
       "  </tbody>\n",
       "</table>\n",
       "</div>"
      ],
      "text/plain": [
       "             Player  Pos             School    Ht     Wt  40yd  Vertical  \\\n",
       "0      John Abraham  OLB     South Carolina   6-4  252.0  4.55       NaN   \n",
       "1   Shaun Alexander   RB            Alabama   6-0  218.0  4.58       NaN   \n",
       "2  Rashard Anderson   CB      Jackson State   6-2  206.0  4.55      34.0   \n",
       "3   LaVar Arrington  OLB         Penn State   6-3  250.0  4.53       NaN   \n",
       "4     Reggie Austin   CB        Wake Forest   5-9  175.0  4.44      35.0   \n",
       "5    Mark Baniewicz   OT           Syracuse   6-6  312.0  5.34      28.0   \n",
       "6    Rashidi Barnes    S           Colorado   6-0  208.0  4.62      35.0   \n",
       "7     David Barrett   CB           Arkansas  5-10  199.0  4.44      37.5   \n",
       "8    William Bartee   CB           Oklahoma   6-1  192.0  4.43      38.5   \n",
       "9       Robert Bean   CB  Mississippi State  5-11  178.0  4.50      34.5   \n",
       "\n",
       "   Bench  Broad Jump  3Cone  Shuttle  draft_year  pick  overall  round  \n",
       "0    NaN         NaN    NaN      NaN        2000  13.0     13.0    1.0  \n",
       "1    NaN         NaN    NaN      NaN        2000  19.0     19.0    1.0  \n",
       "2    NaN       123.0   7.18     4.15        2000  23.0     23.0    1.0  \n",
       "3    NaN         NaN    NaN      NaN        2000   2.0      2.0    1.0  \n",
       "4   17.0       119.0   7.03     4.14        2000  31.0    125.0    4.0  \n",
       "5   20.0        96.0   7.72     4.73        2000  41.0    247.0    7.0  \n",
       "6   10.0       114.0   6.92     4.32        2000  19.0    225.0    7.0  \n",
       "7   16.0       116.0   6.81     4.04        2000   8.0    102.0    4.0  \n",
       "8    NaN       124.0   6.70     3.99        2000  23.0     54.0    2.0  \n",
       "9    NaN       122.0   6.87     4.20        2000   4.0    133.0    5.0  "
      ]
     },
     "execution_count": 33,
     "metadata": {},
     "output_type": "execute_result"
    }
   ],
   "source": [
    "merged_df.head(10)"
   ]
  },
  {
   "cell_type": "markdown",
   "id": "ce5c325983996ce8",
   "metadata": {
    "ExecuteTime": {
     "end_time": "2024-03-18T15:36:08.814529300Z",
     "start_time": "2024-03-18T15:36:08.490561800Z"
    },
    "collapsed": false
   },
   "source": [
    "## Handling Missing Values"
   ]
  },
  {
   "cell_type": "markdown",
   "id": "84773461",
   "metadata": {},
   "source": [
    "Missing values are something that is a little tricky with this dataset. There are a lot of missing values, but it is not as easy as filling them in or dropping the ones that have missing data. There is supposed to be missing values, that is because some positions don't do certain drills. For instance quarterbacks do not participate in the bench press drill. So this is going to have to be very position specific. "
   ]
  },
  {
   "cell_type": "code",
   "execution_count": 34,
   "id": "b7d8692c39735583",
   "metadata": {
    "ExecuteTime": {
     "end_time": "2024-04-12T02:05:03.244471900Z",
     "start_time": "2024-04-12T02:05:02.725098200Z"
    },
    "collapsed": false
   },
   "outputs": [],
   "source": [
    "def convert_height(height):\n",
    "    '''\n",
    "    This method converts the parameter height into two decimal places. This is neccesary because the given value is of type string and a numerical representation for it is needed.\n",
    "    :param height: \n",
    "    :return: \n",
    "    '''\n",
    "    if height:\n",
    "        feet = int(str(height)[0:1])\n",
    "        inches_str = str(height)[2:]\n",
    "        if inches_str:  \n",
    "            inches = int(inches_str)\n",
    "            return str(feet + round(inches / 12, 2))\n",
    "    return None\n",
    "\n",
    "merged_df = merged_df.dropna(subset=['Ht'])\n",
    "merged_df['Ht'] = merged_df.Ht.apply(lambda x: convert_height(x))"
   ]
  },
  {
   "cell_type": "code",
   "execution_count": 35,
   "id": "ed04eb73",
   "metadata": {
    "ExecuteTime": {
     "end_time": "2024-04-12T02:05:03.245471100Z",
     "start_time": "2024-04-12T02:05:02.775101200Z"
    }
   },
   "outputs": [],
   "source": [
    "# All the positions possible\n",
    "positions = ['CB', 'OT', 'S', 'OG', 'ILB', 'DE', 'RB', 'FB', 'TE', 'OLB', 'DT',\n",
    "       'C', 'WR', 'QB', 'LS', 'EDGE', 'LB', 'OL', 'DL', 'DB']\n",
    "filtered_positions = ['CB', 'OT', 'S', 'OG', 'ILB', 'DE', 'RB', 'FB', 'TE', 'OLB', 'DT',\n",
    "       'C', 'WR', 'EDGE', 'LB', 'OL', 'DL', 'DB']\n",
    "# All of the drills being performed\n",
    "drills = ['40yd', 'Vertical', 'Bench', 'Broad Jump', '3Cone', 'Shuttle']\n",
    "\n",
    "drill_count_per_position = {'Pos' : [], '40yd' : [], 'Vertical' : [], 'Bench' : [], 'Broad Jump' : [], '3Cone' : [], 'Shuttle' : []}"
   ]
  },
  {
   "cell_type": "code",
   "execution_count": 36,
   "id": "243b3f91",
   "metadata": {
    "ExecuteTime": {
     "end_time": "2024-04-12T02:05:03.251556900Z",
     "start_time": "2024-04-12T02:05:02.789116900Z"
    }
   },
   "outputs": [],
   "source": [
    "for position in positions:\n",
    "    drill_count_per_position['Pos'].append(position)\n",
    "    for drill in drills:\n",
    "        count = merged_df[merged_df['Pos'] == position][drill].dropna().size\n",
    "        drill_count_per_position[drill].append(count)"
   ]
  },
  {
   "cell_type": "code",
   "execution_count": 37,
   "id": "54b75c36",
   "metadata": {
    "ExecuteTime": {
     "end_time": "2024-04-12T02:05:03.253471900Z",
     "start_time": "2024-04-12T02:05:03.039861100Z"
    }
   },
   "outputs": [
    {
     "data": {
      "text/html": [
       "<div>\n",
       "<style scoped>\n",
       "    .dataframe tbody tr th:only-of-type {\n",
       "        vertical-align: middle;\n",
       "    }\n",
       "\n",
       "    .dataframe tbody tr th {\n",
       "        vertical-align: top;\n",
       "    }\n",
       "\n",
       "    .dataframe thead th {\n",
       "        text-align: right;\n",
       "    }\n",
       "</style>\n",
       "<table border=\"1\" class=\"dataframe\">\n",
       "  <thead>\n",
       "    <tr style=\"text-align: right;\">\n",
       "      <th></th>\n",
       "      <th>Pos</th>\n",
       "      <th>40yd</th>\n",
       "      <th>Vertical</th>\n",
       "      <th>Bench</th>\n",
       "      <th>Broad Jump</th>\n",
       "      <th>3Cone</th>\n",
       "      <th>Shuttle</th>\n",
       "    </tr>\n",
       "  </thead>\n",
       "  <tbody>\n",
       "    <tr>\n",
       "      <th>0</th>\n",
       "      <td>CB</td>\n",
       "      <td>509</td>\n",
       "      <td>420</td>\n",
       "      <td>411</td>\n",
       "      <td>421</td>\n",
       "      <td>323</td>\n",
       "      <td>331</td>\n",
       "    </tr>\n",
       "    <tr>\n",
       "      <th>1</th>\n",
       "      <td>OT</td>\n",
       "      <td>343</td>\n",
       "      <td>290</td>\n",
       "      <td>289</td>\n",
       "      <td>286</td>\n",
       "      <td>268</td>\n",
       "      <td>273</td>\n",
       "    </tr>\n",
       "    <tr>\n",
       "      <th>2</th>\n",
       "      <td>S</td>\n",
       "      <td>351</td>\n",
       "      <td>304</td>\n",
       "      <td>306</td>\n",
       "      <td>303</td>\n",
       "      <td>221</td>\n",
       "      <td>222</td>\n",
       "    </tr>\n",
       "    <tr>\n",
       "      <th>3</th>\n",
       "      <td>OG</td>\n",
       "      <td>230</td>\n",
       "      <td>188</td>\n",
       "      <td>195</td>\n",
       "      <td>184</td>\n",
       "      <td>174</td>\n",
       "      <td>180</td>\n",
       "    </tr>\n",
       "    <tr>\n",
       "      <th>4</th>\n",
       "      <td>ILB</td>\n",
       "      <td>180</td>\n",
       "      <td>148</td>\n",
       "      <td>149</td>\n",
       "      <td>146</td>\n",
       "      <td>114</td>\n",
       "      <td>119</td>\n",
       "    </tr>\n",
       "    <tr>\n",
       "      <th>5</th>\n",
       "      <td>DE</td>\n",
       "      <td>347</td>\n",
       "      <td>277</td>\n",
       "      <td>271</td>\n",
       "      <td>274</td>\n",
       "      <td>242</td>\n",
       "      <td>248</td>\n",
       "    </tr>\n",
       "    <tr>\n",
       "      <th>6</th>\n",
       "      <td>RB</td>\n",
       "      <td>391</td>\n",
       "      <td>332</td>\n",
       "      <td>314</td>\n",
       "      <td>325</td>\n",
       "      <td>234</td>\n",
       "      <td>233</td>\n",
       "    </tr>\n",
       "    <tr>\n",
       "      <th>7</th>\n",
       "      <td>FB</td>\n",
       "      <td>74</td>\n",
       "      <td>65</td>\n",
       "      <td>61</td>\n",
       "      <td>65</td>\n",
       "      <td>61</td>\n",
       "      <td>61</td>\n",
       "    </tr>\n",
       "    <tr>\n",
       "      <th>8</th>\n",
       "      <td>TE</td>\n",
       "      <td>255</td>\n",
       "      <td>213</td>\n",
       "      <td>213</td>\n",
       "      <td>207</td>\n",
       "      <td>183</td>\n",
       "      <td>183</td>\n",
       "    </tr>\n",
       "    <tr>\n",
       "      <th>9</th>\n",
       "      <td>OLB</td>\n",
       "      <td>333</td>\n",
       "      <td>273</td>\n",
       "      <td>261</td>\n",
       "      <td>278</td>\n",
       "      <td>235</td>\n",
       "      <td>240</td>\n",
       "    </tr>\n",
       "    <tr>\n",
       "      <th>10</th>\n",
       "      <td>DT</td>\n",
       "      <td>329</td>\n",
       "      <td>251</td>\n",
       "      <td>245</td>\n",
       "      <td>245</td>\n",
       "      <td>217</td>\n",
       "      <td>222</td>\n",
       "    </tr>\n",
       "    <tr>\n",
       "      <th>11</th>\n",
       "      <td>C</td>\n",
       "      <td>107</td>\n",
       "      <td>88</td>\n",
       "      <td>94</td>\n",
       "      <td>87</td>\n",
       "      <td>86</td>\n",
       "      <td>87</td>\n",
       "    </tr>\n",
       "    <tr>\n",
       "      <th>12</th>\n",
       "      <td>WR</td>\n",
       "      <td>646</td>\n",
       "      <td>540</td>\n",
       "      <td>339</td>\n",
       "      <td>518</td>\n",
       "      <td>414</td>\n",
       "      <td>425</td>\n",
       "    </tr>\n",
       "    <tr>\n",
       "      <th>13</th>\n",
       "      <td>QB</td>\n",
       "      <td>234</td>\n",
       "      <td>199</td>\n",
       "      <td>7</td>\n",
       "      <td>200</td>\n",
       "      <td>186</td>\n",
       "      <td>187</td>\n",
       "    </tr>\n",
       "    <tr>\n",
       "      <th>14</th>\n",
       "      <td>LS</td>\n",
       "      <td>6</td>\n",
       "      <td>5</td>\n",
       "      <td>2</td>\n",
       "      <td>5</td>\n",
       "      <td>4</td>\n",
       "      <td>4</td>\n",
       "    </tr>\n",
       "    <tr>\n",
       "      <th>15</th>\n",
       "      <td>EDGE</td>\n",
       "      <td>30</td>\n",
       "      <td>29</td>\n",
       "      <td>25</td>\n",
       "      <td>29</td>\n",
       "      <td>21</td>\n",
       "      <td>21</td>\n",
       "    </tr>\n",
       "    <tr>\n",
       "      <th>16</th>\n",
       "      <td>LB</td>\n",
       "      <td>59</td>\n",
       "      <td>61</td>\n",
       "      <td>57</td>\n",
       "      <td>60</td>\n",
       "      <td>41</td>\n",
       "      <td>44</td>\n",
       "    </tr>\n",
       "    <tr>\n",
       "      <th>17</th>\n",
       "      <td>OL</td>\n",
       "      <td>68</td>\n",
       "      <td>68</td>\n",
       "      <td>69</td>\n",
       "      <td>67</td>\n",
       "      <td>56</td>\n",
       "      <td>56</td>\n",
       "    </tr>\n",
       "    <tr>\n",
       "      <th>18</th>\n",
       "      <td>DL</td>\n",
       "      <td>72</td>\n",
       "      <td>63</td>\n",
       "      <td>65</td>\n",
       "      <td>60</td>\n",
       "      <td>48</td>\n",
       "      <td>51</td>\n",
       "    </tr>\n",
       "    <tr>\n",
       "      <th>19</th>\n",
       "      <td>DB</td>\n",
       "      <td>27</td>\n",
       "      <td>29</td>\n",
       "      <td>25</td>\n",
       "      <td>29</td>\n",
       "      <td>24</td>\n",
       "      <td>24</td>\n",
       "    </tr>\n",
       "  </tbody>\n",
       "</table>\n",
       "</div>"
      ],
      "text/plain": [
       "     Pos  40yd  Vertical  Bench  Broad Jump  3Cone  Shuttle\n",
       "0     CB   509       420    411         421    323      331\n",
       "1     OT   343       290    289         286    268      273\n",
       "2      S   351       304    306         303    221      222\n",
       "3     OG   230       188    195         184    174      180\n",
       "4    ILB   180       148    149         146    114      119\n",
       "5     DE   347       277    271         274    242      248\n",
       "6     RB   391       332    314         325    234      233\n",
       "7     FB    74        65     61          65     61       61\n",
       "8     TE   255       213    213         207    183      183\n",
       "9    OLB   333       273    261         278    235      240\n",
       "10    DT   329       251    245         245    217      222\n",
       "11     C   107        88     94          87     86       87\n",
       "12    WR   646       540    339         518    414      425\n",
       "13    QB   234       199      7         200    186      187\n",
       "14    LS     6         5      2           5      4        4\n",
       "15  EDGE    30        29     25          29     21       21\n",
       "16    LB    59        61     57          60     41       44\n",
       "17    OL    68        68     69          67     56       56\n",
       "18    DL    72        63     65          60     48       51\n",
       "19    DB    27        29     25          29     24       24"
      ]
     },
     "execution_count": 37,
     "metadata": {},
     "output_type": "execute_result"
    }
   ],
   "source": [
    "drill_count_per_position_df = pd.DataFrame(drill_count_per_position)\n",
    "drill_count_per_position_df.head(20)"
   ]
  },
  {
   "cell_type": "markdown",
   "id": "77e7a5b4",
   "metadata": {},
   "source": [
    "This gives a pretty good idea of what positions partake in what drills. For instance, QB's do not seem to partake in the bench press. But this also shows how some positions do not have many players. For instance LS has next to no data associated with it. But for the drills we are going to administer on, we need to make sure that the players have participated in ALL of the drills. Not just some. So lets see how many players per each position have participated in all of the drills..."
   ]
  },
  {
   "cell_type": "code",
   "execution_count": 38,
   "id": "fe6e31b4",
   "metadata": {
    "ExecuteTime": {
     "end_time": "2024-04-12T02:05:03.255469200Z",
     "start_time": "2024-04-12T02:05:03.055062800Z"
    }
   },
   "outputs": [
    {
     "name": "stdout",
     "output_type": "stream",
     "text": [
      "{'CB': 3300, 'OT': 2910, 'S': 2295, 'OG': 1935, 'ILB': 1095, 'DE': 2670, 'RB': 2310, 'FB': 630, 'TE': 2010, 'OLB': 2580, 'DT': 2280, 'C': 975, 'WR': 2610, 'QB': 30, 'LS': 15, 'EDGE': 180, 'LB': 300, 'OL': 555, 'DL': 405, 'DB': 240}\n"
     ]
    }
   ],
   "source": [
    "count_per_pos = {}\n",
    "for position in positions:\n",
    "    temp = merged_df[merged_df['Pos'] == position].dropna()\n",
    "    count_per_pos[position] = temp.size\n",
    "\n",
    "print(count_per_pos)"
   ]
  },
  {
   "cell_type": "markdown",
   "id": "355530a2",
   "metadata": {},
   "source": [
    "There seems to be a sufficent amount of data for each position. However, there are positions that do not make sense to analyze based on combine performance alone. One of those positions is Quarterback. The combine drills in this dataset does not account for how well they throw, which of course is the most important skill for a QB. Another is a Long Snapper, they just do not have enough data to use in this dataset. Besides those two positions every other position should be okay to do.  "
   ]
  },
  {
   "cell_type": "code",
   "execution_count": 39,
   "id": "3ab769a1",
   "metadata": {
    "ExecuteTime": {
     "end_time": "2024-04-12T02:05:03.255469200Z",
     "start_time": "2024-04-12T02:05:03.131930300Z"
    }
   },
   "outputs": [],
   "source": [
    "# Removing those positions now\n",
    "merged_df = merged_df[(merged_df['Pos'] != 'QB') & (merged_df['Pos'] != 'LS')]\n",
    "merged_df = merged_df.dropna()"
   ]
  },
  {
   "cell_type": "markdown",
   "id": "7c995c79",
   "metadata": {},
   "source": [
    "Now we are going to need to scale this data. This is because we do not want the larger values such as broad jump overpowering smaller values such as 40yd times. "
   ]
  },
  {
   "cell_type": "code",
   "execution_count": 40,
   "id": "48de4589",
   "metadata": {
    "ExecuteTime": {
     "end_time": "2024-04-12T02:05:03.256473Z",
     "start_time": "2024-04-12T02:05:03.149236700Z"
    }
   },
   "outputs": [],
   "source": [
    "scaler = StandardScaler()\n",
    "drill_values = merged_df[drills] \n",
    "scaled_drill_values = scaler.fit_transform(drill_values)\n",
    "scaled_combine_data = copy.deepcopy(merged_df)\n",
    "scaled_combine_data[drills] = scaled_drill_values"
   ]
  },
  {
   "cell_type": "code",
   "execution_count": 41,
   "id": "b17d50b8",
   "metadata": {
    "ExecuteTime": {
     "end_time": "2024-04-12T02:05:03.257468500Z",
     "start_time": "2024-04-12T02:05:03.187859800Z"
    }
   },
   "outputs": [
    {
     "data": {
      "text/html": [
       "<div>\n",
       "<style scoped>\n",
       "    .dataframe tbody tr th:only-of-type {\n",
       "        vertical-align: middle;\n",
       "    }\n",
       "\n",
       "    .dataframe tbody tr th {\n",
       "        vertical-align: top;\n",
       "    }\n",
       "\n",
       "    .dataframe thead th {\n",
       "        text-align: right;\n",
       "    }\n",
       "</style>\n",
       "<table border=\"1\" class=\"dataframe\">\n",
       "  <thead>\n",
       "    <tr style=\"text-align: right;\">\n",
       "      <th></th>\n",
       "      <th>Player</th>\n",
       "      <th>Pos</th>\n",
       "      <th>School</th>\n",
       "      <th>Ht</th>\n",
       "      <th>Wt</th>\n",
       "      <th>40yd</th>\n",
       "      <th>Vertical</th>\n",
       "      <th>Bench</th>\n",
       "      <th>Broad Jump</th>\n",
       "      <th>3Cone</th>\n",
       "      <th>Shuttle</th>\n",
       "      <th>draft_year</th>\n",
       "      <th>pick</th>\n",
       "      <th>overall</th>\n",
       "      <th>round</th>\n",
       "    </tr>\n",
       "  </thead>\n",
       "  <tbody>\n",
       "    <tr>\n",
       "      <th>4</th>\n",
       "      <td>Reggie Austin</td>\n",
       "      <td>CB</td>\n",
       "      <td>Wake Forest</td>\n",
       "      <td>5.75</td>\n",
       "      <td>175.0</td>\n",
       "      <td>-1.092018</td>\n",
       "      <td>0.454355</td>\n",
       "      <td>-0.710312</td>\n",
       "      <td>0.479908</td>\n",
       "      <td>-0.590576</td>\n",
       "      <td>-0.944437</td>\n",
       "      <td>2000</td>\n",
       "      <td>31.0</td>\n",
       "      <td>125.0</td>\n",
       "      <td>4.0</td>\n",
       "    </tr>\n",
       "    <tr>\n",
       "      <th>5</th>\n",
       "      <td>Mark Baniewicz</td>\n",
       "      <td>OT</td>\n",
       "      <td>Syracuse</td>\n",
       "      <td>6.5</td>\n",
       "      <td>312.0</td>\n",
       "      <td>1.784187</td>\n",
       "      <td>-1.214545</td>\n",
       "      <td>-0.236825</td>\n",
       "      <td>-1.949722</td>\n",
       "      <td>1.094383</td>\n",
       "      <td>1.294482</td>\n",
       "      <td>2000</td>\n",
       "      <td>41.0</td>\n",
       "      <td>247.0</td>\n",
       "      <td>7.0</td>\n",
       "    </tr>\n",
       "    <tr>\n",
       "      <th>6</th>\n",
       "      <td>Rashidi Barnes</td>\n",
       "      <td>S</td>\n",
       "      <td>Colorado</td>\n",
       "      <td>6.0</td>\n",
       "      <td>208.0</td>\n",
       "      <td>-0.516777</td>\n",
       "      <td>0.454355</td>\n",
       "      <td>-1.815116</td>\n",
       "      <td>-0.048272</td>\n",
       "      <td>-0.859193</td>\n",
       "      <td>-0.261377</td>\n",
       "      <td>2000</td>\n",
       "      <td>19.0</td>\n",
       "      <td>225.0</td>\n",
       "      <td>7.0</td>\n",
       "    </tr>\n",
       "    <tr>\n",
       "      <th>7</th>\n",
       "      <td>David Barrett</td>\n",
       "      <td>CB</td>\n",
       "      <td>Arkansas</td>\n",
       "      <td>5.83</td>\n",
       "      <td>199.0</td>\n",
       "      <td>-1.092018</td>\n",
       "      <td>1.050391</td>\n",
       "      <td>-0.868141</td>\n",
       "      <td>0.163000</td>\n",
       "      <td>-1.127810</td>\n",
       "      <td>-1.323914</td>\n",
       "      <td>2000</td>\n",
       "      <td>8.0</td>\n",
       "      <td>102.0</td>\n",
       "      <td>4.0</td>\n",
       "    </tr>\n",
       "    <tr>\n",
       "      <th>11</th>\n",
       "      <td>Rogers Beckett</td>\n",
       "      <td>S</td>\n",
       "      <td>Marshall</td>\n",
       "      <td>6.08</td>\n",
       "      <td>207.0</td>\n",
       "      <td>-0.516777</td>\n",
       "      <td>1.527220</td>\n",
       "      <td>-1.025970</td>\n",
       "      <td>0.479908</td>\n",
       "      <td>-1.933660</td>\n",
       "      <td>-0.375220</td>\n",
       "      <td>2000</td>\n",
       "      <td>12.0</td>\n",
       "      <td>43.0</td>\n",
       "      <td>2.0</td>\n",
       "    </tr>\n",
       "  </tbody>\n",
       "</table>\n",
       "</div>"
      ],
      "text/plain": [
       "            Player Pos       School    Ht     Wt      40yd  Vertical  \\\n",
       "4    Reggie Austin  CB  Wake Forest  5.75  175.0 -1.092018  0.454355   \n",
       "5   Mark Baniewicz  OT     Syracuse   6.5  312.0  1.784187 -1.214545   \n",
       "6   Rashidi Barnes   S     Colorado   6.0  208.0 -0.516777  0.454355   \n",
       "7    David Barrett  CB     Arkansas  5.83  199.0 -1.092018  1.050391   \n",
       "11  Rogers Beckett   S     Marshall  6.08  207.0 -0.516777  1.527220   \n",
       "\n",
       "       Bench  Broad Jump     3Cone   Shuttle  draft_year  pick  overall  round  \n",
       "4  -0.710312    0.479908 -0.590576 -0.944437        2000  31.0    125.0    4.0  \n",
       "5  -0.236825   -1.949722  1.094383  1.294482        2000  41.0    247.0    7.0  \n",
       "6  -1.815116   -0.048272 -0.859193 -0.261377        2000  19.0    225.0    7.0  \n",
       "7  -0.868141    0.163000 -1.127810 -1.323914        2000   8.0    102.0    4.0  \n",
       "11 -1.025970    0.479908 -1.933660 -0.375220        2000  12.0     43.0    2.0  "
      ]
     },
     "execution_count": 41,
     "metadata": {},
     "output_type": "execute_result"
    }
   ],
   "source": [
    "scaled_combine_data.head()"
   ]
  },
  {
   "cell_type": "markdown",
   "id": "8eb6cfc3",
   "metadata": {},
   "source": [
    "Now lets grab only the necessary data. We are not going to need anything about their height or weight, and will not need their name included in this dataset either. The round they are drafted in will not matter since we are going to try and predict the number pick they are so we can drop that as well. "
   ]
  },
  {
   "cell_type": "code",
   "execution_count": 42,
   "id": "1cf8367c",
   "metadata": {
    "ExecuteTime": {
     "end_time": "2024-04-12T02:05:03.277551Z",
     "start_time": "2024-04-12T02:05:03.215238900Z"
    }
   },
   "outputs": [
    {
     "data": {
      "text/html": [
       "<div>\n",
       "<style scoped>\n",
       "    .dataframe tbody tr th:only-of-type {\n",
       "        vertical-align: middle;\n",
       "    }\n",
       "\n",
       "    .dataframe tbody tr th {\n",
       "        vertical-align: top;\n",
       "    }\n",
       "\n",
       "    .dataframe thead th {\n",
       "        text-align: right;\n",
       "    }\n",
       "</style>\n",
       "<table border=\"1\" class=\"dataframe\">\n",
       "  <thead>\n",
       "    <tr style=\"text-align: right;\">\n",
       "      <th></th>\n",
       "      <th>Pos</th>\n",
       "      <th>40yd</th>\n",
       "      <th>Vertical</th>\n",
       "      <th>Bench</th>\n",
       "      <th>Broad Jump</th>\n",
       "      <th>3Cone</th>\n",
       "      <th>Shuttle</th>\n",
       "      <th>overall</th>\n",
       "    </tr>\n",
       "  </thead>\n",
       "  <tbody>\n",
       "    <tr>\n",
       "      <th>4</th>\n",
       "      <td>CB</td>\n",
       "      <td>-1.092018</td>\n",
       "      <td>0.454355</td>\n",
       "      <td>-0.710312</td>\n",
       "      <td>0.479908</td>\n",
       "      <td>-0.590576</td>\n",
       "      <td>-0.944437</td>\n",
       "      <td>125.0</td>\n",
       "    </tr>\n",
       "    <tr>\n",
       "      <th>5</th>\n",
       "      <td>OT</td>\n",
       "      <td>1.784187</td>\n",
       "      <td>-1.214545</td>\n",
       "      <td>-0.236825</td>\n",
       "      <td>-1.949722</td>\n",
       "      <td>1.094383</td>\n",
       "      <td>1.294482</td>\n",
       "      <td>247.0</td>\n",
       "    </tr>\n",
       "    <tr>\n",
       "      <th>6</th>\n",
       "      <td>S</td>\n",
       "      <td>-0.516777</td>\n",
       "      <td>0.454355</td>\n",
       "      <td>-1.815116</td>\n",
       "      <td>-0.048272</td>\n",
       "      <td>-0.859193</td>\n",
       "      <td>-0.261377</td>\n",
       "      <td>225.0</td>\n",
       "    </tr>\n",
       "    <tr>\n",
       "      <th>7</th>\n",
       "      <td>CB</td>\n",
       "      <td>-1.092018</td>\n",
       "      <td>1.050391</td>\n",
       "      <td>-0.868141</td>\n",
       "      <td>0.163000</td>\n",
       "      <td>-1.127810</td>\n",
       "      <td>-1.323914</td>\n",
       "      <td>102.0</td>\n",
       "    </tr>\n",
       "    <tr>\n",
       "      <th>11</th>\n",
       "      <td>S</td>\n",
       "      <td>-0.516777</td>\n",
       "      <td>1.527220</td>\n",
       "      <td>-1.025970</td>\n",
       "      <td>0.479908</td>\n",
       "      <td>-1.933660</td>\n",
       "      <td>-0.375220</td>\n",
       "      <td>43.0</td>\n",
       "    </tr>\n",
       "  </tbody>\n",
       "</table>\n",
       "</div>"
      ],
      "text/plain": [
       "   Pos      40yd  Vertical     Bench  Broad Jump     3Cone   Shuttle  overall\n",
       "4   CB -1.092018  0.454355 -0.710312    0.479908 -0.590576 -0.944437    125.0\n",
       "5   OT  1.784187 -1.214545 -0.236825   -1.949722  1.094383  1.294482    247.0\n",
       "6    S -0.516777  0.454355 -1.815116   -0.048272 -0.859193 -0.261377    225.0\n",
       "7   CB -1.092018  1.050391 -0.868141    0.163000 -1.127810 -1.323914    102.0\n",
       "11   S -0.516777  1.527220 -1.025970    0.479908 -1.933660 -0.375220     43.0"
      ]
     },
     "execution_count": 42,
     "metadata": {},
     "output_type": "execute_result"
    }
   ],
   "source": [
    "cols_to_exclude = ['Player', 'Ht', 'Wt', 'draft_year', 'round', 'School', 'pick']\n",
    "final_scaled_combine_data = scaled_combine_data.drop(cols_to_exclude, axis=1)\n",
    "final_scaled_combine_data.head()"
   ]
  },
  {
   "cell_type": "markdown",
   "id": "971d4792",
   "metadata": {},
   "source": [
    "And now we need to make the position variable categorical, so by using one hot encoding we can do that"
   ]
  },
  {
   "cell_type": "code",
   "execution_count": 43,
   "id": "a7e155a4",
   "metadata": {
    "ExecuteTime": {
     "end_time": "2024-04-12T02:05:03.527443900Z",
     "start_time": "2024-04-12T02:05:03.244471900Z"
    }
   },
   "outputs": [
    {
     "data": {
      "text/html": [
       "<div>\n",
       "<style scoped>\n",
       "    .dataframe tbody tr th:only-of-type {\n",
       "        vertical-align: middle;\n",
       "    }\n",
       "\n",
       "    .dataframe tbody tr th {\n",
       "        vertical-align: top;\n",
       "    }\n",
       "\n",
       "    .dataframe thead th {\n",
       "        text-align: right;\n",
       "    }\n",
       "</style>\n",
       "<table border=\"1\" class=\"dataframe\">\n",
       "  <thead>\n",
       "    <tr style=\"text-align: right;\">\n",
       "      <th></th>\n",
       "      <th>40yd</th>\n",
       "      <th>Vertical</th>\n",
       "      <th>Bench</th>\n",
       "      <th>Broad Jump</th>\n",
       "      <th>3Cone</th>\n",
       "      <th>Shuttle</th>\n",
       "      <th>overall</th>\n",
       "      <th>Pos_C</th>\n",
       "      <th>Pos_CB</th>\n",
       "      <th>Pos_DB</th>\n",
       "      <th>...</th>\n",
       "      <th>Pos_ILB</th>\n",
       "      <th>Pos_LB</th>\n",
       "      <th>Pos_OG</th>\n",
       "      <th>Pos_OL</th>\n",
       "      <th>Pos_OLB</th>\n",
       "      <th>Pos_OT</th>\n",
       "      <th>Pos_RB</th>\n",
       "      <th>Pos_S</th>\n",
       "      <th>Pos_TE</th>\n",
       "      <th>Pos_WR</th>\n",
       "    </tr>\n",
       "  </thead>\n",
       "  <tbody>\n",
       "    <tr>\n",
       "      <th>4</th>\n",
       "      <td>-1.092018</td>\n",
       "      <td>0.454355</td>\n",
       "      <td>-0.710312</td>\n",
       "      <td>0.479908</td>\n",
       "      <td>-0.590576</td>\n",
       "      <td>-0.944437</td>\n",
       "      <td>125.0</td>\n",
       "      <td>0</td>\n",
       "      <td>1</td>\n",
       "      <td>0</td>\n",
       "      <td>...</td>\n",
       "      <td>0</td>\n",
       "      <td>0</td>\n",
       "      <td>0</td>\n",
       "      <td>0</td>\n",
       "      <td>0</td>\n",
       "      <td>0</td>\n",
       "      <td>0</td>\n",
       "      <td>0</td>\n",
       "      <td>0</td>\n",
       "      <td>0</td>\n",
       "    </tr>\n",
       "    <tr>\n",
       "      <th>5</th>\n",
       "      <td>1.784187</td>\n",
       "      <td>-1.214545</td>\n",
       "      <td>-0.236825</td>\n",
       "      <td>-1.949722</td>\n",
       "      <td>1.094383</td>\n",
       "      <td>1.294482</td>\n",
       "      <td>247.0</td>\n",
       "      <td>0</td>\n",
       "      <td>0</td>\n",
       "      <td>0</td>\n",
       "      <td>...</td>\n",
       "      <td>0</td>\n",
       "      <td>0</td>\n",
       "      <td>0</td>\n",
       "      <td>0</td>\n",
       "      <td>0</td>\n",
       "      <td>1</td>\n",
       "      <td>0</td>\n",
       "      <td>0</td>\n",
       "      <td>0</td>\n",
       "      <td>0</td>\n",
       "    </tr>\n",
       "    <tr>\n",
       "      <th>6</th>\n",
       "      <td>-0.516777</td>\n",
       "      <td>0.454355</td>\n",
       "      <td>-1.815116</td>\n",
       "      <td>-0.048272</td>\n",
       "      <td>-0.859193</td>\n",
       "      <td>-0.261377</td>\n",
       "      <td>225.0</td>\n",
       "      <td>0</td>\n",
       "      <td>0</td>\n",
       "      <td>0</td>\n",
       "      <td>...</td>\n",
       "      <td>0</td>\n",
       "      <td>0</td>\n",
       "      <td>0</td>\n",
       "      <td>0</td>\n",
       "      <td>0</td>\n",
       "      <td>0</td>\n",
       "      <td>0</td>\n",
       "      <td>1</td>\n",
       "      <td>0</td>\n",
       "      <td>0</td>\n",
       "    </tr>\n",
       "    <tr>\n",
       "      <th>7</th>\n",
       "      <td>-1.092018</td>\n",
       "      <td>1.050391</td>\n",
       "      <td>-0.868141</td>\n",
       "      <td>0.163000</td>\n",
       "      <td>-1.127810</td>\n",
       "      <td>-1.323914</td>\n",
       "      <td>102.0</td>\n",
       "      <td>0</td>\n",
       "      <td>1</td>\n",
       "      <td>0</td>\n",
       "      <td>...</td>\n",
       "      <td>0</td>\n",
       "      <td>0</td>\n",
       "      <td>0</td>\n",
       "      <td>0</td>\n",
       "      <td>0</td>\n",
       "      <td>0</td>\n",
       "      <td>0</td>\n",
       "      <td>0</td>\n",
       "      <td>0</td>\n",
       "      <td>0</td>\n",
       "    </tr>\n",
       "    <tr>\n",
       "      <th>11</th>\n",
       "      <td>-0.516777</td>\n",
       "      <td>1.527220</td>\n",
       "      <td>-1.025970</td>\n",
       "      <td>0.479908</td>\n",
       "      <td>-1.933660</td>\n",
       "      <td>-0.375220</td>\n",
       "      <td>43.0</td>\n",
       "      <td>0</td>\n",
       "      <td>0</td>\n",
       "      <td>0</td>\n",
       "      <td>...</td>\n",
       "      <td>0</td>\n",
       "      <td>0</td>\n",
       "      <td>0</td>\n",
       "      <td>0</td>\n",
       "      <td>0</td>\n",
       "      <td>0</td>\n",
       "      <td>0</td>\n",
       "      <td>1</td>\n",
       "      <td>0</td>\n",
       "      <td>0</td>\n",
       "    </tr>\n",
       "  </tbody>\n",
       "</table>\n",
       "<p>5 rows × 25 columns</p>\n",
       "</div>"
      ],
      "text/plain": [
       "        40yd  Vertical     Bench  Broad Jump     3Cone   Shuttle  overall  \\\n",
       "4  -1.092018  0.454355 -0.710312    0.479908 -0.590576 -0.944437    125.0   \n",
       "5   1.784187 -1.214545 -0.236825   -1.949722  1.094383  1.294482    247.0   \n",
       "6  -0.516777  0.454355 -1.815116   -0.048272 -0.859193 -0.261377    225.0   \n",
       "7  -1.092018  1.050391 -0.868141    0.163000 -1.127810 -1.323914    102.0   \n",
       "11 -0.516777  1.527220 -1.025970    0.479908 -1.933660 -0.375220     43.0   \n",
       "\n",
       "    Pos_C  Pos_CB  Pos_DB  ...  Pos_ILB  Pos_LB  Pos_OG  Pos_OL  Pos_OLB  \\\n",
       "4       0       1       0  ...        0       0       0       0        0   \n",
       "5       0       0       0  ...        0       0       0       0        0   \n",
       "6       0       0       0  ...        0       0       0       0        0   \n",
       "7       0       1       0  ...        0       0       0       0        0   \n",
       "11      0       0       0  ...        0       0       0       0        0   \n",
       "\n",
       "    Pos_OT  Pos_RB  Pos_S  Pos_TE  Pos_WR  \n",
       "4        0       0      0       0       0  \n",
       "5        1       0      0       0       0  \n",
       "6        0       0      1       0       0  \n",
       "7        0       0      0       0       0  \n",
       "11       0       0      1       0       0  \n",
       "\n",
       "[5 rows x 25 columns]"
      ]
     },
     "execution_count": 43,
     "metadata": {},
     "output_type": "execute_result"
    }
   ],
   "source": [
    "final_combine_data = pd.get_dummies(final_scaled_combine_data, columns=['Pos'])\n",
    "final_combine_data.head()"
   ]
  },
  {
   "cell_type": "markdown",
   "id": "8bac8f5c346429fc",
   "metadata": {
    "collapsed": false
   },
   "source": [
    "# Visualizing the Data\n",
    "\n",
    "### 40-Yard Dash"
   ]
  },
  {
   "cell_type": "code",
   "execution_count": 44,
   "id": "8011144e7e298917",
   "metadata": {
    "ExecuteTime": {
     "end_time": "2024-04-12T02:05:07.268852900Z",
     "start_time": "2024-04-12T02:05:03.303623600Z"
    },
    "collapsed": false
   },
   "outputs": [
    {
     "data": {
      "image/png": "[encoded data removed]",
      "text/plain": [
       "<Figure size 640x480 with 1 Axes>"
      ]
     },
     "metadata": {},
     "output_type": "display_data"
    },
    {
     "data": {
      "image/png": "[encoded data removed]",
      "text/plain": [
       "<Figure size 640x480 with 1 Axes>"
      ]
     },
     "metadata": {},
     "output_type": "display_data"
    },
    {
     "data": {
      "image/png": "[encoded data removed]",
      "text/plain": [
       "<Figure size 640x480 with 1 Axes>"
      ]
     },
     "metadata": {},
     "output_type": "display_data"
    },
    {
     "data": {
      "image/png": "[encoded data removed]",
      "text/plain": [
       "<Figure size 640x480 with 1 Axes>"
      ]
     },
     "metadata": {},
     "output_type": "display_data"
    },
    {
     "data": {
      "image/png": "[encoded data removed]",
      "text/plain": [
       "<Figure size 640x480 with 1 Axes>"
      ]
     },
     "metadata": {},
     "output_type": "display_data"
    },
    {
     "data": {
      "image/png": "[encoded data removed]",
      "text/plain": [
       "<Figure size 640x480 with 1 Axes>"
      ]
     },
     "metadata": {},
     "output_type": "display_data"
    },
    {
     "data": {
      "text/plain": [
       "<Figure size 640x480 with 0 Axes>"
      ]
     },
     "metadata": {},
     "output_type": "display_data"
    }
   ],
   "source": [
    "forty_dash = merged_df.dropna(subset=['40yd'])\n",
    "# sns.scatterplot(data=merged_df, x='overall', y='40yd')\n",
    "# print(forty_dash['Pos'].unique())\n",
    "for drill in drills:\n",
    "    drill_df = merged_df.dropna(subset=[drill])\n",
    "    sns.boxplot(data=drill_df, x='Pos', y=drill)\n",
    "    plt.title(\"Position Based \" + drill + \" Score\")\n",
    "    plt.show()\n",
    "    plt.clf()"
   ]
  },
  {
   "cell_type": "code",
   "execution_count": 96,
   "id": "19984c6d",
   "metadata": {},
   "outputs": [
    {
     "data": {
      "image/png": "[encoded data removed]",
      "text/plain": [
       "<Figure size 640x480 with 1 Axes>"
      ]
     },
     "metadata": {},
     "output_type": "display_data"
    }
   ],
   "source": [
    "sns.boxplot(data=merged_df, x='Pos', y='overall')\n",
    "plt.title(\"Draft Overall Per Position\")\n",
    "plt.xlabel('Position')\n",
    "plt.ylabel('Overall')\n",
    "plt.show()"
   ]
  },
  {
   "cell_type": "markdown",
   "id": "ed9697c90b242f6a",
   "metadata": {
    "collapsed": false
   },
   "source": [
    "### See if Data is normally distributed"
   ]
  },
  {
   "cell_type": "code",
   "execution_count": 45,
   "id": "2dc96fb3c3df13de",
   "metadata": {
    "ExecuteTime": {
     "end_time": "2024-04-12T02:05:07.376388500Z",
     "start_time": "2024-04-12T02:05:07.274860Z"
    },
    "collapsed": false
   },
   "outputs": [
    {
     "name": "stdout",
     "output_type": "stream",
     "text": [
      "Position: OL at Drill: 40yd is NOT normally distributed\n",
      "Position: RB at Drill: Vertical is NOT normally distributed\n",
      "Position: LB at Drill: Vertical is NOT normally distributed\n",
      "Position: DB at Drill: Vertical is NOT normally distributed\n",
      "Position: CB at Drill: Bench is NOT normally distributed\n",
      "Position: ILB at Drill: Bench is NOT normally distributed\n",
      "Position: DE at Drill: Bench is NOT normally distributed\n",
      "Position: FB at Drill: Bench is NOT normally distributed\n",
      "Position: TE at Drill: Broad Jump is NOT normally distributed\n",
      "Position: LB at Drill: Broad Jump is NOT normally distributed\n",
      "Position: OG at Drill: 3Cone is NOT normally distributed\n",
      "Position: RB at Drill: 3Cone is NOT normally distributed\n",
      "Position: FB at Drill: 3Cone is NOT normally distributed\n",
      "Position: TE at Drill: 3Cone is NOT normally distributed\n",
      "Position: C at Drill: 3Cone is NOT normally distributed\n",
      "Position: LB at Drill: 3Cone is NOT normally distributed\n",
      "Position: DB at Drill: 3Cone is NOT normally distributed\n",
      "Position: CB at Drill: Shuttle is NOT normally distributed\n",
      "Position: DE at Drill: Shuttle is NOT normally distributed\n",
      "Position: RB at Drill: Shuttle is NOT normally distributed\n"
     ]
    }
   ],
   "source": [
    "alpha = 0.05\n",
    "for drill in drills:\n",
    "    drill_df = merged_df.dropna(subset=[drill])\n",
    "    for pos in filtered_positions:\n",
    "        pos_df = drill_df[drill_df['Pos'] == pos]\n",
    "        statistic, p_value = shapiro(pos_df[drill])\n",
    "        if p_value < alpha:\n",
    "            print(\"Position: \" + pos + \" at Drill: \" + drill + \" is NOT normally distributed\")"
   ]
  },
  {
   "cell_type": "markdown",
   "id": "37b6038c4dff2651",
   "metadata": {
    "collapsed": false
   },
   "source": [
    "### Many Positions have non uniform distributions of drills\n",
    "It is wise to Use Kruskal-Wallis test knowing this. Anova testing requires for data to be uniform"
   ]
  },
  {
   "cell_type": "code",
   "execution_count": 45,
   "id": "173bc4ee4cb9fd6a",
   "metadata": {
    "ExecuteTime": {
     "end_time": "2024-04-12T02:05:07.389890900Z",
     "start_time": "2024-04-12T02:05:07.376388500Z"
    },
    "collapsed": false
   },
   "outputs": [],
   "source": [
    "kruskal_tests = []\n",
    "kruskal_head = ['Drill', 'Stat', 'P Value']\n",
    "for drill in drills:\n",
    "    drill_df = merged_df.dropna(subset=[drill])\n",
    "    samples_by_group = []\n",
    "    for value in set(drill_df[drill]):\n",
    "        mask = drill_df[drill] == value\n",
    "        samples_by_group.append(drill_df['Pos'][mask]) \n",
    "    stat, p = kruskal(*samples_by_group)\n",
    "    kruskal_tests.append([drill, stat, p])\n",
    "print(tabulate(kruskal_tests, headers=kruskal_head, tablefmt=\"grid\"))"
   ]
  },
  {
   "cell_type": "markdown",
   "id": "48b3be4bf7b8ba04",
   "metadata": {
    "collapsed": false
   },
   "source": [
    "### Analyzing P-Values of Kruskal-Wallis Test\n",
    "Since all the p-values for each drill using the Kruskal-Wallis test are less than the level of significance (0.05), the null hypothesis for each drill is rejected. So, for each drill, the median values for each position based on drill are not equal "
   ]
  },
  {
   "cell_type": "code",
   "execution_count": 46,
   "id": "5622e4cc9964ac77",
   "metadata": {
    "ExecuteTime": {
     "end_time": "2024-04-12T02:05:07.390415600Z",
     "start_time": "2024-04-12T02:05:07.383878200Z"
    },
    "collapsed": false
   },
   "outputs": [],
   "source": [
    "## DO NOT DELETE CODE. VERY IMPORTANT FOR OVERALL RAS SCORE LATER\n",
    "\n",
    "\n",
    "# sns.scatterplot(data=forty_dash[forty_dash['Pos'] == pos], x='overall', y='40yd')\n",
    "# sns.boxplot(data=forty_dash, x='Pos', y='40yd')\n",
    "# plt.title(pos + \" 40yd Dash Times\")\n",
    "# plt.show()\n",
    "# plt.clf()"
   ]
  },
  {
   "cell_type": "code",
   "execution_count": 46,
   "id": "2983733f175dd0ed",
   "metadata": {
    "ExecuteTime": {
     "end_time": "2024-04-12T02:05:07.405446400Z",
     "start_time": "2024-04-12T02:05:07.392433500Z"
    },
    "collapsed": false
   },
   "outputs": [],
   "source": []
  },
  {
   "cell_type": "code",
   "execution_count": 46,
   "id": "4f67be63926abd62",
   "metadata": {
    "ExecuteTime": {
     "end_time": "2024-04-12T02:05:07.405446400Z",
     "start_time": "2024-04-12T02:05:07.398818700Z"
    },
    "collapsed": false
   },
   "outputs": [],
   "source": []
  },
  {
   "cell_type": "code",
   "execution_count": 46,
   "id": "bdeb573a1218e8d5",
   "metadata": {
    "ExecuteTime": {
     "end_time": "2024-04-12T02:05:07.468057500Z",
     "start_time": "2024-04-12T02:05:07.406462500Z"
    },
    "collapsed": false
   },
   "outputs": [],
   "source": []
  },
  {
   "cell_type": "code",
   "execution_count": 46,
   "id": "95eb752235e6dad3",
   "metadata": {
    "ExecuteTime": {
     "end_time": "2024-04-12T02:05:07.484043100Z",
     "start_time": "2024-04-12T02:05:07.412379400Z"
    },
    "collapsed": false
   },
   "outputs": [],
   "source": []
  },
  {
   "cell_type": "code",
   "execution_count": 46,
   "id": "552cac82762d6621",
   "metadata": {
    "ExecuteTime": {
     "end_time": "2024-04-12T02:05:07.486042900Z",
     "start_time": "2024-04-12T02:05:07.424481900Z"
    },
    "collapsed": false
   },
   "outputs": [],
   "source": []
  },
  {
   "cell_type": "code",
   "execution_count": 46,
   "id": "b2be1173b59ae705",
   "metadata": {
    "ExecuteTime": {
     "end_time": "2024-04-12T02:05:07.486042900Z",
     "start_time": "2024-04-12T02:05:07.433670300Z"
    },
    "collapsed": false
   },
   "outputs": [],
   "source": []
  },
  {
   "cell_type": "code",
   "execution_count": 46,
   "id": "9e1c5dd1ad8fa496",
   "metadata": {
    "ExecuteTime": {
     "end_time": "2024-04-12T02:05:07.486042900Z",
     "start_time": "2024-04-12T02:05:07.439195600Z"
    },
    "collapsed": false
   },
   "outputs": [],
   "source": []
  }
 ],
 "metadata": {
  "kernelspec": {
   "display_name": "Python 3",
   "language": "python",
   "name": "python3"
  },
  "language_info": {
   "codemirror_mode": {
    "name": "ipython",
    "version": 3
   },
   "file_extension": ".py",
   "mimetype": "text/x-python",
   "name": "python",
   "nbconvert_exporter": "python",
   "pygments_lexer": "ipython3",
   "version": "3.11.5"
  }
 },
 "nbformat": 4,
 "nbformat_minor": 5
}
