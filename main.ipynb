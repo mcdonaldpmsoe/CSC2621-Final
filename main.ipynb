{
 "cells": [
  {
   "cell_type": "code",
   "execution_count": 21,
   "id": "initial_id",
   "metadata": {
    "collapsed": true,
    "ExecuteTime": {
     "end_time": "2024-02-27T17:46:07.240509200Z",
     "start_time": "2024-02-27T17:46:07.234506200Z"
    }
   },
   "outputs": [],
   "source": [
    "import pandas as pd\n",
    "import glob"
   ]
  },
  {
   "cell_type": "code",
   "execution_count": 15,
   "outputs": [],
   "source": [
    "csv_files = glob.glob('./combine-data/*.csv')\n",
    "draft_df = pd.read_csv('./draft-data/nfl_draft_prospects.csv')\n",
    "comb_df = pd.DataFrame()\n",
    "\n",
    "for file in csv_files:\n",
    "    df = pd.read_csv(file)\n",
    "    comb_df = pd.concat([comb_df, df])\n",
    "\n",
    "select_df = draft_df[['draft_year', 'player_name', 'school', 'pick', 'overall', 'round']]"
   ],
   "metadata": {
    "collapsed": false,
    "ExecuteTime": {
     "end_time": "2024-02-27T17:41:26.587144500Z",
     "start_time": "2024-02-27T17:41:26.466702400Z"
    }
   },
   "id": "3479e62aae655cc1"
  },
  {
   "cell_type": "code",
   "execution_count": 19,
   "outputs": [],
   "source": [
    "merged_df = pd.merge(comb_df, select_df, left_on='Player', right_on='player_name', how='inner')"
   ],
   "metadata": {
    "collapsed": false,
    "ExecuteTime": {
     "end_time": "2024-02-27T17:43:34.839922800Z",
     "start_time": "2024-02-27T17:43:34.824503600Z"
    }
   },
   "id": "71ce76ab60264d76"
  },
  {
   "cell_type": "code",
   "execution_count": 24,
   "outputs": [
    {
     "data": {
      "text/plain": "             Player  Pos          School    Ht     Wt  40yd  Vertical  Bench  \\\n0      John Abraham  OLB  South Carolina   6-4  252.0  4.55       NaN    NaN   \n1   Shaun Alexander   RB         Alabama   6-0  218.0  4.58       NaN    NaN   \n2    Darnell Alford   OT     Boston Col.   6-4  334.0  5.56      25.0   23.0   \n3      Kyle Allamon   TE      Texas Tech   6-2  253.0  4.97      29.0    NaN   \n4  Rashard Anderson   CB   Jackson State   6-2  206.0  4.55      34.0    NaN   \n5       Jake Arians    K  Ala-Birmingham  5-10  202.0   NaN       NaN    NaN   \n6   LaVar Arrington  OLB      Penn State   6-3  250.0  4.53       NaN    NaN   \n7      Corey Atkins  OLB  South Carolina   6-0  237.0  4.72      31.0   21.0   \n8    Kyle Atteberry    K          Baylor   6-0  167.0   NaN       NaN    NaN   \n9     Reggie Austin   CB     Wake Forest   5-9  175.0  4.44      35.0   17.0   \n\n   Broad Jump  3Cone  Shuttle  \n0         NaN    NaN      NaN  \n1         NaN    NaN      NaN  \n2        94.0   8.48     4.98  \n3       104.0   7.29     4.49  \n4       123.0   7.18     4.15  \n5         NaN    NaN      NaN  \n6         NaN    NaN      NaN  \n7       112.0   7.96     4.39  \n8         NaN    NaN      NaN  \n9       119.0   7.03     4.14  ",
      "text/html": "<div>\n<style scoped>\n    .dataframe tbody tr th:only-of-type {\n        vertical-align: middle;\n    }\n\n    .dataframe tbody tr th {\n        vertical-align: top;\n    }\n\n    .dataframe thead th {\n        text-align: right;\n    }\n</style>\n<table border=\"1\" class=\"dataframe\">\n  <thead>\n    <tr style=\"text-align: right;\">\n      <th></th>\n      <th>Player</th>\n      <th>Pos</th>\n      <th>School</th>\n      <th>Ht</th>\n      <th>Wt</th>\n      <th>40yd</th>\n      <th>Vertical</th>\n      <th>Bench</th>\n      <th>Broad Jump</th>\n      <th>3Cone</th>\n      <th>Shuttle</th>\n    </tr>\n  </thead>\n  <tbody>\n    <tr>\n      <th>0</th>\n      <td>John Abraham</td>\n      <td>OLB</td>\n      <td>South Carolina</td>\n      <td>6-4</td>\n      <td>252.0</td>\n      <td>4.55</td>\n      <td>NaN</td>\n      <td>NaN</td>\n      <td>NaN</td>\n      <td>NaN</td>\n      <td>NaN</td>\n    </tr>\n    <tr>\n      <th>1</th>\n      <td>Shaun Alexander</td>\n      <td>RB</td>\n      <td>Alabama</td>\n      <td>6-0</td>\n      <td>218.0</td>\n      <td>4.58</td>\n      <td>NaN</td>\n      <td>NaN</td>\n      <td>NaN</td>\n      <td>NaN</td>\n      <td>NaN</td>\n    </tr>\n    <tr>\n      <th>2</th>\n      <td>Darnell Alford</td>\n      <td>OT</td>\n      <td>Boston Col.</td>\n      <td>6-4</td>\n      <td>334.0</td>\n      <td>5.56</td>\n      <td>25.0</td>\n      <td>23.0</td>\n      <td>94.0</td>\n      <td>8.48</td>\n      <td>4.98</td>\n    </tr>\n    <tr>\n      <th>3</th>\n      <td>Kyle Allamon</td>\n      <td>TE</td>\n      <td>Texas Tech</td>\n      <td>6-2</td>\n      <td>253.0</td>\n      <td>4.97</td>\n      <td>29.0</td>\n      <td>NaN</td>\n      <td>104.0</td>\n      <td>7.29</td>\n      <td>4.49</td>\n    </tr>\n    <tr>\n      <th>4</th>\n      <td>Rashard Anderson</td>\n      <td>CB</td>\n      <td>Jackson State</td>\n      <td>6-2</td>\n      <td>206.0</td>\n      <td>4.55</td>\n      <td>34.0</td>\n      <td>NaN</td>\n      <td>123.0</td>\n      <td>7.18</td>\n      <td>4.15</td>\n    </tr>\n    <tr>\n      <th>5</th>\n      <td>Jake Arians</td>\n      <td>K</td>\n      <td>Ala-Birmingham</td>\n      <td>5-10</td>\n      <td>202.0</td>\n      <td>NaN</td>\n      <td>NaN</td>\n      <td>NaN</td>\n      <td>NaN</td>\n      <td>NaN</td>\n      <td>NaN</td>\n    </tr>\n    <tr>\n      <th>6</th>\n      <td>LaVar Arrington</td>\n      <td>OLB</td>\n      <td>Penn State</td>\n      <td>6-3</td>\n      <td>250.0</td>\n      <td>4.53</td>\n      <td>NaN</td>\n      <td>NaN</td>\n      <td>NaN</td>\n      <td>NaN</td>\n      <td>NaN</td>\n    </tr>\n    <tr>\n      <th>7</th>\n      <td>Corey Atkins</td>\n      <td>OLB</td>\n      <td>South Carolina</td>\n      <td>6-0</td>\n      <td>237.0</td>\n      <td>4.72</td>\n      <td>31.0</td>\n      <td>21.0</td>\n      <td>112.0</td>\n      <td>7.96</td>\n      <td>4.39</td>\n    </tr>\n    <tr>\n      <th>8</th>\n      <td>Kyle Atteberry</td>\n      <td>K</td>\n      <td>Baylor</td>\n      <td>6-0</td>\n      <td>167.0</td>\n      <td>NaN</td>\n      <td>NaN</td>\n      <td>NaN</td>\n      <td>NaN</td>\n      <td>NaN</td>\n      <td>NaN</td>\n    </tr>\n    <tr>\n      <th>9</th>\n      <td>Reggie Austin</td>\n      <td>CB</td>\n      <td>Wake Forest</td>\n      <td>5-9</td>\n      <td>175.0</td>\n      <td>4.44</td>\n      <td>35.0</td>\n      <td>17.0</td>\n      <td>119.0</td>\n      <td>7.03</td>\n      <td>4.14</td>\n    </tr>\n  </tbody>\n</table>\n</div>"
     },
     "execution_count": 24,
     "metadata": {},
     "output_type": "execute_result"
    }
   ],
   "source": [
    "comb_df.head(10)"
   ],
   "metadata": {
    "collapsed": false,
    "ExecuteTime": {
     "end_time": "2024-02-27T17:48:39.765574700Z",
     "start_time": "2024-02-27T17:48:39.744767Z"
    }
   },
   "id": "79e220670f16a2ec"
  },
  {
   "cell_type": "code",
   "execution_count": 22,
   "outputs": [
    {
     "data": {
      "text/plain": "   draft_year      player_name          school  pick  overall  round\n0        1967      Bubba Smith  Michigan State   1.0      1.0    1.0\n1        1967    Clinton Jones  Michigan State   2.0      2.0    1.0\n2        1967   Steve Spurrier         Florida   3.0      3.0    1.0\n3        1967       Bob Griese          Purdue   4.0      4.0    1.0\n4        1967   George Webster  Michigan State   5.0      5.0    1.0\n5        1967     Floyd Little        Syracuse   6.0      6.0    1.0\n6        1967         Mel Farr            UCLA   7.0      7.0    1.0\n7        1967  Gene Washington  Michigan State   8.0      8.0    1.0\n8        1967       Bob Hyland  Boston College   9.0      9.0    1.0\n9        1967    Loyd Phillips        Arkansas  10.0     10.0    1.0",
      "text/html": "<div>\n<style scoped>\n    .dataframe tbody tr th:only-of-type {\n        vertical-align: middle;\n    }\n\n    .dataframe tbody tr th {\n        vertical-align: top;\n    }\n\n    .dataframe thead th {\n        text-align: right;\n    }\n</style>\n<table border=\"1\" class=\"dataframe\">\n  <thead>\n    <tr style=\"text-align: right;\">\n      <th></th>\n      <th>draft_year</th>\n      <th>player_name</th>\n      <th>school</th>\n      <th>pick</th>\n      <th>overall</th>\n      <th>round</th>\n    </tr>\n  </thead>\n  <tbody>\n    <tr>\n      <th>0</th>\n      <td>1967</td>\n      <td>Bubba Smith</td>\n      <td>Michigan State</td>\n      <td>1.0</td>\n      <td>1.0</td>\n      <td>1.0</td>\n    </tr>\n    <tr>\n      <th>1</th>\n      <td>1967</td>\n      <td>Clinton Jones</td>\n      <td>Michigan State</td>\n      <td>2.0</td>\n      <td>2.0</td>\n      <td>1.0</td>\n    </tr>\n    <tr>\n      <th>2</th>\n      <td>1967</td>\n      <td>Steve Spurrier</td>\n      <td>Florida</td>\n      <td>3.0</td>\n      <td>3.0</td>\n      <td>1.0</td>\n    </tr>\n    <tr>\n      <th>3</th>\n      <td>1967</td>\n      <td>Bob Griese</td>\n      <td>Purdue</td>\n      <td>4.0</td>\n      <td>4.0</td>\n      <td>1.0</td>\n    </tr>\n    <tr>\n      <th>4</th>\n      <td>1967</td>\n      <td>George Webster</td>\n      <td>Michigan State</td>\n      <td>5.0</td>\n      <td>5.0</td>\n      <td>1.0</td>\n    </tr>\n    <tr>\n      <th>5</th>\n      <td>1967</td>\n      <td>Floyd Little</td>\n      <td>Syracuse</td>\n      <td>6.0</td>\n      <td>6.0</td>\n      <td>1.0</td>\n    </tr>\n    <tr>\n      <th>6</th>\n      <td>1967</td>\n      <td>Mel Farr</td>\n      <td>UCLA</td>\n      <td>7.0</td>\n      <td>7.0</td>\n      <td>1.0</td>\n    </tr>\n    <tr>\n      <th>7</th>\n      <td>1967</td>\n      <td>Gene Washington</td>\n      <td>Michigan State</td>\n      <td>8.0</td>\n      <td>8.0</td>\n      <td>1.0</td>\n    </tr>\n    <tr>\n      <th>8</th>\n      <td>1967</td>\n      <td>Bob Hyland</td>\n      <td>Boston College</td>\n      <td>9.0</td>\n      <td>9.0</td>\n      <td>1.0</td>\n    </tr>\n    <tr>\n      <th>9</th>\n      <td>1967</td>\n      <td>Loyd Phillips</td>\n      <td>Arkansas</td>\n      <td>10.0</td>\n      <td>10.0</td>\n      <td>1.0</td>\n    </tr>\n  </tbody>\n</table>\n</div>"
     },
     "execution_count": 22,
     "metadata": {},
     "output_type": "execute_result"
    }
   ],
   "source": [
    "select_df.head(10)"
   ],
   "metadata": {
    "collapsed": false,
    "ExecuteTime": {
     "end_time": "2024-02-27T17:46:41.925922600Z",
     "start_time": "2024-02-27T17:46:41.919235200Z"
    }
   },
   "id": "ce934d74856df631"
  },
  {
   "cell_type": "code",
   "execution_count": 23,
   "outputs": [
    {
     "data": {
      "text/plain": "             Player  Pos          School    Ht     Wt  40yd  Vertical  Bench  \\\n0      John Abraham  OLB  South Carolina   6-4  252.0  4.55       NaN    NaN   \n1   Shaun Alexander   RB         Alabama   6-0  218.0  4.58       NaN    NaN   \n2    Darnell Alford   OT     Boston Col.   6-4  334.0  5.56      25.0   23.0   \n3  Rashard Anderson   CB   Jackson State   6-2  206.0  4.55      34.0    NaN   \n4   LaVar Arrington  OLB      Penn State   6-3  250.0  4.53       NaN    NaN   \n5     Reggie Austin   CB     Wake Forest   5-9  175.0  4.44      35.0   17.0   \n6    Mark Baniewicz   OT        Syracuse   6-6  312.0  5.34      28.0   20.0   \n7    Rashidi Barnes    S        Colorado   6-0  208.0  4.62      35.0   10.0   \n8     David Barrett   CB        Arkansas  5-10  199.0  4.44      37.5   16.0   \n9    William Bartee   CB        Oklahoma   6-1  192.0  4.43      38.5    NaN   \n\n   Broad Jump  3Cone  Shuttle  draft_year       player_name          school  \\\n0         NaN    NaN      NaN        2000      John Abraham  South Carolina   \n1         NaN    NaN      NaN        2000   Shaun Alexander         Alabama   \n2        94.0   8.48     4.98        2000    Darnell Alford  Boston College   \n3       123.0   7.18     4.15        2000  Rashard Anderson   Jackson State   \n4         NaN    NaN      NaN        2000   LaVar Arrington      Penn State   \n5       119.0   7.03     4.14        2000     Reggie Austin     Wake Forest   \n6        96.0   7.72     4.73        2000    Mark Baniewicz        Syracuse   \n7       114.0   6.92     4.32        2000    Rashidi Barnes        Colorado   \n8       116.0   6.81     4.04        2000     David Barrett        Arkansas   \n9       124.0   6.70     3.99        2000    William Bartee        Oklahoma   \n\n   pick  overall  round  \n0  13.0     13.0    1.0  \n1  19.0     19.0    1.0  \n2  22.0    188.0    6.0  \n3  23.0     23.0    1.0  \n4   2.0      2.0    1.0  \n5  31.0    125.0    4.0  \n6  41.0    247.0    7.0  \n7  19.0    225.0    7.0  \n8   8.0    102.0    4.0  \n9  23.0     54.0    2.0  ",
      "text/html": "<div>\n<style scoped>\n    .dataframe tbody tr th:only-of-type {\n        vertical-align: middle;\n    }\n\n    .dataframe tbody tr th {\n        vertical-align: top;\n    }\n\n    .dataframe thead th {\n        text-align: right;\n    }\n</style>\n<table border=\"1\" class=\"dataframe\">\n  <thead>\n    <tr style=\"text-align: right;\">\n      <th></th>\n      <th>Player</th>\n      <th>Pos</th>\n      <th>School</th>\n      <th>Ht</th>\n      <th>Wt</th>\n      <th>40yd</th>\n      <th>Vertical</th>\n      <th>Bench</th>\n      <th>Broad Jump</th>\n      <th>3Cone</th>\n      <th>Shuttle</th>\n      <th>draft_year</th>\n      <th>player_name</th>\n      <th>school</th>\n      <th>pick</th>\n      <th>overall</th>\n      <th>round</th>\n    </tr>\n  </thead>\n  <tbody>\n    <tr>\n      <th>0</th>\n      <td>John Abraham</td>\n      <td>OLB</td>\n      <td>South Carolina</td>\n      <td>6-4</td>\n      <td>252.0</td>\n      <td>4.55</td>\n      <td>NaN</td>\n      <td>NaN</td>\n      <td>NaN</td>\n      <td>NaN</td>\n      <td>NaN</td>\n      <td>2000</td>\n      <td>John Abraham</td>\n      <td>South Carolina</td>\n      <td>13.0</td>\n      <td>13.0</td>\n      <td>1.0</td>\n    </tr>\n    <tr>\n      <th>1</th>\n      <td>Shaun Alexander</td>\n      <td>RB</td>\n      <td>Alabama</td>\n      <td>6-0</td>\n      <td>218.0</td>\n      <td>4.58</td>\n      <td>NaN</td>\n      <td>NaN</td>\n      <td>NaN</td>\n      <td>NaN</td>\n      <td>NaN</td>\n      <td>2000</td>\n      <td>Shaun Alexander</td>\n      <td>Alabama</td>\n      <td>19.0</td>\n      <td>19.0</td>\n      <td>1.0</td>\n    </tr>\n    <tr>\n      <th>2</th>\n      <td>Darnell Alford</td>\n      <td>OT</td>\n      <td>Boston Col.</td>\n      <td>6-4</td>\n      <td>334.0</td>\n      <td>5.56</td>\n      <td>25.0</td>\n      <td>23.0</td>\n      <td>94.0</td>\n      <td>8.48</td>\n      <td>4.98</td>\n      <td>2000</td>\n      <td>Darnell Alford</td>\n      <td>Boston College</td>\n      <td>22.0</td>\n      <td>188.0</td>\n      <td>6.0</td>\n    </tr>\n    <tr>\n      <th>3</th>\n      <td>Rashard Anderson</td>\n      <td>CB</td>\n      <td>Jackson State</td>\n      <td>6-2</td>\n      <td>206.0</td>\n      <td>4.55</td>\n      <td>34.0</td>\n      <td>NaN</td>\n      <td>123.0</td>\n      <td>7.18</td>\n      <td>4.15</td>\n      <td>2000</td>\n      <td>Rashard Anderson</td>\n      <td>Jackson State</td>\n      <td>23.0</td>\n      <td>23.0</td>\n      <td>1.0</td>\n    </tr>\n    <tr>\n      <th>4</th>\n      <td>LaVar Arrington</td>\n      <td>OLB</td>\n      <td>Penn State</td>\n      <td>6-3</td>\n      <td>250.0</td>\n      <td>4.53</td>\n      <td>NaN</td>\n      <td>NaN</td>\n      <td>NaN</td>\n      <td>NaN</td>\n      <td>NaN</td>\n      <td>2000</td>\n      <td>LaVar Arrington</td>\n      <td>Penn State</td>\n      <td>2.0</td>\n      <td>2.0</td>\n      <td>1.0</td>\n    </tr>\n    <tr>\n      <th>5</th>\n      <td>Reggie Austin</td>\n      <td>CB</td>\n      <td>Wake Forest</td>\n      <td>5-9</td>\n      <td>175.0</td>\n      <td>4.44</td>\n      <td>35.0</td>\n      <td>17.0</td>\n      <td>119.0</td>\n      <td>7.03</td>\n      <td>4.14</td>\n      <td>2000</td>\n      <td>Reggie Austin</td>\n      <td>Wake Forest</td>\n      <td>31.0</td>\n      <td>125.0</td>\n      <td>4.0</td>\n    </tr>\n    <tr>\n      <th>6</th>\n      <td>Mark Baniewicz</td>\n      <td>OT</td>\n      <td>Syracuse</td>\n      <td>6-6</td>\n      <td>312.0</td>\n      <td>5.34</td>\n      <td>28.0</td>\n      <td>20.0</td>\n      <td>96.0</td>\n      <td>7.72</td>\n      <td>4.73</td>\n      <td>2000</td>\n      <td>Mark Baniewicz</td>\n      <td>Syracuse</td>\n      <td>41.0</td>\n      <td>247.0</td>\n      <td>7.0</td>\n    </tr>\n    <tr>\n      <th>7</th>\n      <td>Rashidi Barnes</td>\n      <td>S</td>\n      <td>Colorado</td>\n      <td>6-0</td>\n      <td>208.0</td>\n      <td>4.62</td>\n      <td>35.0</td>\n      <td>10.0</td>\n      <td>114.0</td>\n      <td>6.92</td>\n      <td>4.32</td>\n      <td>2000</td>\n      <td>Rashidi Barnes</td>\n      <td>Colorado</td>\n      <td>19.0</td>\n      <td>225.0</td>\n      <td>7.0</td>\n    </tr>\n    <tr>\n      <th>8</th>\n      <td>David Barrett</td>\n      <td>CB</td>\n      <td>Arkansas</td>\n      <td>5-10</td>\n      <td>199.0</td>\n      <td>4.44</td>\n      <td>37.5</td>\n      <td>16.0</td>\n      <td>116.0</td>\n      <td>6.81</td>\n      <td>4.04</td>\n      <td>2000</td>\n      <td>David Barrett</td>\n      <td>Arkansas</td>\n      <td>8.0</td>\n      <td>102.0</td>\n      <td>4.0</td>\n    </tr>\n    <tr>\n      <th>9</th>\n      <td>William Bartee</td>\n      <td>CB</td>\n      <td>Oklahoma</td>\n      <td>6-1</td>\n      <td>192.0</td>\n      <td>4.43</td>\n      <td>38.5</td>\n      <td>NaN</td>\n      <td>124.0</td>\n      <td>6.70</td>\n      <td>3.99</td>\n      <td>2000</td>\n      <td>William Bartee</td>\n      <td>Oklahoma</td>\n      <td>23.0</td>\n      <td>54.0</td>\n      <td>2.0</td>\n    </tr>\n  </tbody>\n</table>\n</div>"
     },
     "execution_count": 23,
     "metadata": {},
     "output_type": "execute_result"
    }
   ],
   "source": [
    "merged_df.head(10)"
   ],
   "metadata": {
    "collapsed": false,
    "ExecuteTime": {
     "end_time": "2024-02-27T17:46:45.984067800Z",
     "start_time": "2024-02-27T17:46:45.945930200Z"
    }
   },
   "id": "3be29106ad15473"
  },
  {
   "cell_type": "code",
   "execution_count": null,
   "outputs": [],
   "source": [],
   "metadata": {
    "collapsed": false
   },
   "id": "ce5c325983996ce8"
  },
  {
   "cell_type": "code",
   "execution_count": null,
   "outputs": [],
   "source": [],
   "metadata": {
    "collapsed": false
   },
   "id": "dea7486e8ad1f1fe"
  }
 ],
 "metadata": {
  "kernelspec": {
   "display_name": "Python 3",
   "language": "python",
   "name": "python3"
  },
  "language_info": {
   "codemirror_mode": {
    "name": "ipython",
    "version": 2
   },
   "file_extension": ".py",
   "mimetype": "text/x-python",
   "name": "python",
   "nbconvert_exporter": "python",
   "pygments_lexer": "ipython2",
   "version": "2.7.6"
  }
 },
 "nbformat": 4,
 "nbformat_minor": 5
}
